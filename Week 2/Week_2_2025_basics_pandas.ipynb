{
 "cells": [
  {
   "cell_type": "markdown",
   "id": "GKay1TDpJxUt",
   "metadata": {
    "id": "GKay1TDpJxUt"
   },
   "source": [
    "# Week 2 - The Basics and Pandas\n",
    "\n",
    "The aim of this labsheet is to recap some basics of Python programming and introduce the use of Pandas. If you struggle with this labsheet, please get in touch with the MO and demonstrators to get further support.\n",
    "\n",
    "In this and in every lab script, instructions that you should follow are in **bold**."
   ]
  },
  {
   "cell_type": "markdown",
   "id": "ZoCUFr_4-JKl",
   "metadata": {
    "id": "ZoCUFr_4-JKl"
   },
   "source": [
    "\n",
    "## Index: <a id='index'></a>\n",
    "1. [Jupyter](#Jupyter)\n",
    "1. [Data Types](#types)\n",
    "1. [Functions](#functions)\n",
    "1. [Format strings](#strings)\n",
    "1. [Overview of Pandas](#pandas)\n",
    "1. [Reading Data from Files](#files)"
   ]
  },
  {
   "cell_type": "markdown",
   "id": "k7j8fkGdJxUv",
   "metadata": {
    "id": "k7j8fkGdJxUv"
   },
   "source": [
    "## Introduction to Jupyter [^](#index) <a id='jupyter'></a>\n",
    "\n",
    "Jupyter notebooks are a user-friendly way of running snippets of code and displaying text or graphical results: it's easy to edit your code or to share the results. They are a very convenient way to do initial exploration of a data set or algorithm, although they are *not* necessarily the best way of running a completed program. All of the computer labs will be Jupyter notebooks.\n",
    "\n",
    "The editable boxes you can type code into are called *cells*. To evaluate a cell, simply make sure that the cursor is in the cell (you may need to double-click it) then press `Shift` + `Enter`. As an example, **enter a simple arithmetic operation, say `2 + 2`, into the cell below, and evaluate it:**"
   ]
  },
  {
   "cell_type": "code",
   "execution_count": null,
   "id": "LSC7JMxuJxUw",
   "metadata": {
    "id": "LSC7JMxuJxUw",
    "outputId": "638de7ac-f4c3-49e6-9dc6-53a8d2e538ef"
   },
   "outputs": [],
   "source": [
    "2+2"
   ]
  },
  {
   "cell_type": "markdown",
   "id": "i2J7wCt1JxUy",
   "metadata": {
    "id": "i2J7wCt1JxUy"
   },
   "source": [
    "You will see that this cell now has a number, like `In [1]`, so that you can refer back to it. Jupyter will display the result of the final calculation in a cell: the output from this one, `Out[1]: 4`, will now be displayed beneath it. And your cursor will have been moved forward to the next cell.\n",
    "\n",
    "(You can also type `Ctrl` + `Enter` to run the cell and keep the cursor inside it – perhaps for more editing – or `Alt` + `Enter` to run the cell and insert a new one beneath it. These and many other commands can be found in the *command palette* by clicking the keyboard icon at the top of the page.)"
   ]
  },
  {
   "cell_type": "markdown",
   "id": "l98CiOJ6JxUz",
   "metadata": {
    "id": "l98CiOJ6JxUz"
   },
   "source": [
    "### Help\n",
    "There is a command line help function that enables a programmer to learn about the syntax related to a particular\n",
    "built-in Python command. This is `help()`.\n",
    "\n",
    "Type `help(help)` in the cell below and run the cell. This shows you how to use the help function.\n"
   ]
  },
  {
   "cell_type": "code",
   "execution_count": null,
   "id": "IdnA2IOLJxUz",
   "metadata": {
    "id": "IdnA2IOLJxUz",
    "outputId": "77d042be-e928-4627-8ea9-bd6a792c2855"
   },
   "outputs": [],
   "source": []
  },
  {
   "cell_type": "code",
   "execution_count": null,
   "id": "3uXZ8vD0JxU0",
   "metadata": {
    "id": "3uXZ8vD0JxU0",
    "outputId": "de8cb0a2-4900-4012-be3d-0e1d3de3e6b2"
   },
   "outputs": [],
   "source": [
    "help(list)"
   ]
  },
  {
   "cell_type": "markdown",
   "id": "sfGsdFV9JxU4",
   "metadata": {
    "id": "sfGsdFV9JxU4"
   },
   "source": [
    "### Numbers\n",
    "In mathematics there are different types of number. Programming languages are no different. The following\n",
    "types of number variable exist:\n",
    " - Integer: This includes zero, positive and negative whole numbers without a fractional part.\n",
    " - Float: This includes positive and negative numbers that are not whole numbers. They are represented using a decimal point with digits before and after the decimal point.\n",
    " - Complex: Complex numbers include combination of the sets of real and imaginary numbers. These are represented by two components, the real part denoted by some number and the imaginary part where that number is followed by the symbol j.\n",
    " - Boolean: This is a data type that has value True or False. A non-null variable (non zero number) has a boolean value of True. A null variable or zero valued number has a boolean value of False.\n",
    "\n",
    "Python uses \"duck typing\": variables and numbers don't need to have their data type predefined, but change automatically as you use them. Nonetheless, it's often important to be aware of what's going on behind the scenes.\n",
    "\n",
    "Short name | English name               | Example\n",
    "-----------|----------------------------|---------\n",
    "`int`      | integer                    | 3\n",
    "`float`    | floating-point number      | `3.5e-9`$=3.5\\times10^{-9}$\n",
    "`complex`  | complex number             | `1 + 2j`$=1+2\\sqrt{-1}$\n",
    "`bool`     | Boolean (true/false) value | `True `"
   ]
  },
  {
   "cell_type": "code",
   "execution_count": null,
   "id": "eficZcdfJxU4",
   "metadata": {
    "id": "eficZcdfJxU4",
    "outputId": "707d21ac-3071-49a0-ef60-2661756bc054"
   },
   "outputs": [],
   "source": [
    "x = 5.2321\n",
    "ix = int(x)\n",
    "fx = float(x)\n",
    "cx = complex(x)\n",
    "bx = bool(x)\n",
    "\n",
    "print(\"x = \", x)\n",
    "print(\"x cast as an integer = \", ix)\n",
    "print(\"x cast as a float = \", fx)\n",
    "print(\"x cast as a complex number = \", cx)\n",
    "print(\"x cast as a boolean number = \", bx)"
   ]
  },
  {
   "cell_type": "markdown",
   "id": "uyjSghoNJxU4",
   "metadata": {
    "id": "uyjSghoNJxU4"
   },
   "source": [
    "What happens if x is an integer number? **Try it out below**"
   ]
  },
  {
   "cell_type": "code",
   "execution_count": null,
   "id": "1c3jGrTqJxU5",
   "metadata": {
    "id": "1c3jGrTqJxU5",
    "outputId": "459112d9-d297-4f30-a207-89d77408292d"
   },
   "outputs": [],
   "source": []
  },
  {
   "cell_type": "markdown",
   "id": "Xb57uLLEJxU5",
   "metadata": {
    "id": "Xb57uLLEJxU5"
   },
   "source": [
    "what happens if x is a fraction? Try it out below."
   ]
  },
  {
   "cell_type": "code",
   "execution_count": null,
   "id": "kOP4ISysJxU5",
   "metadata": {
    "id": "kOP4ISysJxU5",
    "outputId": "815f90c6-7357-4cbe-c9f3-1641272dd7ce"
   },
   "outputs": [],
   "source": []
  },
  {
   "cell_type": "markdown",
   "id": "CnYm454IJxU5",
   "metadata": {
    "id": "CnYm454IJxU5"
   },
   "source": [
    "What if x is very very small?"
   ]
  },
  {
   "cell_type": "code",
   "execution_count": null,
   "id": "P9J3RQ4jJxU5",
   "metadata": {
    "id": "P9J3RQ4jJxU5",
    "outputId": "a6d536b2-272f-4124-e68b-2d85bbb13d56"
   },
   "outputs": [],
   "source": []
  },
  {
   "cell_type": "markdown",
   "id": "9ZG-iNKbJxU6",
   "metadata": {
    "id": "9ZG-iNKbJxU6"
   },
   "source": [
    "Is x ever small enough to make a boolean `False`?"
   ]
  },
  {
   "cell_type": "code",
   "execution_count": null,
   "id": "q9r3kNJQJxU6",
   "metadata": {
    "id": "q9r3kNJQJxU6",
    "outputId": "a05d0b1f-677f-450c-f7cf-d3edfaf343bc"
   },
   "outputs": [],
   "source": []
  },
  {
   "cell_type": "code",
   "execution_count": null,
   "id": "Nj6oD7P2JxU7",
   "metadata": {
    "id": "Nj6oD7P2JxU7"
   },
   "outputs": [],
   "source": []
  },
  {
   "cell_type": "code",
   "execution_count": null,
   "id": "xZDS858CJxU7",
   "metadata": {
    "id": "xZDS858CJxU7"
   },
   "outputs": [],
   "source": []
  },
  {
   "cell_type": "markdown",
   "id": "345Eg8qfJxU7",
   "metadata": {
    "id": "345Eg8qfJxU7"
   },
   "source": [
    "### Operators\n",
    "Operators allow to manipulate variavbles and perform calculations in Python. Below are some of the simplest and most useful ones:\n",
    "\n",
    "|Operator | Name | Description | Example usage|\n",
    "|---------|------|-------------|--------|\n",
    "|=  | Assignment operator | This is used to set a value to a variable | `x=5`|\n",
    "|+  | Addition operator | This is used to add two quantities together | `x=5+4`|\n",
    "|+= | Increment operator | This is used to add an increment to a quantity | `x+=1`|\n",
    "|-  | Subtraction operator | This is used to subtract two quantities | `x=5-3`|\n",
    "|-= | Decrement operator | This is used to subtract an increment from a quantity | `x-=1`|\n",
    "|/  | Divide operator | This is used to divide two quantities | `x=5/3`|\n",
    "|*  | Multiplication operator | This is used to multiply two quantities | `x=5*3`|\n",
    "|%  | Modulo operator | This is used to compute the remainder of the division of two quantities | `x=5%3`|\n",
    "|** | Exponent operator | This is used to raise some quantity to a power | `x=5**3`|\n"
   ]
  },
  {
   "cell_type": "markdown",
   "id": "s9eD-JEhJxU7",
   "metadata": {
    "id": "s9eD-JEhJxU7"
   },
   "source": [
    "**Try the effect of each of these operators in the cells below and print out the results.** Add more cells with necessary."
   ]
  },
  {
   "cell_type": "code",
   "execution_count": null,
   "id": "KRuj9ateJxU7",
   "metadata": {
    "id": "KRuj9ateJxU7"
   },
   "outputs": [],
   "source": []
  },
  {
   "cell_type": "code",
   "execution_count": null,
   "id": "m7I43B0UJxU7",
   "metadata": {
    "id": "m7I43B0UJxU7"
   },
   "outputs": [],
   "source": []
  },
  {
   "cell_type": "code",
   "execution_count": null,
   "id": "jhJSgSeTJxU7",
   "metadata": {
    "id": "jhJSgSeTJxU7"
   },
   "outputs": [],
   "source": []
  },
  {
   "cell_type": "code",
   "execution_count": null,
   "id": "1-rRnAq2JxU7",
   "metadata": {
    "id": "1-rRnAq2JxU7"
   },
   "outputs": [],
   "source": []
  },
  {
   "cell_type": "code",
   "execution_count": null,
   "id": "qqtfui0rJxU8",
   "metadata": {
    "id": "qqtfui0rJxU8"
   },
   "outputs": [],
   "source": []
  },
  {
   "cell_type": "code",
   "execution_count": null,
   "id": "pjyQs5_xJxU8",
   "metadata": {
    "id": "pjyQs5_xJxU8"
   },
   "outputs": [],
   "source": []
  },
  {
   "cell_type": "code",
   "execution_count": null,
   "id": "FWbroJ_lJxU8",
   "metadata": {
    "id": "FWbroJ_lJxU8"
   },
   "outputs": [],
   "source": []
  },
  {
   "cell_type": "code",
   "execution_count": null,
   "id": "Xns1RqKsJxU8",
   "metadata": {
    "id": "Xns1RqKsJxU8"
   },
   "outputs": [],
   "source": []
  },
  {
   "cell_type": "code",
   "execution_count": null,
   "id": "fo6gC0NXJxU8",
   "metadata": {
    "id": "fo6gC0NXJxU8"
   },
   "outputs": [],
   "source": []
  },
  {
   "cell_type": "markdown",
   "id": "JdN0gGmBJxU8",
   "metadata": {
    "id": "JdN0gGmBJxU8"
   },
   "source": [
    "### Mean, median, mode"
   ]
  },
  {
   "cell_type": "markdown",
   "id": "QNhYZhsgJxU8",
   "metadata": {
    "id": "QNhYZhsgJxU8"
   },
   "source": [
    "**Write an expression** that calculates the mean of these 5 numbers: 3, 10, 7, 44, 10\n",
    "The answer should be 14.8. Did you get the right result? If not, check your parenthesis and re-evaluate the cell."
   ]
  },
  {
   "cell_type": "code",
   "execution_count": null,
   "id": "rAu00efJJxU8",
   "metadata": {
    "id": "rAu00efJJxU8",
    "outputId": "11c479da-4fb6-4375-c16a-993a734ccdf0"
   },
   "outputs": [],
   "source": []
  },
  {
   "cell_type": "markdown",
   "id": "TZzgdQk0JxU9",
   "metadata": {
    "id": "TZzgdQk0JxU9"
   },
   "source": [
    "**What is the median and mode?**\n",
    "\n",
    "Add a cell below, change the cell type to `Markdown` (select the cell and using the drop down menu at the top you can change the type from `Code` to `Markdown`), add the definition of mean, median, and mode. You use one star ( * ) on each side of a sentence/word to make it *italics*. You can use two stars ( ** ) on each side of a sentence or word to make it **bold**."
   ]
  },
  {
   "cell_type": "code",
   "execution_count": null,
   "id": "9Cjpl2DVJxU9",
   "metadata": {
    "id": "9Cjpl2DVJxU9"
   },
   "outputs": [],
   "source": []
  },
  {
   "cell_type": "code",
   "execution_count": null,
   "id": "lnUD-rrJJxU9",
   "metadata": {
    "id": "lnUD-rrJJxU9"
   },
   "outputs": [],
   "source": []
  },
  {
   "cell_type": "code",
   "execution_count": null,
   "id": "GFZTw0Q3JxU9",
   "metadata": {
    "id": "GFZTw0Q3JxU9"
   },
   "outputs": [],
   "source": []
  },
  {
   "cell_type": "code",
   "execution_count": null,
   "id": "1WXFCuLBJxU-",
   "metadata": {
    "id": "1WXFCuLBJxU-"
   },
   "outputs": [],
   "source": []
  },
  {
   "cell_type": "code",
   "execution_count": null,
   "id": "ViEETiSQJxU-",
   "metadata": {
    "id": "ViEETiSQJxU-"
   },
   "outputs": [],
   "source": []
  },
  {
   "cell_type": "markdown",
   "id": "5msrglumJxU-",
   "metadata": {
    "id": "5msrglumJxU-"
   },
   "source": [
    "You can type more than a single line into a cell. For instance, consider the simple program below. This calculates the mean of three numbers (a, b, c). **Evaluate this cell:**"
   ]
  },
  {
   "cell_type": "code",
   "execution_count": null,
   "id": "szHXIBCJJxU-",
   "metadata": {
    "colab": {
     "base_uri": "https://localhost:8080/"
    },
    "executionInfo": {
     "elapsed": 7,
     "status": "ok",
     "timestamp": 1704798738335,
     "user": {
      "displayName": "Linda Cremonesi",
      "userId": "14767435952218470727"
     },
     "user_tz": 0
    },
    "id": "szHXIBCJJxU-",
    "outputId": "f6132556-36c4-40c2-c989-0369fce061b9"
   },
   "outputs": [],
   "source": [
    "a = 3\n",
    "b = 10\n",
    "c = 7\n",
    "\n",
    "mean = (a+b+c)/3\n",
    "\n",
    "print(mean)"
   ]
  },
  {
   "cell_type": "markdown",
   "id": "VLHL3uMuJxU-",
   "metadata": {
    "id": "VLHL3uMuJxU-"
   },
   "source": [
    "Now choose a different time, say a=20. **Edit the cell above, evaluate it**, and confirm that the program prints the correct answer 12.3."
   ]
  },
  {
   "cell_type": "code",
   "execution_count": null,
   "id": "b7qT3fNzJxU-",
   "metadata": {
    "id": "b7qT3fNzJxU-"
   },
   "outputs": [],
   "source": []
  },
  {
   "cell_type": "markdown",
   "id": "6rmPAgBTJxU_",
   "metadata": {
    "id": "6rmPAgBTJxU_"
   },
   "source": [
    "## Data types  [^](#index) <a id='types'></a>\n",
    "There are data types that we might consider \"collections\": sequences or sets of data. Some of these are the following:\n",
    "\n",
    "Short name | Example | Note\n",
    "-----------|---------|------\n",
    "`str`   | \"Hello\"           | A string is essentially just a sequence of characters. Mutable (can be changed).\n",
    "`list`  | `['a', 'b', 'a']` | Mutable (can be changed).\n",
    "`tuple` | `('a', 'b', 'a')` | Immutable. Generated automatically if a list of items is given.\n",
    "`dict`  | `{'a': 1, 'b': 2}`| Indexed by a set of *keys* rather than just numbers.\n",
    "`set`   | `{'a', 'b'}`      | Can only have any given entry once.\n",
    "\n",
    "Don't worry if the \"Note\" column doesn't make too much sense at this stage: it's provided here just for reference. In the next section we'll explore the use of some of these data types (the rest will come next lab)."
   ]
  },
  {
   "cell_type": "markdown",
   "id": "6SS2FFvyJxU_",
   "metadata": {
    "id": "6SS2FFvyJxU_"
   },
   "source": [
    "### Lists\n",
    "\n",
    "As the name suggests, a Python `list` is just an ordered collection of data. Recall that these are written within square brackets. For instance, the code below creates a list of three items. (From now on, when you come to a cell containing code, you should **evaluate it.**)"
   ]
  },
  {
   "cell_type": "code",
   "execution_count": null,
   "id": "KGokGZEPJxU_",
   "metadata": {
    "id": "KGokGZEPJxU_"
   },
   "outputs": [],
   "source": [
    "my_list = ['Hello', 2, 3.14159]"
   ]
  },
  {
   "cell_type": "markdown",
   "id": "73AiCSNjJxVA",
   "metadata": {
    "id": "73AiCSNjJxVA"
   },
   "source": [
    "Note that the three *elements* of the list are all of different types: a string, an integer, and a floating-point number. We can reference elements of the list also using square brackets; note that the numbering starts from zero:"
   ]
  },
  {
   "cell_type": "code",
   "execution_count": null,
   "id": "omNFxvE-JxVA",
   "metadata": {
    "id": "omNFxvE-JxVA",
    "outputId": "1ac18778-6b88-4283-b378-14c57e530465"
   },
   "outputs": [],
   "source": [
    "my_list[0]"
   ]
  },
  {
   "cell_type": "markdown",
   "id": "glhTSZixJxVA",
   "metadata": {
    "id": "glhTSZixJxVA"
   },
   "source": [
    "Now try to access the first and second element too:"
   ]
  },
  {
   "cell_type": "code",
   "execution_count": null,
   "id": "2H3l87IsJxVA",
   "metadata": {
    "id": "2H3l87IsJxVA",
    "outputId": "0df7ac87-b3fe-41bc-a0e6-1492dfa95115"
   },
   "outputs": [],
   "source": []
  },
  {
   "cell_type": "code",
   "execution_count": null,
   "id": "P1IwUEu4JxVA",
   "metadata": {
    "id": "P1IwUEu4JxVA",
    "outputId": "ffe9896a-88f3-4cdf-aeb9-f6965d88f519"
   },
   "outputs": [],
   "source": []
  },
  {
   "cell_type": "markdown",
   "id": "jRrn0W4fJxVB",
   "metadata": {
    "id": "jRrn0W4fJxVB"
   },
   "source": [
    "We can also choose a subsection of the list – what in Python is often called a *slice* – by using two indices with a colon:"
   ]
  },
  {
   "cell_type": "code",
   "execution_count": null,
   "id": "koOsLXPgJxVB",
   "metadata": {
    "id": "koOsLXPgJxVB",
    "outputId": "13dbca97-0211-487e-d02a-2eec7aea4e59"
   },
   "outputs": [],
   "source": [
    "my_list[1:3]"
   ]
  },
  {
   "cell_type": "markdown",
   "id": "rDTGGG8RJxVB",
   "metadata": {
    "id": "rDTGGG8RJxVB"
   },
   "source": [
    "Note the way it works: the first index (`mylist[1]`) is *included*, the second (`mylist[3]`) *not*. This can be a little confusing, but has the advantage that the number of elements in the slice `[m:n]` is always `n - m`.\n",
    "\n",
    "Either `m` or `n` can be omitted in slice notation: this just makes a slice that goes from the beginning or to the end of a list:"
   ]
  },
  {
   "cell_type": "code",
   "execution_count": null,
   "id": "d0OoGemuJxVC",
   "metadata": {
    "id": "d0OoGemuJxVC",
    "outputId": "3a550228-7c97-43a8-abdb-844e877e3803"
   },
   "outputs": [],
   "source": [
    "my_list[:2]"
   ]
  },
  {
   "cell_type": "markdown",
   "id": "ZfJqWww9JxVC",
   "metadata": {
    "id": "ZfJqWww9JxVC"
   },
   "source": [
    "The length of a list is given by the built-in function `len`:"
   ]
  },
  {
   "cell_type": "code",
   "execution_count": null,
   "id": "kguDbYTaJxVC",
   "metadata": {
    "id": "kguDbYTaJxVC",
    "outputId": "29a90f83-278a-4cfc-d329-999e28eff18f"
   },
   "outputs": [],
   "source": [
    "len(my_list)"
   ]
  },
  {
   "cell_type": "markdown",
   "id": "5f785p5KJxVC",
   "metadata": {
    "id": "5f785p5KJxVC"
   },
   "source": [
    "**Try typing `?len` in the cell below and evaluating it.** This is a useful way to find out more about a Python command or function you're not sure about using! Again `Shift`-`Tab` is an alternative way to do the same thing."
   ]
  },
  {
   "cell_type": "code",
   "execution_count": null,
   "id": "z3MRBm9xJxVC",
   "metadata": {
    "id": "z3MRBm9xJxVC"
   },
   "outputs": [],
   "source": []
  },
  {
   "cell_type": "markdown",
   "id": "DS4KsK40JxVC",
   "metadata": {
    "id": "DS4KsK40JxVC"
   },
   "source": [
    "You can use the `append` method to add a single item to a list:\n",
    "\n",
    "(\"Method\" here means a function that \"belongs\" to the `list` type. The syntax is to put a full stop `.` after the name of the list (or whatever) then add the name of the method, as below.)"
   ]
  },
  {
   "cell_type": "code",
   "execution_count": null,
   "id": "vJvNEFqjJxVD",
   "metadata": {
    "id": "vJvNEFqjJxVD",
    "outputId": "532cfc39-8b4d-4d6a-f099-c72549cfa6bc"
   },
   "outputs": [],
   "source": [
    "my_list.append(\"I'm new!\") # note that I use double quotes to easily include a single quote in the string\n",
    "print(my_list)"
   ]
  },
  {
   "cell_type": "markdown",
   "id": "IuUnw36EJxVD",
   "metadata": {
    "id": "IuUnw36EJxVD"
   },
   "source": [
    "Alternatively, if you have lots of items to add, you can combine lists by using the ordinary `+` symbol:"
   ]
  },
  {
   "cell_type": "code",
   "execution_count": null,
   "id": "HN6UfW5oJxVD",
   "metadata": {
    "id": "HN6UfW5oJxVD",
    "outputId": "f8ce4889-d427-466b-b31a-914a47184c63"
   },
   "outputs": [],
   "source": [
    "[1, 2, 3] + [7, 8, 9]"
   ]
  },
  {
   "cell_type": "markdown",
   "id": "Z7xbV6NBJxVD",
   "metadata": {
    "id": "Z7xbV6NBJxVD"
   },
   "source": [
    "Similarly we can `pack` elements into a list or `unpack` a list into its elements. For example the code below makes a list out of three elements."
   ]
  },
  {
   "cell_type": "code",
   "execution_count": null,
   "id": "LJWUV4vEJxVD",
   "metadata": {
    "id": "LJWUV4vEJxVD",
    "outputId": "2f1f7563-c088-4c76-91e9-680118403b36"
   },
   "outputs": [],
   "source": [
    "a = 5\n",
    "b = 6\n",
    "c = 7\n",
    "mylist = [a,b,c]\n",
    "print(mylist)"
   ]
  },
  {
   "cell_type": "markdown",
   "id": "lPajw4N6JxVD",
   "metadata": {
    "id": "lPajw4N6JxVD"
   },
   "source": [
    "If we know that our list has 3 elements, we can unpack it, like the following:"
   ]
  },
  {
   "cell_type": "code",
   "execution_count": null,
   "id": "66ed8JGuJxVE",
   "metadata": {
    "id": "66ed8JGuJxVE",
    "outputId": "41d9804b-81f0-4fee-f7b2-103b271b11d2"
   },
   "outputs": [],
   "source": [
    "d, e, f = mylist\n",
    "print(d,e,f)"
   ]
  },
  {
   "cell_type": "markdown",
   "id": "HuQog0AiJxVE",
   "metadata": {
    "id": "HuQog0AiJxVE"
   },
   "source": [
    "Similarly take the following list, and **define the `name`, `age`, and `job` using the unpacking method.**"
   ]
  },
  {
   "cell_type": "code",
   "execution_count": null,
   "id": "NNWeB5FhJxVE",
   "metadata": {
    "id": "NNWeB5FhJxVE",
    "outputId": "78a07718-e1d2-4dc4-aae6-57458a7f8b9f"
   },
   "outputs": [],
   "source": [
    "employee = [\"Jane Doe\", \"30\", \"Software Engineer\"]\n",
    "...\n",
    "print (\"Employ name is\", name, \", age is\", age, \" and job is\", job)"
   ]
  },
  {
   "cell_type": "code",
   "execution_count": null,
   "id": "zKE8S2FbJxVE",
   "metadata": {
    "id": "zKE8S2FbJxVE",
    "outputId": "2e9c3237-b172-4880-8cf4-73c4f184ac5f"
   },
   "outputs": [],
   "source": []
  },
  {
   "cell_type": "code",
   "execution_count": null,
   "id": "rqARPWVtJxVE",
   "metadata": {
    "id": "rqARPWVtJxVE"
   },
   "outputs": [],
   "source": []
  },
  {
   "cell_type": "code",
   "execution_count": null,
   "id": "mhciAIzjJxVE",
   "metadata": {
    "id": "mhciAIzjJxVE"
   },
   "outputs": [],
   "source": []
  },
  {
   "cell_type": "markdown",
   "id": "qbGHyHuMJxVE",
   "metadata": {
    "id": "qbGHyHuMJxVE"
   },
   "source": [
    "### Importing from modules\n",
    "\n",
    "Python allows programmers to bundle up collections of variables, functions, and other objects such as classes into modules that can easily be imported into other projects. One reason Python is such an attractive programming language is the enormous library of modules to help with almost any imaginable type of calculation.\n",
    "\n",
    "The `numpy` module has a lot of useful functions available that we will want to use in the rest of this labsheet. \n",
    "\n",
    "**Run the cell below**"
   ]
  },
  {
   "cell_type": "code",
   "execution_count": null,
   "id": "zn0sLf_uJxVG",
   "metadata": {
    "id": "zn0sLf_uJxVG"
   },
   "outputs": [],
   "source": [
    "import numpy as np"
   ]
  },
  {
   "cell_type": "markdown",
   "id": "pRRY-3nsJxVG",
   "metadata": {
    "id": "pRRY-3nsJxVG"
   },
   "source": [
    "Some useful numpy functions are:\n",
    "\n",
    "Name | Description\n",
    "-----|-----\n",
    "argmax  | Return index of maximum element in array\n",
    "argmin  | Return index of minimum element in array\n",
    "average | Compute the weighted average\n",
    "ceil | Round up to the nearest integer\n",
    "cov | Estimate the covariance matrix\n",
    "floor | Round down to the nearest integer\n",
    "max | Return maximum element of array\n",
    "mean | Arithmetic mean\n",
    "median | Determine the median\n",
    "min | Return minimum element of array\n",
    "prod | Return the product\n",
    "std | Compute the standard deviation\n",
    "sum | Compute the sum\n",
    "unique | Find the unique elements of an array\n",
    "var | Compute the variance\n",
    "\n",
    "**Try them out with the following array:**"
   ]
  },
  {
   "cell_type": "code",
   "execution_count": null,
   "id": "WzEERzWgJxVH",
   "metadata": {
    "id": "WzEERzWgJxVH"
   },
   "outputs": [],
   "source": [
    "a = [10, 10, 14, 22, 35.4, 85, 10, 22, 30, 20, 40, 92]\n",
    "print(a)"
   ]
  },
  {
   "cell_type": "code",
   "execution_count": null,
   "id": "Pf71W1oMJxVH",
   "metadata": {
    "id": "Pf71W1oMJxVH"
   },
   "outputs": [],
   "source": []
  },
  {
   "cell_type": "code",
   "execution_count": null,
   "id": "d6Inl2_CJxVH",
   "metadata": {
    "id": "d6Inl2_CJxVH"
   },
   "outputs": [],
   "source": []
  },
  {
   "cell_type": "code",
   "execution_count": null,
   "id": "LeiyvmInJxVH",
   "metadata": {
    "id": "LeiyvmInJxVH"
   },
   "outputs": [],
   "source": []
  },
  {
   "cell_type": "code",
   "execution_count": null,
   "id": "BZunfbjuJxVH",
   "metadata": {
    "id": "BZunfbjuJxVH"
   },
   "outputs": [],
   "source": []
  },
  {
   "cell_type": "code",
   "execution_count": null,
   "id": "hDFJRfqHJxVH",
   "metadata": {
    "id": "hDFJRfqHJxVH"
   },
   "outputs": [],
   "source": []
  },
  {
   "cell_type": "code",
   "execution_count": null,
   "id": "W_YHAh5VJxVH",
   "metadata": {
    "id": "W_YHAh5VJxVH"
   },
   "outputs": [],
   "source": []
  },
  {
   "cell_type": "markdown",
   "id": "9bEbIAd7JxVH",
   "metadata": {
    "id": "9bEbIAd7JxVH"
   },
   "source": [
    "### Arrays vs Lists\n",
    "An array is also a data structure that stores a collection of items. Like lists, arrays are ordered, mutable, enclosed in square brackets, and able to store non-unique items. Here's an example array:"
   ]
  },
  {
   "cell_type": "code",
   "execution_count": null,
   "id": "dJGwIGtXJxVI",
   "metadata": {
    "id": "dJGwIGtXJxVI",
    "outputId": "af04c918-45b3-46c7-e186-d914b1eeea46"
   },
   "outputs": [],
   "source": [
    "my_array = np.array([10,12, \"hello\"])\n",
    "my_array[2]"
   ]
  },
  {
   "cell_type": "markdown",
   "id": "xg_lcKStJxVI",
   "metadata": {
    "id": "xg_lcKStJxVI"
   },
   "source": [
    "The main difference between arrays and lists is that arrays can handle mathematical operations and lists cannot. **Evaluate the cells below and try it out.**"
   ]
  },
  {
   "cell_type": "code",
   "execution_count": null,
   "id": "1SGUN1XXJxVI",
   "metadata": {
    "id": "1SGUN1XXJxVI",
    "outputId": "4b159836-0256-4fd6-9b27-3afaad1491d2"
   },
   "outputs": [],
   "source": [
    "my_list = [10, 15, 15, 20, 25, 30, 32]\n",
    "division = my_list/3\n",
    "print(division)"
   ]
  },
  {
   "cell_type": "markdown",
   "id": "5CQ-QiC1JxVI",
   "metadata": {
    "id": "5CQ-QiC1JxVI"
   },
   "source": [
    "Now let's see if we use an array instead:"
   ]
  },
  {
   "cell_type": "code",
   "execution_count": null,
   "id": "v4UGMBVbJxVI",
   "metadata": {
    "id": "v4UGMBVbJxVI",
    "outputId": "121f562b-f3b1-41cc-ef91-f5d34a3d90b4"
   },
   "outputs": [],
   "source": [
    "my_array = np.array([10, 15, 15, 20, 25, 30, 32])\n",
    "division = my_array/3\n",
    "print(division)"
   ]
  },
  {
   "cell_type": "markdown",
   "id": "Qfj0ANwYJxVJ",
   "metadata": {
    "id": "Qfj0ANwYJxVJ"
   },
   "source": [
    "Can you cast a list as an array?"
   ]
  },
  {
   "cell_type": "code",
   "execution_count": null,
   "id": "c45gJbTiJxVJ",
   "metadata": {
    "id": "c45gJbTiJxVJ",
    "outputId": "5087d569-9bc9-4e86-a68e-7248671d9d2a"
   },
   "outputs": [],
   "source": [
    "my_list = [10, 15, 15, 20, 25, 30, 32]\n",
    "my_array = np.array(my_list)\n",
    "division = my_array/3\n",
    "print(division)"
   ]
  },
  {
   "cell_type": "markdown",
   "id": "jy936h1vJxVJ",
   "metadata": {
    "id": "jy936h1vJxVJ"
   },
   "source": [
    "Arrays and list also have different behaviours when using the symbol `+` that is used to concatenate lists or to add arrays. The cell below defines two lists and two arrays. **Write an expression to sum the two lists and the arrays and comment on their differences**:"
   ]
  },
  {
   "cell_type": "code",
   "execution_count": null,
   "id": "X4GbNDlsJxVJ",
   "metadata": {
    "id": "X4GbNDlsJxVJ"
   },
   "outputs": [],
   "source": [
    "a_list = [1,2,3,4,5]\n",
    "b_list = [5,4,3,2,1]\n",
    "a_array = np.array(a_list)\n",
    "b_array = np.array(b_list)"
   ]
  },
  {
   "cell_type": "code",
   "execution_count": null,
   "id": "_NtlmIAAJxVJ",
   "metadata": {
    "id": "_NtlmIAAJxVJ",
    "outputId": "c5f161f0-decd-4a72-b9c3-2dba49450b07"
   },
   "outputs": [],
   "source": []
  },
  {
   "cell_type": "code",
   "execution_count": null,
   "id": "6iJSdfwwJxVK",
   "metadata": {
    "id": "6iJSdfwwJxVK",
    "outputId": "74402757-ef06-4a32-de38-cadb08b6a1f2"
   },
   "outputs": [],
   "source": []
  },
  {
   "cell_type": "code",
   "execution_count": null,
   "id": "JsgFQX5nJxVK",
   "metadata": {
    "id": "JsgFQX5nJxVK"
   },
   "outputs": [],
   "source": []
  },
  {
   "cell_type": "markdown",
   "id": "wCV27Jb0JxVK",
   "metadata": {
    "id": "wCV27Jb0JxVK"
   },
   "source": [
    "<div style=\"background-color:#C2F5DD\">\n",
    "\n",
    "## Exercise 1\n",
    "\n",
    "Write an expression to calculate the variance of `my_array` and compare it to `np.var(my_array)`. First, let's recall the definition of the variance:\n",
    "$$ \\dfrac{1}{N} \\sum_{i=1}^{N} (x_i - \\overline{x})^2$$\n",
    "One can notice, that this is basically the mean of the array $(x_i - \\overline{x})^2$. You can do this in 4 steps:\n",
    "\n",
    "1) **Write** an expression for the mean of `my_array`\n",
    "2) **Define** a new array as the difference between `my_array` and its mean\n",
    "3) **Square** your new array\n",
    "4) And **calculate** the mean of `new_array_squared`. Compare this to the variance calculated with `numpy`."
   ]
  },
  {
   "cell_type": "code",
   "execution_count": null,
   "id": "d0322b1a-13e5-403b-a033-031378a353aa",
   "metadata": {},
   "outputs": [],
   "source": []
  },
  {
   "cell_type": "code",
   "execution_count": null,
   "id": "c7935e84-84aa-43fc-8850-7c16348c4058",
   "metadata": {},
   "outputs": [],
   "source": []
  },
  {
   "cell_type": "code",
   "execution_count": null,
   "id": "7980fc0f-d68b-482d-a202-c1045632a261",
   "metadata": {},
   "outputs": [],
   "source": []
  },
  {
   "cell_type": "code",
   "execution_count": null,
   "id": "84d5cb21-36b4-41c3-a528-f739050983a4",
   "metadata": {},
   "outputs": [],
   "source": []
  },
  {
   "cell_type": "markdown",
   "id": "h-E2iwEoJxVM",
   "metadata": {
    "id": "h-E2iwEoJxVM"
   },
   "source": [
    "<div style=\"background-color:#C2F5DD\">\n",
    "\n",
    "## Exercise 2\n",
    "Write an expression to find the mode of `my_array`. \n",
    "Suggestion: you can use the `numpy` functions `unique` and `argmax` to help you with this. "
   ]
  },
  {
   "cell_type": "code",
   "execution_count": null,
   "id": "qUkUGiXMJxVN",
   "metadata": {
    "id": "qUkUGiXMJxVN",
    "outputId": "8aab3a95-c87e-4889-c4bd-9eabf955a834"
   },
   "outputs": [],
   "source": []
  },
  {
   "cell_type": "markdown",
   "id": "lr5DI7JyJxVN",
   "metadata": {
    "id": "lr5DI7JyJxVN"
   },
   "source": [
    "## Functions  [^](#index) <a id='functions'></a>\n",
    "\n",
    "In Python we can wrap up any piece of code, especially if we might want to re-use it, into a *function*. To do this we use the keyword `def`. As an example, let's turn the simple program above into a function. **Evaluate the cell below:**"
   ]
  },
  {
   "cell_type": "code",
   "execution_count": null,
   "id": "PY2N_akcJxVN",
   "metadata": {
    "id": "PY2N_akcJxVN"
   },
   "outputs": [],
   "source": [
    "def average_of_three_numbers(a, b, c):\n",
    "    m = (a+b+c)/3\n",
    "    return m"
   ]
  },
  {
   "cell_type": "markdown",
   "id": "0Q5gX1zIJxVN",
   "metadata": {
    "id": "0Q5gX1zIJxVN"
   },
   "source": [
    "Some points to notice:\n",
    "1. We have given our function the name `average_of_three_numbers`. Descriptive names are always good!\n",
    "1. The function has three *arguments*, `a`, `b`, and `c`. These go in brackets after the function name. Rather than setting `a`, `b`, and `c` explicitly, as we did in the previous program, we will specify these when we call the function.\n",
    "1. We have shown which lines of code are part of the function by pressing `Tab` before them to indent them. Anything indented is part of the function; anything on the same level as the `def` keyword is not. This way of delineating blocks of code is common in Python, as we'll see.\n",
    "1. Rather than printing the result, we use the keyword `return`. This specifies the \"result\" of running this code: when we *call* this function, it will be replaced by the value it returns, here the value of the variable `m`. (We'll explore this point in a little more detail in a few moments.)\n",
    "\n",
    "Putting this all together, we can now *call* our function. In the cell below, **type in \"av\", then press `Tab`**. You will see that Jupyter recognises a name we've previously used, and completes `average_of_three_numbers` for you. **Keep typing so that the cell reads `average_of_three_numbers(10.5, 782.3, 35)`, then evaluate it.**"
   ]
  },
  {
   "cell_type": "code",
   "execution_count": null,
   "id": "AqOWGNE8JxVN",
   "metadata": {
    "id": "AqOWGNE8JxVN",
    "outputId": "35bcbcfc-f45a-4dd8-b65f-304fcbec85ac"
   },
   "outputs": [],
   "source": []
  },
  {
   "cell_type": "markdown",
   "id": "iB5qqAAmJxVO",
   "metadata": {
    "id": "iB5qqAAmJxVO"
   },
   "source": [
    "Let's redefine the function a little. **Evaluate the cell below:**"
   ]
  },
  {
   "cell_type": "code",
   "execution_count": null,
   "id": "DDvLrFJsJxVO",
   "metadata": {
    "id": "DDvLrFJsJxVO"
   },
   "outputs": [],
   "source": [
    "def average_of_three_numbers(a, b, c=10):\n",
    "    \"\"\"Calculates the average of three numbers a, b, c.\"\"\"\n",
    "    m = (a+b+c)/3\n",
    "    return m"
   ]
  },
  {
   "cell_type": "markdown",
   "id": "ZcD8a7zXJxVO",
   "metadata": {
    "id": "ZcD8a7zXJxVO"
   },
   "source": [
    "(Note that executing this code has overwritten the previous definition of the function. If you want to return to the previous version, of course you can just scroll up and evaluate the original cell again.)\n",
    "\n",
    "There are two changes in this version. First, we have added a string that describes what the function does to the second line, as a helpful form of documentation. **To see what this does, type `?average_of_three_numbers`** (using `Tab`-completion if you like!) **in the cell below and evaluate it:**"
   ]
  },
  {
   "cell_type": "code",
   "execution_count": null,
   "id": "FsmnWE2SJxVO",
   "metadata": {
    "id": "FsmnWE2SJxVO"
   },
   "outputs": [],
   "source": []
  },
  {
   "cell_type": "markdown",
   "id": "IrFkrb-xJxVO",
   "metadata": {
    "id": "IrFkrb-xJxVO"
   },
   "source": [
    "As an alternative way of doing the same thing, **type `average_of_three_numbers` and then `Shift`+`Tab`.**"
   ]
  },
  {
   "cell_type": "code",
   "execution_count": null,
   "id": "N6qosyovJxVP",
   "metadata": {
    "id": "N6qosyovJxVP",
    "outputId": "37a3342b-bb47-453d-b258-e2365d94842a"
   },
   "outputs": [],
   "source": []
  },
  {
   "cell_type": "markdown",
   "id": "6sNXnznvJxVP",
   "metadata": {
    "id": "6sNXnznvJxVP"
   },
   "source": [
    "This way of displaying documentation is available for all functions, not just ones we've defined ourselves; it comes in very handy when using built-in functions or those that we import from pre-written modules (which we'll talk more about next lab)."
   ]
  },
  {
   "cell_type": "markdown",
   "id": "QCR4KqFfJxVP",
   "metadata": {
    "id": "QCR4KqFfJxVP"
   },
   "source": [
    "The second change is that we have specified a *default* value of `c`, here 10. This means that we no longer have to specify a value of `c` when we call the function. To demonstrate, **type `average_of_three_numbers(9.5, 2)` below and evaluate the cell.**"
   ]
  },
  {
   "cell_type": "code",
   "execution_count": null,
   "id": "4f06cM5cJxVP",
   "metadata": {
    "id": "4f06cM5cJxVP",
    "outputId": "a0a9d27d-7309-4861-cfeb-92580b039ef0"
   },
   "outputs": [],
   "source": []
  },
  {
   "cell_type": "markdown",
   "id": "lucHDxnvJxVP",
   "metadata": {
    "id": "lucHDxnvJxVP"
   },
   "source": [
    "What happens if you try calling the function with no arguments at all, `average_of_three_numbers()`? **Create a new cell below and try this out. Then create a Markdown cell below it and type a sentence or two of explanation.**"
   ]
  },
  {
   "cell_type": "code",
   "execution_count": null,
   "id": "vCEu-psDJxVP",
   "metadata": {
    "id": "vCEu-psDJxVP",
    "outputId": "e24af9cf-e1af-4915-d51d-4be9f3b1a2e9"
   },
   "outputs": [],
   "source": []
  },
  {
   "cell_type": "markdown",
   "id": "vsLcRxepJxVQ",
   "metadata": {
    "id": "vsLcRxepJxVQ"
   },
   "source": [
    "The `TypeError` shows that two required arguments, `a` and `b`, were not provided."
   ]
  },
  {
   "cell_type": "markdown",
   "id": "xva49oeEJxVQ",
   "metadata": {
    "id": "xva49oeEJxVQ"
   },
   "source": [
    "### Returning values *vs* printing output\n",
    "\n",
    "Jupyter notebooks have the useful function that they automatically print out the value of the *last expression* in a cell. So when you evaluated `average_of_three_numbers(9.5, 2)`, Jupyter printed out the value of the average it calculated. You might think it would be equally acceptable to write a function that explicitly prints the value it calculates, something like the following:"
   ]
  },
  {
   "cell_type": "code",
   "execution_count": null,
   "id": "5qhQjFxmJxVQ",
   "metadata": {
    "id": "5qhQjFxmJxVQ"
   },
   "outputs": [],
   "source": [
    "def average_of_three_numbers_wrong(a, b, c=10):\n",
    "    \"\"\"Calculates the average of three numbers a, b, c.\n",
    "    Prints the answer rather than returning it, which is a coding mistake!\"\"\"\n",
    "    m = (a+b+c)/3\n",
    "    print(m)\n"
   ]
  },
  {
   "cell_type": "markdown",
   "id": "nNqpCQPpJxVQ",
   "metadata": {
    "id": "nNqpCQPpJxVQ"
   },
   "source": [
    "Now `average_of_three_numbers_wrong(9.5, 2)` should give output that looks very similar to `average_of_three_numbers(9.5, 2)`. **Check this.**"
   ]
  },
  {
   "cell_type": "code",
   "execution_count": null,
   "id": "Ebu0uK4TJxVQ",
   "metadata": {
    "id": "Ebu0uK4TJxVQ",
    "outputId": "3027d8dd-adfa-4c08-86ce-402a1cd1c346"
   },
   "outputs": [],
   "source": [
    "average_of_three_numbers_wrong(9.5, 2)"
   ]
  },
  {
   "cell_type": "markdown",
   "id": "VC2xDfQDJxVQ",
   "metadata": {
    "id": "VC2xDfQDJxVQ"
   },
   "source": [
    "But this version is not nearly as useful if we want to do anything further with the results of our calculation. For instance, suppose that we want to add 100 to the average. **Evaluate the following cells. Can you explain why the first version works and the \"wrong\" one doesn't?**"
   ]
  },
  {
   "cell_type": "code",
   "execution_count": null,
   "id": "q8-4Il26JxVR",
   "metadata": {
    "id": "q8-4Il26JxVR",
    "outputId": "d64f81e1-0c0c-4289-e7e3-476ca6828f5d"
   },
   "outputs": [],
   "source": [
    "100 + average_of_three_numbers(9.5, 2)"
   ]
  },
  {
   "cell_type": "code",
   "execution_count": null,
   "id": "rpfta8i8JxVR",
   "metadata": {
    "id": "rpfta8i8JxVR",
    "outputId": "3045e578-76f4-4ec1-de88-889940e42812"
   },
   "outputs": [],
   "source": [
    "100 + average_of_three_numbers_wrong(9.5, 2)"
   ]
  },
  {
   "cell_type": "code",
   "execution_count": null,
   "id": "1f449ff5-ce39-4c80-ad60-94f213224b7a",
   "metadata": {
    "id": "0Dk_ooHhJxVR"
   },
   "outputs": [],
   "source": []
  },
  {
   "cell_type": "markdown",
   "id": "wjr9oKGIJxVR",
   "metadata": {
    "id": "wjr9oKGIJxVR"
   },
   "source": [
    "### Branching\n",
    "\n",
    "Almost all algorithms have *decision points*, where what happens next has to be decided based on, say, the value of a variable. In Python this is done using the `if` statement. **Evaluate the following cell.**\n",
    "\n",
    "(Note the *comment* starting with the `#` character. It is a good idea to leave comments throughout your code to explain *why* you are doing what you're doing.)"
   ]
  },
  {
   "cell_type": "code",
   "execution_count": null,
   "id": "L1eoOBhUJxVR",
   "metadata": {
    "id": "L1eoOBhUJxVR",
    "outputId": "a16de04e-92a1-41a0-f668-a9f5f4ad0f8d"
   },
   "outputs": [],
   "source": [
    "number = -3\n",
    "\n",
    "# Check for an acceptable value of `number`.\n",
    "if number > 0:\n",
    "    print (number, \" is positive\")"
   ]
  },
  {
   "cell_type": "markdown",
   "id": "muQqmVKUJxVS",
   "metadata": {
    "id": "muQqmVKUJxVS"
   },
   "source": [
    "**Now change the first line, where `number` is defined, *without changing anything in the subsequent code*, so that some output will be printed, and evaluate the cell again to check.**\n",
    "\n",
    "Sometimes we want to use one set of instructions if a condition holds, and another if it does not. **Evaluate the following cell:**"
   ]
  },
  {
   "cell_type": "code",
   "execution_count": null,
   "id": "sTDsaFIeJxVS",
   "metadata": {
    "id": "sTDsaFIeJxVS",
    "outputId": "719d2cf7-f3d8-4f33-ff44-098c61d28b28"
   },
   "outputs": [],
   "source": [
    "number = -3\n",
    "\n",
    "if number > 0:\n",
    "    print (number, \"is positive\")\n",
    "else:\n",
    "    print (number, \"is negative or zero\")"
   ]
  },
  {
   "cell_type": "markdown",
   "id": "A4rAddhWJxVS",
   "metadata": {
    "id": "A4rAddhWJxVS"
   },
   "source": [
    "If we want to chain lots of these statements together, the `elif` statement comes in handy: this is short for `else if`. **Evaluate the following cell.**\n",
    "\n",
    "(Note, incidentally, the difference between the *assignment* operator `=` on the first line, used to set `number` to -3, and the *comparison* operator `==` later on, used to compare `number` to zero.)"
   ]
  },
  {
   "cell_type": "code",
   "execution_count": null,
   "id": "Jb0xSj3ZJxVS",
   "metadata": {
    "id": "Jb0xSj3ZJxVS",
    "outputId": "34c04839-b411-4bb9-bce9-b48497eec36d"
   },
   "outputs": [],
   "source": [
    "number = -3\n",
    "\n",
    "if number > 0:\n",
    "    print (number, \"is positive\")\n",
    "elif number == 0:\n",
    "    print (number, \"is zero\")\n",
    "else:\n",
    "    print (number, \"is negative\")"
   ]
  },
  {
   "cell_type": "markdown",
   "id": "8e2X-HawJxVS",
   "metadata": {
    "id": "8e2X-HawJxVS"
   },
   "source": [
    "Consider the following function. **Try evaluating it with different values of the argument N. What is wrong with its logic? Can you fix it?**"
   ]
  },
  {
   "cell_type": "code",
   "execution_count": null,
   "id": "LMHXzYbWJxVS",
   "metadata": {
    "id": "LMHXzYbWJxVS"
   },
   "outputs": [],
   "source": [
    "def check_input(N):\n",
    "    \"\"\"Checks that an input number is within the range 1-10.\"\"\"\n",
    "    if N < 1:\n",
    "        print(\"Too low, please try again.\")\n",
    "    if N > 10:\n",
    "        print(\"Too high, please try again.\")\n",
    "    else:\n",
    "        print(\"Valid input.\")"
   ]
  },
  {
   "cell_type": "code",
   "execution_count": null,
   "id": "iWG3k983JxVT",
   "metadata": {
    "id": "iWG3k983JxVT",
    "outputId": "7c2969be-9f3d-4f6b-965d-6247d0024c4e"
   },
   "outputs": [],
   "source": [
    "check_input(-2)"
   ]
  },
  {
   "cell_type": "markdown",
   "id": "ytTAhLqQJxVT",
   "metadata": {
    "id": "ytTAhLqQJxVT"
   },
   "source": [
    "##"
   ]
  },
  {
   "cell_type": "markdown",
   "id": "nTdsRYziJxVT",
   "metadata": {
    "id": "nTdsRYziJxVT"
   },
   "source": [
    "Some useful operators in branching statements are:\n",
    "\n",
    "|Operator | Name | Description|\n",
    "|--|--|--|\n",
    "| > | Greater than | This is used to compute the logical comparison of the values of two quantities.| \n",
    "| < | Less than | This is used to compute the logical comparison of the values of two quantities.| \n",
    "| >= | Greater than or equal to | This is used to compute the logical comparison of the values of two quantities.| \n",
    "| <= | Less than or equal to | This is used to compute the logical comparison of the values of two quantities.| \n",
    "| == | Value comparison | Test if the values of two quantities are equal.| \n",
    "| != | Value comparison | Test if the values of two quantities are not equal.| \n",
    "| or | Logical or | A or B Return the logical value True if either A or B is non-null (or numerically non-zero).| \n",
    "| and | Logical and | A and B Return the logical value True if both A and B are non-null (or numerically non-zero).| \n",
    "| not | Logical not | not A Return the logical value True if A is null (or zero).| "
   ]
  },
  {
   "cell_type": "markdown",
   "id": "BfPAoe62JxVT",
   "metadata": {
    "id": "BfPAoe62JxVT"
   },
   "source": [
    "Now let's take these concepts together and **write** a function that check if a number is even:"
   ]
  },
  {
   "cell_type": "code",
   "execution_count": null,
   "id": "v4h0n31RJxVT",
   "metadata": {
    "id": "v4h0n31RJxVT"
   },
   "outputs": [],
   "source": [
    "def is_it_even(N):\n",
    "    ..."
   ]
  },
  {
   "cell_type": "code",
   "execution_count": null,
   "id": "Um-PqsyEJxVT",
   "metadata": {
    "id": "Um-PqsyEJxVT",
    "outputId": "964970ac-30f1-4404-ce42-9f447ef1dd13"
   },
   "outputs": [],
   "source": [
    "is_it_even(1)"
   ]
  },
  {
   "cell_type": "code",
   "execution_count": null,
   "id": "M9Tsf_EIJxVT",
   "metadata": {
    "id": "M9Tsf_EIJxVT",
    "outputId": "f36f03b3-40f1-490e-c309-d9082c5c0ec7"
   },
   "outputs": [],
   "source": [
    "is_it_even(10)"
   ]
  },
  {
   "cell_type": "markdown",
   "id": "8jhOBcskJxVV",
   "metadata": {
    "collapsed": true,
    "id": "8jhOBcskJxVV",
    "jupyter": {
     "outputs_hidden": true
    }
   },
   "source": [
    "## Aside: Format strings  [^](#index) <a id='strings'></a>\n",
    "\n",
    "This section is all about aesthetics – but it's nice to be able to make output look well-laid out and professional!\n",
    "\n",
    "The `format()` function is a string *method* – a function that applies only to strings. It replaces curly brackets `{}` in the string with the values of its arguments. Consider the following simple example:"
   ]
  },
  {
   "cell_type": "code",
   "execution_count": null,
   "id": "DhELqIE7JxVW",
   "metadata": {
    "id": "DhELqIE7JxVW",
    "outputId": "543fa3e5-9ed0-4c9c-ce61-cc7975779a58"
   },
   "outputs": [],
   "source": [
    "\"{} is a moon of {}\".format(\"Io\", \"Jupiter\")"
   ]
  },
  {
   "cell_type": "markdown",
   "id": "mkViNm3gJxVW",
   "metadata": {
    "id": "mkViNm3gJxVW"
   },
   "source": [
    "You can include information in the curly brackets to specify exactly how a value should be converted to a string. This information always comes after a colon `:` and ends with a letter specifying the sort of number that should be printed. Common examples include\n",
    "\n",
    "Letter | Meaning\n",
    "------ | -------\n",
    "   `f` | floating-point number, usual notation\n",
    "   `e` | floating-point number, scientific notation\n",
    "   `d` | integer, decimal\n",
    "   `s` | string\n",
    "\n",
    "In between, we can specify the number of spaces that should be left to print the number and, where relevant, the number of decimal places that should be used:"
   ]
  },
  {
   "cell_type": "code",
   "execution_count": null,
   "id": "1K-wcEdTJxVW",
   "metadata": {
    "id": "1K-wcEdTJxVW",
    "outputId": "040fa307-94e2-4042-a7f8-81a2c9b2aea2"
   },
   "outputs": [],
   "source": [
    "from numpy import pi\n",
    "\n",
    "print(\"pi  = {}\".format(pi))         # no special format information given\n",
    "print(\"pi  = {:10.5f}\".format(pi))   # float, 10 spaces, 5 decimal places\n",
    "print(\"pi  = {:8.2f}\".format(pi))    # float, 8 spaces, 2 decimal places\n",
    "print(\"pi  = {:8.2e}\".format(pi))    # float, scientific notation, 8 spaces, 2 decimal places\n",
    "print(\"pi  > {:8d}\".format(3))       # decimal integer, 8 spaces\n",
    "print(\"pie = {:8s}\".format('apple')) # string, 8 spaces (by default left-aligned)"
   ]
  },
  {
   "cell_type": "markdown",
   "id": "4b70251f-0b4f-4df2-9c04-3d429f8e8dde",
   "metadata": {},
   "source": [
    "<div style=\"background-color:#C2F5DD\">\n",
    "\n",
    "## Exercise 3\n",
    "\n",
    "1) Define a simple function to greet someone (use default values for arguments)\n",
    "2) Call the function without any input to verify that the default values work.\n",
    "3) Call the function with different inputs to verify that the function works as expected.\n",
    "4) Define another function that determines whether a number is even or odd\n",
    "5) Call the function and store the result, then print the result\n",
    "6) Define a function that calls the first two functions and greets someone and displays whether their age is even or odd \n",
    "\n",
    "Note: this is a super easy exercise that just let you to get familiar with defining and calling functions."
   ]
  },
  {
   "cell_type": "code",
   "execution_count": null,
   "id": "vgeMrcQ0Lzjr",
   "metadata": {
    "id": "vgeMrcQ0Lzjr"
   },
   "outputs": [],
   "source": []
  },
  {
   "cell_type": "markdown",
   "id": "04b58b8d",
   "metadata": {
    "id": "jQ3xo0R1AAKJ"
   },
   "source": [
    "<hr style=\"border:2px solid gray\">\n",
    "\n",
    "## Introduction to Pandas  [^](#index) <a id='pandas'></a>\n",
    "\n",
    "**Pandas** is a Python library that can be used within a Jupyter notebook to easily manipulate and analise data. With Pandas, you can read in data from various sources, such as CSV files, SQL tables, or Excel spreadsheets, and then perform operations on that data, such as filtering, sorting, grouping, and aggregating. You can also visualize your data using built-in plotting functions. Pandas provides a convenient and efficient way to work with data in Jupyter notebooks, making it a popular choice for data analysis and data science projects.\n",
    "\n",
    "Pandas offers two powerful data structures for data analysis: **Series** and **DataFrames**. While they may seem similar at first glance, their key differences dictate when to use one over the other. Here's a breakdown:\n",
    "\n",
    "**Dimensions**\n",
    " - **Series:** A one-dimensional (1D) array representing a single column of data with an index for labeling observations.\n",
    " - **DataFrame:** A two-dimensional (2D) table-like structure holding multiple columns (Series) with their own labels and an optional row index (like a spreadsheet).\n",
    "\n",
    "**Data Types**\n",
    " - **Series:** Holds data of one type (e.g., all integers, all strings).\n",
    " - **DataFrame:** Can hold columns of different data types (e.g., one column for dates, another for names, another for prices).\n",
    "\n",
    "**Functionality**\n",
    " - **Series:** Efficient for analyzing single columns, performing basic operations like sorting, filtering, and calculations.\n",
    " - **DataFrame:** Powerful for multi-column analysis, including data merging, joins, grouping, and more complex manipulations across multiple columns.\n",
    "\n",
    "**Use Cases**\n",
    " - **Series:** Ideal for storing timestamps, temperature readings, stock prices, etc. Useful for data exploration, pre-processing, and analyzing trends in one variable.\n",
    " - **DataFrame:** Perfect for representing customer data, financial records, scientific measurements, etc. Suitable for comprehensive analysis, hypothesis testing, and building statistical models involving multiple variables.\n",
    "\n",
    "**Analogy:** Imagine a bookshelf. A Series is like a single book containing one story - informative but limited. A DataFrame is like an entire shelf storing various books on different topics - each book (Series) offers specific information, but together they paint a larger picture and allow for diverse analysis.\n",
    "\n",
    "Choosing between Series and DataFrames depends on your data structure and analysis needs. While knowing the difference between the two is important, we will most often use **DataFrames**.\n",
    "\n",
    "For more exercises and tutorials on Pandas:\n",
    " - https://pandas.pydata.org/docs/user_guide/index.html#user-guide"
   ]
  },
  {
   "cell_type": "markdown",
   "id": "fa15fb90",
   "metadata": {
    "id": "PtJiv6RfCR76"
   },
   "source": [
    "### Creating a DataFrame  [^](#index) <a id='create'></a>\n",
    "\n",
    "A DataFrame is a 2D data structure that is composed of the following components:\n",
    "- 1) The data\n",
    "- 2) The index\n",
    "    - This is the row number of the DataFrame\n",
    "- 3) The columns\n",
    "    - Contains the data taken at each index, labelled with headers\n",
    "\n",
    "The information at the 'top' of the DataFrame contains are known as **headers**. These allow you to access your data without needing to use indices. The cell below shows two equivalent ways to create a DataFrame."
   ]
  },
  {
   "cell_type": "code",
   "execution_count": null,
   "id": "3c4748dd",
   "metadata": {
    "colab": {
     "base_uri": "https://localhost:8080/",
     "height": 237
    },
    "executionInfo": {
     "elapsed": 458,
     "status": "ok",
     "timestamp": 1704816135853,
     "user": {
      "displayName": "Linda Cremonesi",
      "userId": "14767435952218470727"
     },
     "user_tz": 0
    },
    "id": "JJOIf433_SkT",
    "outputId": "6b01d922-f909-4fb3-a57c-ba45f2060ada"
   },
   "outputs": [],
   "source": [
    "import pandas as pd\n",
    "\n",
    "# Create a simple dataset of people\n",
    "\n",
    "data={'Name':[\"Anisha\",\"Alice\",\"Jenni\", \"Mei\",\"Tahnee\", \"Nina\"],\n",
    "     'Location':[\"London\",\"Amsterdam\",\"Glasgow\", \"Sao Paulo\",\"Vancouver\", \"Abuja\"],\n",
    "     'Age':[38,20,27,55,71,13]}\n",
    "\n",
    "data_pandas=pd.DataFrame(data)\n",
    "\n",
    "display(data_pandas)\n",
    "\n"
   ]
  },
  {
   "cell_type": "markdown",
   "id": "f8203bb2",
   "metadata": {
    "id": "6Psi3fGN_GNu"
   },
   "source": [
    "The first column is the **index**, and you can be used to specify the data you want to display."
   ]
  },
  {
   "cell_type": "code",
   "execution_count": null,
   "id": "51e32d91",
   "metadata": {
    "colab": {
     "base_uri": "https://localhost:8080/",
     "height": 112
    },
    "executionInfo": {
     "elapsed": 29,
     "status": "ok",
     "timestamp": 1704816136236,
     "user": {
      "displayName": "Linda Cremonesi",
      "userId": "14767435952218470727"
     },
     "user_tz": 0
    },
    "id": "3PrYahug_GNu",
    "outputId": "ddae7ed6-6fe6-4147-eae3-ab1a9ecb2b95"
   },
   "outputs": [],
   "source": [
    "display(data_pandas[2:4])"
   ]
  },
  {
   "cell_type": "code",
   "execution_count": null,
   "id": "08fcb25d",
   "metadata": {
    "colab": {
     "base_uri": "https://localhost:8080/",
     "height": 138
    },
    "executionInfo": {
     "elapsed": 27,
     "status": "ok",
     "timestamp": 1704816136236,
     "user": {
      "displayName": "Linda Cremonesi",
      "userId": "14767435952218470727"
     },
     "user_tz": 0
    },
    "id": "hAd27kTEGn9i",
    "outputId": "1f8328c1-c962-4f02-b03f-737d3fd72965"
   },
   "outputs": [],
   "source": [
    "# Select a column\n",
    "name_column = data_pandas['Name']\n",
    "display(name_column)"
   ]
  },
  {
   "cell_type": "code",
   "execution_count": null,
   "id": "60305c88",
   "metadata": {
    "colab": {
     "base_uri": "https://localhost:8080/",
     "height": 86
    },
    "executionInfo": {
     "elapsed": 26,
     "status": "ok",
     "timestamp": 1704816136236,
     "user": {
      "displayName": "Linda Cremonesi",
      "userId": "14767435952218470727"
     },
     "user_tz": 0
    },
    "id": "GbUEhm8hGqb3",
    "outputId": "59062529-828e-4c3c-91bf-16dab39a1efc"
   },
   "outputs": [],
   "source": [
    "# Select a row by index\n",
    "first_row = data_pandas.iloc[0]\n",
    "display(first_row)"
   ]
  },
  {
   "cell_type": "code",
   "execution_count": null,
   "id": "7816c02f",
   "metadata": {
    "colab": {
     "base_uri": "https://localhost:8080/",
     "height": 34
    },
    "executionInfo": {
     "elapsed": 26,
     "status": "ok",
     "timestamp": 1704816136236,
     "user": {
      "displayName": "Linda Cremonesi",
      "userId": "14767435952218470727"
     },
     "user_tz": 0
    },
    "id": "7hykqtTJGqGB",
    "outputId": "41dc462d-8aef-4d0b-ceff-93dbed89b316"
   },
   "outputs": [],
   "source": [
    "# Select a specific cell\n",
    "cell_value = data_pandas.loc[1, 'Age']\n",
    "display(cell_value)"
   ]
  },
  {
   "cell_type": "markdown",
   "id": "3ca08d1b",
   "metadata": {
    "id": "tkNca_jZ_GNu"
   },
   "source": [
    "To change the index to something more relevant (although this is not a particularly good example of this):"
   ]
  },
  {
   "cell_type": "code",
   "execution_count": null,
   "id": "527de431",
   "metadata": {
    "colab": {
     "base_uri": "https://localhost:8080/",
     "height": 143
    },
    "executionInfo": {
     "elapsed": 25,
     "status": "ok",
     "timestamp": 1704816136236,
     "user": {
      "displayName": "Linda Cremonesi",
      "userId": "14767435952218470727"
     },
     "user_tz": 0
    },
    "id": "XGYFS5qV_GNu",
    "outputId": "c74194fe-0c39-4548-8321-6a1f3a2758c0"
   },
   "outputs": [],
   "source": [
    "data_pandas=pd.DataFrame(data,index=[\"a\",\"b\",\"c\",\"d\", \"e\", \"f\"])\n",
    "display(data_pandas[\"b\":\"d\"])\n",
    "\n",
    "#This will display data up to and including 'b' and 'd'"
   ]
  },
  {
   "cell_type": "markdown",
   "id": "73c3eefc",
   "metadata": {
    "id": "2IM_vVZQeaZb"
   },
   "source": [
    "### Adding and removing columns"
   ]
  },
  {
   "cell_type": "markdown",
   "id": "b191f6c7",
   "metadata": {
    "id": "kqlktDFI_GNu"
   },
   "source": [
    "To insert a new column into the DataFrame, simply perform:"
   ]
  },
  {
   "cell_type": "code",
   "execution_count": null,
   "id": "bc5d047b",
   "metadata": {
    "colab": {
     "base_uri": "https://localhost:8080/",
     "height": 237
    },
    "executionInfo": {
     "elapsed": 24,
     "status": "ok",
     "timestamp": 1704816136237,
     "user": {
      "displayName": "Linda Cremonesi",
      "userId": "14767435952218470727"
     },
     "user_tz": 0
    },
    "id": "l10xb3P3_GNu",
    "outputId": "750fa56e-b313-4e16-efd6-7bf0d8f257e5"
   },
   "outputs": [],
   "source": [
    "data_pandas[\"Pets\"]=[3,2,1,5,9,0]\n",
    "display(data_pandas)"
   ]
  },
  {
   "cell_type": "markdown",
   "id": "c3d1b5e1",
   "metadata": {
    "id": "RNLG8cjh_GNv"
   },
   "source": [
    "You can even create columns that are functions of other columns. Pandas performs this very quickly."
   ]
  },
  {
   "cell_type": "code",
   "execution_count": null,
   "id": "703f02a3",
   "metadata": {
    "colab": {
     "base_uri": "https://localhost:8080/",
     "height": 237
    },
    "executionInfo": {
     "elapsed": 23,
     "status": "ok",
     "timestamp": 1704816136237,
     "user": {
      "displayName": "Linda Cremonesi",
      "userId": "14767435952218470727"
     },
     "user_tz": 0
    },
    "id": "WggIa_L3_GNv",
    "outputId": "3e682151-fd43-4715-b2bb-5aca2d9d811f"
   },
   "outputs": [],
   "source": [
    "data_pandas[\"Combination\"]=data_pandas.Age*data_pandas.Pets\n",
    "display(data_pandas)"
   ]
  },
  {
   "cell_type": "markdown",
   "id": "2b178a75",
   "metadata": {
    "id": "4z-fpNseIERR"
   },
   "source": [
    "`Combination` is a bit of a useless column though, so we can remove it using *drop*. One of the inputs to *drop* is which axis the operations is applied to.\n",
    "\n",
    "**Axis 0** - Axis 0 refers to the rows of a DataFrame or a Series. It is often referred to as the \"index axis\". When an operation is applied along axis 0, it means that the operation is applied to all of the columns in each row of the Data Frame or Series.\n",
    "\n",
    "**Axis 1** - Axis 1 refers to the columns of a DataFrame or a Series. It is often referred to as the \"column axis\". When an operation is applied along axis 1, it means that the operation is applied to all of the rows in each column of the Data Frame or Series.\n",
    "\n",
    "So a mean on axis 0 will be the mean of all the rows in each column, and a mean on axis 1 will be a mean of all the columns in each row."
   ]
  },
  {
   "cell_type": "code",
   "execution_count": null,
   "id": "df9e3472",
   "metadata": {
    "colab": {
     "base_uri": "https://localhost:8080/",
     "height": 237
    },
    "executionInfo": {
     "elapsed": 21,
     "status": "ok",
     "timestamp": 1704816136237,
     "user": {
      "displayName": "Linda Cremonesi",
      "userId": "14767435952218470727"
     },
     "user_tz": 0
    },
    "id": "YwHljDCEID8z",
    "outputId": "88a7df0b-6e66-4cfc-b942-55a24474c889"
   },
   "outputs": [],
   "source": [
    "# Delete a column\n",
    "data_pandas = data_pandas.drop('Combination', axis=1)\n",
    "display(data_pandas)"
   ]
  },
  {
   "cell_type": "code",
   "execution_count": null,
   "id": "11a6497b",
   "metadata": {
    "colab": {
     "base_uri": "https://localhost:8080/",
     "height": 206
    },
    "executionInfo": {
     "elapsed": 441,
     "status": "ok",
     "timestamp": 1704816136658,
     "user": {
      "displayName": "Linda Cremonesi",
      "userId": "14767435952218470727"
     },
     "user_tz": 0
    },
    "id": "GdwkNCb0ID7g",
    "outputId": "daccdb27-256a-429d-d842-24b49a2874f9"
   },
   "outputs": [],
   "source": [
    "# Delete a row\n",
    "data_pandas = data_pandas.drop('a', axis=0)\n",
    "display(data_pandas)"
   ]
  },
  {
   "cell_type": "markdown",
   "id": "05976010",
   "metadata": {
    "id": "LvHbczzG_GNv"
   },
   "source": [
    "### Filtering DataFrames\n",
    "Here we are choosing to display all dogs above a given age."
   ]
  },
  {
   "cell_type": "code",
   "execution_count": null,
   "id": "3cafc03c",
   "metadata": {
    "colab": {
     "base_uri": "https://localhost:8080/",
     "height": 143
    },
    "executionInfo": {
     "elapsed": 25,
     "status": "ok",
     "timestamp": 1704816136658,
     "user": {
      "displayName": "Linda Cremonesi",
      "userId": "14767435952218470727"
     },
     "user_tz": 0
    },
    "id": "Ww1O_Re5_GNv",
    "outputId": "d3036327-28a3-4280-c0b0-0f2350404870"
   },
   "outputs": [],
   "source": [
    "display(data_pandas[data_pandas.Age<30])"
   ]
  },
  {
   "cell_type": "code",
   "execution_count": null,
   "id": "c45f1f7e",
   "metadata": {
    "colab": {
     "base_uri": "https://localhost:8080/"
    },
    "executionInfo": {
     "elapsed": 24,
     "status": "ok",
     "timestamp": 1704816136658,
     "user": {
      "displayName": "Linda Cremonesi",
      "userId": "14767435952218470727"
     },
     "user_tz": 0
    },
    "id": "bh2zu8undVUi",
    "outputId": "9a3a5d53-3c83-487b-aa51-79dd9495906d"
   },
   "outputs": [],
   "source": [
    "# Filter by multiple conditions\n",
    "filtered_df = data_pandas[(data_pandas['Age'] < 30) & (data_pandas['Location'] == 'Amsterdam')]\n",
    "print(filtered_df)"
   ]
  },
  {
   "cell_type": "markdown",
   "id": "90f13101",
   "metadata": {
    "id": "QVOwm7DldvxU"
   },
   "source": [
    "### Sorting DataFrames\n",
    "Here we are sorting the data frames in descending order by age."
   ]
  },
  {
   "cell_type": "code",
   "execution_count": null,
   "id": "edfae208",
   "metadata": {
    "colab": {
     "base_uri": "https://localhost:8080/"
    },
    "executionInfo": {
     "elapsed": 20,
     "status": "ok",
     "timestamp": 1704816136658,
     "user": {
      "displayName": "Linda Cremonesi",
      "userId": "14767435952218470727"
     },
     "user_tz": 0
    },
    "id": "J0EN2Zd_dtKb",
    "outputId": "36824d16-fefb-4088-eeab-bea1e6cdd6f6"
   },
   "outputs": [],
   "source": [
    "# Sort by a column\n",
    "sorted_df = data_pandas.sort_values(by='Age', ascending=False)\n",
    "print(sorted_df)"
   ]
  },
  {
   "cell_type": "code",
   "execution_count": null,
   "id": "dad1c5c1",
   "metadata": {
    "colab": {
     "base_uri": "https://localhost:8080/"
    },
    "executionInfo": {
     "elapsed": 17,
     "status": "ok",
     "timestamp": 1704816136658,
     "user": {
      "displayName": "Linda Cremonesi",
      "userId": "14767435952218470727"
     },
     "user_tz": 0
    },
    "id": "up04-M1pd98K",
    "outputId": "5d4e392d-d942-44e0-e3b5-54c7047bd72c"
   },
   "outputs": [],
   "source": [
    "# Sort by multiple columns\n",
    "sorted_df = data_pandas.sort_values(by=['Location', 'Age'], ascending=[True, False])\n",
    "print(sorted_df)"
   ]
  },
  {
   "cell_type": "markdown",
   "id": "6323333c",
   "metadata": {
    "id": "S5dHSOGr_GNv"
   },
   "source": [
    "### Statistical Analysis\n",
    "You can calculate things like the correlation and covariance matrices"
   ]
  },
  {
   "cell_type": "code",
   "execution_count": null,
   "id": "681ddac1",
   "metadata": {
    "colab": {
     "base_uri": "https://localhost:8080/",
     "height": 207
    },
    "executionInfo": {
     "elapsed": 16,
     "status": "ok",
     "timestamp": 1704816136659,
     "user": {
      "displayName": "Linda Cremonesi",
      "userId": "14767435952218470727"
     },
     "user_tz": 0
    },
    "id": "nI7a_b0c_GNv",
    "outputId": "d271dac4-5d56-46af-e123-efae727ee8b4"
   },
   "outputs": [],
   "source": [
    "display(data_pandas.corr(numeric_only = True))\n",
    "display(data_pandas.cov(numeric_only = True))"
   ]
  },
  {
   "cell_type": "markdown",
   "id": "058bd49d",
   "metadata": {
    "id": "4CXqngUN_GNv"
   },
   "source": [
    "### Displaying Data\n"
   ]
  },
  {
   "cell_type": "markdown",
   "id": "41fb5073",
   "metadata": {
    "id": "c-kn9BIj_GNw"
   },
   "source": [
    "It is possible to display your DataFrame content quite easily. Here we will cover a few common examples.\n",
    "\n",
    "### Basic plotting\n",
    "\n",
    "Two display a basic plot of our data, we can use:\n",
    "```python\n",
    "df['column name'].plot()\n",
    "```\n",
    "\n",
    "or:\n",
    "\n",
    "```python\n",
    "df.plot('x column name','y column name')\n",
    "```\n",
    "We only need to reference the name of the column, we don't need to know its index. For the first method we didn't set an x-axis; with that plotting nomenclature Pandas will use whatever the index is as an x-axis.\n",
    "\n",
    "**Experiment with these methods of data plotting using our `data_pandas` DataFrame.**\n"
   ]
  },
  {
   "cell_type": "code",
   "execution_count": null,
   "id": "87eeb537",
   "metadata": {
    "id": "Hokrqqvj_GNw"
   },
   "outputs": [],
   "source": []
  },
  {
   "cell_type": "markdown",
   "id": "2c0a0aaa",
   "metadata": {
    "id": "3PJFyL80_GNw"
   },
   "source": [
    "Other useful data visualisation:\n",
    "### Histograms"
   ]
  },
  {
   "cell_type": "code",
   "execution_count": null,
   "id": "acdfef0a",
   "metadata": {
    "colab": {
     "base_uri": "https://localhost:8080/",
     "height": 452
    },
    "executionInfo": {
     "elapsed": 1097,
     "status": "ok",
     "timestamp": 1704816137742,
     "user": {
      "displayName": "Linda Cremonesi",
      "userId": "14767435952218470727"
     },
     "user_tz": 0
    },
    "id": "h3kUwO_s_GNw",
    "outputId": "a0bd7993-8f0b-4b7c-dc6b-12c611487fe2"
   },
   "outputs": [],
   "source": [
    "import scipy as sp\n",
    "import pylab as pl\n",
    "\n",
    "histogram=data_pandas.hist()"
   ]
  },
  {
   "cell_type": "code",
   "execution_count": null,
   "id": "48e5b519",
   "metadata": {
    "colab": {
     "base_uri": "https://localhost:8080/",
     "height": 447
    },
    "executionInfo": {
     "elapsed": 9,
     "status": "ok",
     "timestamp": 1704816137743,
     "user": {
      "displayName": "Linda Cremonesi",
      "userId": "14767435952218470727"
     },
     "user_tz": 0
    },
    "id": "6l25l55D_GNw",
    "outputId": "f9bf6b3a-a3e9-45cf-fc34-0e76fb147a5d"
   },
   "outputs": [],
   "source": [
    "data_pandas['Pets'].plot()"
   ]
  },
  {
   "cell_type": "code",
   "execution_count": null,
   "id": "034c320f",
   "metadata": {
    "colab": {
     "base_uri": "https://localhost:8080/",
     "height": 452
    },
    "executionInfo": {
     "elapsed": 421,
     "status": "ok",
     "timestamp": 1704816138159,
     "user": {
      "displayName": "Linda Cremonesi",
      "userId": "14767435952218470727"
     },
     "user_tz": 0
    },
    "id": "D51uloUW_GNw",
    "outputId": "6f4a9423-60b9-495c-fcb4-fd571e8d3771"
   },
   "outputs": [],
   "source": [
    "h1=data_pandas.hist(column=\"Pets\")"
   ]
  },
  {
   "cell_type": "code",
   "execution_count": null,
   "id": "786266b7",
   "metadata": {
    "colab": {
     "base_uri": "https://localhost:8080/",
     "height": 469
    },
    "executionInfo": {
     "elapsed": 403,
     "status": "ok",
     "timestamp": 1704816138555,
     "user": {
      "displayName": "Linda Cremonesi",
      "userId": "14767435952218470727"
     },
     "user_tz": 0
    },
    "id": "38vKXqDL_GNw",
    "outputId": "02e5f75e-ac9a-4837-b6f1-15377d0a1486"
   },
   "outputs": [],
   "source": [
    "data_pandas[data_pandas.Age>20].hist(column=\"Pets\")"
   ]
  },
  {
   "cell_type": "markdown",
   "id": "e7781b04",
   "metadata": {
    "id": "R2LnzkSM_GNw"
   },
   "source": [
    "### Scatter Plots"
   ]
  },
  {
   "cell_type": "code",
   "execution_count": null,
   "id": "6f940a87",
   "metadata": {
    "colab": {
     "base_uri": "https://localhost:8080/",
     "height": 466
    },
    "executionInfo": {
     "elapsed": 526,
     "status": "ok",
     "timestamp": 1704816139075,
     "user": {
      "displayName": "Linda Cremonesi",
      "userId": "14767435952218470727"
     },
     "user_tz": 0
    },
    "id": "COaXjrD6_GNw",
    "outputId": "d55f457a-e763-461f-8707-b190f6e37a70"
   },
   "outputs": [],
   "source": [
    "data_pandas.plot(kind=\"scatter\",x=\"Age\",y=\"Pets\",alpha=1)\n",
    "#alpha controls the opacity of data points.\n",
    "#For larger amounts of data, setting alpha to a lower value can make the plot easier to interpret"
   ]
  },
  {
   "cell_type": "markdown",
   "id": "15ba4cd6",
   "metadata": {
    "id": "f4nyoQm1_GNw"
   },
   "source": [
    "A **scatter_matrix** displays all possible combinations of the scatter plots, as well as the various histograms. Run the cell below to see what this looks like for our data. Just like with any pandas plot, this can also be filtered."
   ]
  },
  {
   "cell_type": "code",
   "execution_count": null,
   "id": "f948c262",
   "metadata": {
    "colab": {
     "base_uri": "https://localhost:8080/",
     "height": 519
    },
    "executionInfo": {
     "elapsed": 671,
     "status": "ok",
     "timestamp": 1704816139741,
     "user": {
      "displayName": "Linda Cremonesi",
      "userId": "14767435952218470727"
     },
     "user_tz": 0
    },
    "id": "MtaPRtLd_GNx",
    "outputId": "bdd40b6c-7ae8-47ff-aad4-072febfb3e2b"
   },
   "outputs": [],
   "source": [
    "import pandas.plotting as pdp\n",
    "pdp.scatter_matrix(data_pandas)"
   ]
  },
  {
   "cell_type": "code",
   "execution_count": null,
   "id": "b85c3475",
   "metadata": {
    "colab": {
     "base_uri": "https://localhost:8080/",
     "height": 519
    },
    "executionInfo": {
     "elapsed": 839,
     "status": "ok",
     "timestamp": 1704816140575,
     "user": {
      "displayName": "Linda Cremonesi",
      "userId": "14767435952218470727"
     },
     "user_tz": 0
    },
    "id": "lFf3Kj4f_GNx",
    "outputId": "54ff2b68-2337-4ebc-c7ca-283a7fc35e45"
   },
   "outputs": [],
   "source": [
    "pdp.scatter_matrix(data_pandas[data_pandas.Age>20])"
   ]
  },
  {
   "cell_type": "markdown",
   "id": "04a2dc72",
   "metadata": {
    "id": "PkSn4oqQ_GNx"
   },
   "source": [
    "Further example of plots can be found [here](https://pandas.pydata.org/docs/user_guide/visualization.html)\n",
    "\n",
    "<div style=\"background-color:#C2F5DD\">\n",
    "\n",
    "## Exercise 4\n",
    "\n",
    "The purpose of this exercise is to get you to play around with pandas DataFrame and to consolidate the knowledge that you already have.\n",
    "\n",
    "* Generate 5 samples with 100,000 correlated random numbers distributed according to Gaussian distributions (you can choose whatever covariance matrix that you like, although you can start with an identity matrix for simplicity). You may want to use the `numpy` function `random.multivariate_normal` for this purpose.\n",
    "\n",
    "* Read these into a DataFrame\n",
    "\n",
    "* Create a 6th column in your DataFrame: the values should be the second column plus the fourth column\n",
    "\n",
    "* Verify that the covariance (and correlation) matrices are what you would expect\n",
    "\n",
    "* Display your data"
   ]
  },
  {
   "cell_type": "code",
   "execution_count": null,
   "id": "d2c0344c",
   "metadata": {},
   "outputs": [],
   "source": []
  },
  {
   "cell_type": "markdown",
   "id": "2e492976",
   "metadata": {
    "id": "gHEgEBJp_GNx"
   },
   "source": [
    "<hr style=\"border:2px solid gray\">\n",
    "\n",
    "## Reading Data from Files  [^](#index) <a id='files'></a>\n",
    "\n",
    "You can read data from all sorts of files (csv, excel, etc) into a DataFrames. Sometimes (especially with csv) you have to be careful with the separator"
   ]
  },
  {
   "cell_type": "code",
   "execution_count": null,
   "id": "32af1041",
   "metadata": {
    "id": "PzZV5GlruKFl"
   },
   "outputs": [],
   "source": [
    "df_pound_dollar=pd.read_csv(r'pound-dollar-exchange-rate-historical-chart.csv')\n",
    "#'r' refers to raw string, it is required to read in the file with no bugs"
   ]
  },
  {
   "cell_type": "code",
   "execution_count": null,
   "id": "c985d76c",
   "metadata": {
    "colab": {
     "base_uri": "https://localhost:8080/",
     "height": 423
    },
    "executionInfo": {
     "elapsed": 43,
     "status": "ok",
     "timestamp": 1704816142178,
     "user": {
      "displayName": "Linda Cremonesi",
      "userId": "14767435952218470727"
     },
     "user_tz": 0
    },
    "id": "ImowMrVt_GNx",
    "outputId": "b4b801ec-b57f-4664-84bf-3c2eff186bff"
   },
   "outputs": [],
   "source": [
    "display(df_pound_dollar)"
   ]
  },
  {
   "cell_type": "markdown",
   "id": "37b04bbb",
   "metadata": {
    "id": "HSqeE0ic_GNx"
   },
   "source": [
    "This will display a lot of information. We can reduce this display and make the data easier to interpret at a glance using <span style=\"color:blue\">.head()</span> and <span style=\"color:blue\">.head()</span>. To get a top level summary of the data, we can use the <span style=\"color:blue\">.info()</span> command. For example:"
   ]
  },
  {
   "cell_type": "code",
   "execution_count": null,
   "id": "ebb9e4a7",
   "metadata": {
    "colab": {
     "base_uri": "https://localhost:8080/",
     "height": 432
    },
    "executionInfo": {
     "elapsed": 35,
     "status": "ok",
     "timestamp": 1704816142178,
     "user": {
      "displayName": "Linda Cremonesi",
      "userId": "14767435952218470727"
     },
     "user_tz": 0
    },
    "id": "w2y60mSw_GNx",
    "outputId": "92311c9f-6088-465a-e08c-2eae00f60762"
   },
   "outputs": [],
   "source": [
    "display(df_pound_dollar.head())\n",
    "\n",
    "print ('\\n And the summary of the data: \\n')\n",
    "\n",
    "display(df_pound_dollar.info())"
   ]
  },
  {
   "cell_type": "markdown",
   "id": "ba732dbd",
   "metadata": {
    "id": "mLEIgXwA_GNx"
   },
   "source": [
    "<div style=\"background-color:#C2F5DD\">\n",
    "\n",
    "## Exercise 5\n",
    "\n",
    "Let's analyse some data from the euro/dollar and pound/dollar exchange rates.\n",
    "1) Read the euro-dollar exchange rate file into a dataframe and merge it with the pound-dollar dataframe. You may want to use the `panda` `rename` function to rename the columns.\n",
    "2) Check the dataset for `NaN` and drop any instances of `NaN`.\n",
    "3) Plot histograms and timeseries from the dataframe.\n",
    "4) Calculate mean, variance, covariance, and correlation.\n",
    "5) Plot a scatter plot of the euro-dollar vs the pound-dollar exchange. You may notice the graph showing two separate populations. Use the slice function to try to separate the two populations (*hint: the ideal index will be between 2000 and 3000*)\n",
    "6) Calculate the coefficients for the linear regression $y=mx+q$ for the three samples (the total sample, and the two samples found with the split in point 5), and plot them on top of a scatter graph\n",
    "$$ m = \\dfrac{\\sigma_{xy}}{\\sigma_x^2} $$\n",
    "$$ q = \\overline{y}-m\\overline{x} $$\n",
    "You may want to use `stats.linregress` from `scipy` to calculate the coefficients.\n",
    "8) Write a sentence of your interpretation of the graph."
   ]
  },
  {
   "cell_type": "code",
   "execution_count": null,
   "id": "be799015-5951-4c2d-b79b-64f3cebf6adc",
   "metadata": {},
   "outputs": [],
   "source": []
  },
  {
   "cell_type": "code",
   "execution_count": null,
   "id": "4b593d55-1e62-4ffc-94f8-7de09aefa6c9",
   "metadata": {},
   "outputs": [],
   "source": []
  },
  {
   "cell_type": "code",
   "execution_count": null,
   "id": "484f8719-f833-4989-b65a-f2f000ab4e4b",
   "metadata": {},
   "outputs": [],
   "source": []
  },
  {
   "cell_type": "code",
   "execution_count": null,
   "id": "b90e6a6f-4995-41a3-a44a-b7c7f428da92",
   "metadata": {},
   "outputs": [],
   "source": []
  },
  {
   "cell_type": "code",
   "execution_count": null,
   "id": "cf098e7e-5394-4d51-bb7a-645ef9be82e2",
   "metadata": {},
   "outputs": [],
   "source": []
  },
  {
   "cell_type": "code",
   "execution_count": null,
   "id": "fd1d7dee-8c38-44e1-9ad9-b772baabb27d",
   "metadata": {},
   "outputs": [],
   "source": []
  },
  {
   "cell_type": "code",
   "execution_count": null,
   "id": "b61e86bf-9499-46aa-9516-add1d42627e8",
   "metadata": {},
   "outputs": [],
   "source": []
  },
  {
   "cell_type": "code",
   "execution_count": null,
   "id": "bee40e48",
   "metadata": {},
   "outputs": [],
   "source": []
  },
  {
   "cell_type": "markdown",
   "id": "df88cd02-ce24-4ba7-88a1-3eeffe515465",
   "metadata": {},
   "source": [
    "## Saving, downloading and uploading to QMPlus (optional)\n",
    "\n",
    "For your assignments you will be asked to upload the report files onto QMPlus. The source files can include:\n",
    " * Your jupyter notebook (optional)\n",
    " * A PDF version of your jupyter notebook\n",
    "\n",
    "To save these two files go on `File`, and select `Download as` from the drop down menu, then select: `Notebook (ipynb)` to download the jupyter notebook (*Note that you won't be able to open this file from your computer, please upload it as is to QMPlus.*). \n",
    "\n",
    "Similarly, use `PDF` to download a PDF copy of your work.\n",
    "\n",
    "Note: Only your report will be assessed. You could choose to either output the 'pdf' file from Jupyter Notebook, or write it with word (then save as a pdf file). In the first approach, you will also get familiar with the markdown commands.\n"
   ]
  },
  {
   "cell_type": "code",
   "execution_count": null,
   "id": "bc0fd12e-7738-498d-8b22-fe19f0c71874",
   "metadata": {},
   "outputs": [],
   "source": []
  },
  {
   "cell_type": "code",
   "execution_count": null,
   "id": "4f705552-26b1-472e-8aa9-7f228f2d054a",
   "metadata": {},
   "outputs": [],
   "source": []
  },
  {
   "cell_type": "code",
   "execution_count": null,
   "id": "465d4e1d-5fd2-4e8a-95fc-cd2e169677c5",
   "metadata": {},
   "outputs": [],
   "source": []
  },
  {
   "cell_type": "code",
   "execution_count": null,
   "id": "c43acb75-368a-4cb0-a2b5-52f846a56950",
   "metadata": {},
   "outputs": [],
   "source": []
  },
  {
   "cell_type": "code",
   "execution_count": null,
   "id": "0cd22d21-9e85-47c6-a32d-8bd398f247f8",
   "metadata": {},
   "outputs": [],
   "source": []
  },
  {
   "cell_type": "code",
   "execution_count": null,
   "id": "a8137a33-eab1-443f-b410-8607eb9be866",
   "metadata": {},
   "outputs": [],
   "source": []
  }
 ],
 "metadata": {
  "colab": {
   "provenance": []
  },
  "kernelspec": {
   "display_name": "Python 3 (ipykernel)",
   "language": "python",
   "name": "python3"
  },
  "language_info": {
   "codemirror_mode": {
    "name": "ipython",
    "version": 3
   },
   "file_extension": ".py",
   "mimetype": "text/x-python",
   "name": "python",
   "nbconvert_exporter": "python",
   "pygments_lexer": "ipython3",
   "version": "3.10.13"
  }
 },
 "nbformat": 4,
 "nbformat_minor": 5
}
