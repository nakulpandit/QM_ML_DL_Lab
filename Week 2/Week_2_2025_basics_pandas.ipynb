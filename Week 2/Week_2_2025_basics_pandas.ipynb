{
 "cells": [
  {
   "cell_type": "markdown",
   "id": "GKay1TDpJxUt",
   "metadata": {
    "id": "GKay1TDpJxUt"
   },
   "source": [
    "# Week 2 - Report \n",
    "## The Basics and Pandas"
   ]
  },
  {
   "cell_type": "code",
   "execution_count": 2,
   "id": "3uXZ8vD0JxU0",
   "metadata": {
    "id": "3uXZ8vD0JxU0",
    "outputId": "de8cb0a2-4900-4012-be3d-0e1d3de3e6b2"
   },
   "outputs": [
    {
     "name": "stdout",
     "output_type": "stream",
     "text": [
      "Help on class list in module builtins:\n",
      "\n",
      "class list(object)\n",
      " |  list(iterable=(), /)\n",
      " |\n",
      " |  Built-in mutable sequence.\n",
      " |\n",
      " |  If no argument is given, the constructor creates a new empty list.\n",
      " |  The argument must be an iterable if specified.\n",
      " |\n",
      " |  Methods defined here:\n",
      " |\n",
      " |  __add__(self, value, /)\n",
      " |      Return self+value.\n",
      " |\n",
      " |  __contains__(self, key, /)\n",
      " |      Return bool(key in self).\n",
      " |\n",
      " |  __delitem__(self, key, /)\n",
      " |      Delete self[key].\n",
      " |\n",
      " |  __eq__(self, value, /)\n",
      " |      Return self==value.\n",
      " |\n",
      " |  __ge__(self, value, /)\n",
      " |      Return self>=value.\n",
      " |\n",
      " |  __getattribute__(self, name, /)\n",
      " |      Return getattr(self, name).\n",
      " |\n",
      " |  __getitem__(self, index, /)\n",
      " |      Return self[index].\n",
      " |\n",
      " |  __gt__(self, value, /)\n",
      " |      Return self>value.\n",
      " |\n",
      " |  __iadd__(self, value, /)\n",
      " |      Implement self+=value.\n",
      " |\n",
      " |  __imul__(self, value, /)\n",
      " |      Implement self*=value.\n",
      " |\n",
      " |  __init__(self, /, *args, **kwargs)\n",
      " |      Initialize self.  See help(type(self)) for accurate signature.\n",
      " |\n",
      " |  __iter__(self, /)\n",
      " |      Implement iter(self).\n",
      " |\n",
      " |  __le__(self, value, /)\n",
      " |      Return self<=value.\n",
      " |\n",
      " |  __len__(self, /)\n",
      " |      Return len(self).\n",
      " |\n",
      " |  __lt__(self, value, /)\n",
      " |      Return self<value.\n",
      " |\n",
      " |  __mul__(self, value, /)\n",
      " |      Return self*value.\n",
      " |\n",
      " |  __ne__(self, value, /)\n",
      " |      Return self!=value.\n",
      " |\n",
      " |  __repr__(self, /)\n",
      " |      Return repr(self).\n",
      " |\n",
      " |  __reversed__(self, /)\n",
      " |      Return a reverse iterator over the list.\n",
      " |\n",
      " |  __rmul__(self, value, /)\n",
      " |      Return value*self.\n",
      " |\n",
      " |  __setitem__(self, key, value, /)\n",
      " |      Set self[key] to value.\n",
      " |\n",
      " |  __sizeof__(self, /)\n",
      " |      Return the size of the list in memory, in bytes.\n",
      " |\n",
      " |  append(self, object, /)\n",
      " |      Append object to the end of the list.\n",
      " |\n",
      " |  clear(self, /)\n",
      " |      Remove all items from list.\n",
      " |\n",
      " |  copy(self, /)\n",
      " |      Return a shallow copy of the list.\n",
      " |\n",
      " |  count(self, value, /)\n",
      " |      Return number of occurrences of value.\n",
      " |\n",
      " |  extend(self, iterable, /)\n",
      " |      Extend list by appending elements from the iterable.\n",
      " |\n",
      " |  index(self, value, start=0, stop=9223372036854775807, /)\n",
      " |      Return first index of value.\n",
      " |\n",
      " |      Raises ValueError if the value is not present.\n",
      " |\n",
      " |  insert(self, index, object, /)\n",
      " |      Insert object before index.\n",
      " |\n",
      " |  pop(self, index=-1, /)\n",
      " |      Remove and return item at index (default last).\n",
      " |\n",
      " |      Raises IndexError if list is empty or index is out of range.\n",
      " |\n",
      " |  remove(self, value, /)\n",
      " |      Remove first occurrence of value.\n",
      " |\n",
      " |      Raises ValueError if the value is not present.\n",
      " |\n",
      " |  reverse(self, /)\n",
      " |      Reverse *IN PLACE*.\n",
      " |\n",
      " |  sort(self, /, *, key=None, reverse=False)\n",
      " |      Sort the list in ascending order and return None.\n",
      " |\n",
      " |      The sort is in-place (i.e. the list itself is modified) and stable (i.e. the\n",
      " |      order of two equal elements is maintained).\n",
      " |\n",
      " |      If a key function is given, apply it once to each list item and sort them,\n",
      " |      ascending or descending, according to their function values.\n",
      " |\n",
      " |      The reverse flag can be set to sort in descending order.\n",
      " |\n",
      " |  ----------------------------------------------------------------------\n",
      " |  Class methods defined here:\n",
      " |\n",
      " |  __class_getitem__(...) from builtins.type\n",
      " |      See PEP 585\n",
      " |\n",
      " |  ----------------------------------------------------------------------\n",
      " |  Static methods defined here:\n",
      " |\n",
      " |  __new__(*args, **kwargs) from builtins.type\n",
      " |      Create and return a new object.  See help(type) for accurate signature.\n",
      " |\n",
      " |  ----------------------------------------------------------------------\n",
      " |  Data and other attributes defined here:\n",
      " |\n",
      " |  __hash__ = None\n",
      "\n"
     ]
    }
   ],
   "source": [
    "help(list)"
   ]
  },
  {
   "cell_type": "markdown",
   "id": "sfGsdFV9JxU4",
   "metadata": {
    "id": "sfGsdFV9JxU4"
   },
   "source": [
    "### Numbers\n",
    "\n",
    "Short name | English name               | Example\n",
    "-----------|----------------------------|---------\n",
    "`int`      | integer                    | 3\n",
    "`float`    | floating-point number      | `3.5e-9`$=3.5\\times10^{-9}$\n",
    "`complex`  | complex number             | `1 + 2j`$=1+2\\sqrt{-1}$\n",
    "`bool`     | Boolean (true/false) value | `True `"
   ]
  },
  {
   "cell_type": "code",
   "execution_count": 3,
   "id": "eficZcdfJxU4",
   "metadata": {
    "id": "eficZcdfJxU4",
    "outputId": "707d21ac-3071-49a0-ef60-2661756bc054"
   },
   "outputs": [
    {
     "name": "stdout",
     "output_type": "stream",
     "text": [
      "x =  5.2321\n",
      "x cast as an integer =  5\n",
      "x cast as a float =  5.2321\n",
      "x cast as a complex number =  (5.2321+0j)\n",
      "x cast as a boolean number =  True\n"
     ]
    }
   ],
   "source": [
    "x = 5.2321\n",
    "ix = int(x)\n",
    "fx = float(x)\n",
    "cx = complex(x)\n",
    "bx = bool(x)\n",
    "\n",
    "print(\"x = \", x)\n",
    "print(\"x cast as an integer = \", ix)\n",
    "print(\"x cast as a float = \", fx)\n",
    "print(\"x cast as a complex number = \", cx)\n",
    "print(\"x cast as a boolean number = \", bx)"
   ]
  },
  {
   "cell_type": "markdown",
   "id": "uyjSghoNJxU4",
   "metadata": {
    "id": "uyjSghoNJxU4"
   },
   "source": [
    "What happens if x is an integer number? **Try it out below**"
   ]
  },
  {
   "cell_type": "code",
   "execution_count": 4,
   "id": "1c3jGrTqJxU5",
   "metadata": {
    "id": "1c3jGrTqJxU5",
    "outputId": "459112d9-d297-4f30-a207-89d77408292d"
   },
   "outputs": [
    {
     "name": "stdout",
     "output_type": "stream",
     "text": [
      "x =  132\n",
      "x cast as an integer =  132\n",
      "x cast as a float =  132.0\n",
      "x cast as a complex number =  (132+0j)\n",
      "x cast as a boolean number =  True\n"
     ]
    }
   ],
   "source": [
    "x = 132\n",
    "ix = int(x)\n",
    "fx = float(x)\n",
    "cx = complex(x)\n",
    "bx = bool(x)\n",
    "\n",
    "print(\"x = \", x)\n",
    "print(\"x cast as an integer = \", ix)\n",
    "print(\"x cast as a float = \", fx)\n",
    "print(\"x cast as a complex number = \", cx)\n",
    "print(\"x cast as a boolean number = \", bx)"
   ]
  },
  {
   "cell_type": "markdown",
   "id": "Xb57uLLEJxU5",
   "metadata": {
    "id": "Xb57uLLEJxU5"
   },
   "source": [
    "what happens if x is a fraction? Try it out below."
   ]
  },
  {
   "cell_type": "code",
   "execution_count": 5,
   "id": "kOP4ISysJxU5",
   "metadata": {
    "id": "kOP4ISysJxU5",
    "outputId": "815f90c6-7357-4cbe-c9f3-1641272dd7ce"
   },
   "outputs": [
    {
     "name": "stdout",
     "output_type": "stream",
     "text": [
      "x =  39.142857142857146\n",
      "x cast as an integer =  39\n",
      "x cast as a float =  39.142857142857146\n",
      "x cast as a complex number =  (39.142857142857146+0j)\n",
      "x cast as a boolean number =  True\n"
     ]
    }
   ],
   "source": [
    "x = 274/7\n",
    "ix = int(x)\n",
    "fx = float(x)\n",
    "cx = complex(x)\n",
    "bx = bool(x)\n",
    "\n",
    "print(\"x = \", x)\n",
    "print(\"x cast as an integer = \", ix)\n",
    "print(\"x cast as a float = \", fx)\n",
    "print(\"x cast as a complex number = \", cx)\n",
    "print(\"x cast as a boolean number = \", bx)"
   ]
  },
  {
   "cell_type": "markdown",
   "id": "CnYm454IJxU5",
   "metadata": {
    "id": "CnYm454IJxU5"
   },
   "source": [
    "What if x is very very small?"
   ]
  },
  {
   "cell_type": "code",
   "execution_count": 6,
   "id": "P9J3RQ4jJxU5",
   "metadata": {
    "id": "P9J3RQ4jJxU5",
    "outputId": "a6d536b2-272f-4124-e68b-2d85bbb13d56"
   },
   "outputs": [
    {
     "name": "stdout",
     "output_type": "stream",
     "text": [
      "x =  2.9e-09\n",
      "x cast as an integer =  0\n",
      "x cast as a float =  2.9e-09\n",
      "x cast as a complex number =  (2.9e-09+0j)\n",
      "x cast as a boolean number =  True\n"
     ]
    }
   ],
   "source": [
    "x = 0.0000000029\n",
    "ix = int(x)\n",
    "fx = float(x)\n",
    "cx = complex(x)\n",
    "bx = bool(x)\n",
    "\n",
    "print(\"x = \", x)\n",
    "print(\"x cast as an integer = \", ix)\n",
    "print(\"x cast as a float = \", fx)\n",
    "print(\"x cast as a complex number = \", cx)\n",
    "print(\"x cast as a boolean number = \", bx)"
   ]
  },
  {
   "cell_type": "markdown",
   "id": "9ZG-iNKbJxU6",
   "metadata": {
    "id": "9ZG-iNKbJxU6"
   },
   "source": [
    "Is x ever small enough to make a boolean `False`?"
   ]
  },
  {
   "cell_type": "markdown",
   "id": "q9r3kNJQJxU6",
   "metadata": {
    "id": "q9r3kNJQJxU6",
    "outputId": "a05d0b1f-677f-450c-f7cf-d3edfaf343bc"
   },
   "source": [
    "Answer - NO"
   ]
  },
  {
   "cell_type": "markdown",
   "id": "345Eg8qfJxU7",
   "metadata": {
    "id": "345Eg8qfJxU7"
   },
   "source": [
    "### Operators\n",
    "Operators allow to manipulate variavbles and perform calculations in Python. Below are some of the simplest and most useful ones:\n",
    "\n",
    "|Operator | Name | Description | Example usage|\n",
    "|---------|------|-------------|--------|\n",
    "|=  | Assignment operator | This is used to set a value to a variable | `x=5`|\n",
    "|+  | Addition operator | This is used to add two quantities together | `x=5+4`|\n",
    "|+= | Increment operator | This is used to add an increment to a quantity | `x+=1`|\n",
    "|-  | Subtraction operator | This is used to subtract two quantities | `x=5-3`|\n",
    "|-= | Decrement operator | This is used to subtract an increment from a quantity | `x-=1`|\n",
    "|/  | Divide operator | This is used to divide two quantities | `x=5/3`|\n",
    "|*  | Multiplication operator | This is used to multiply two quantities | `x=5*3`|\n",
    "|%  | Modulo operator | This is used to compute the remainder of the division of two quantities | `x=5%3`|\n",
    "|** | Exponent operator | This is used to raise some quantity to a power | `x=5**3`|\n"
   ]
  },
  {
   "cell_type": "markdown",
   "id": "JdN0gGmBJxU8",
   "metadata": {
    "id": "JdN0gGmBJxU8"
   },
   "source": [
    "### Mean, median, mode"
   ]
  },
  {
   "cell_type": "markdown",
   "id": "TZzgdQk0JxU9",
   "metadata": {
    "id": "TZzgdQk0JxU9"
   },
   "source": [
    "**What is the median and mode?**\n",
    "\n",
    "Add a cell below, change the cell type to `Markdown` (select the cell and using the drop down menu at the top you can change the type from `Code` to `Markdown`), add the definition of mean, median, and mode. You use one star ( * ) on each side of a sentence/word to make it *italics*. You can use two stars ( ** ) on each side of a sentence or word to make it **bold**."
   ]
  },
  {
   "cell_type": "code",
   "execution_count": 10,
   "id": "9Cjpl2DVJxU9",
   "metadata": {
    "id": "9Cjpl2DVJxU9"
   },
   "outputs": [
    {
     "data": {
      "text/plain": [
       "14.8"
      ]
     },
     "execution_count": 10,
     "metadata": {},
     "output_type": "execute_result"
    }
   ],
   "source": [
    "mean = (3+10+7+44+10)/5\n",
    "mean"
   ]
  },
  {
   "cell_type": "code",
   "execution_count": 11,
   "id": "lnUD-rrJJxU9",
   "metadata": {
    "id": "lnUD-rrJJxU9"
   },
   "outputs": [
    {
     "data": {
      "text/plain": [
       "np.float64(14.8)"
      ]
     },
     "execution_count": 11,
     "metadata": {},
     "output_type": "execute_result"
    }
   ],
   "source": [
    "import numpy as np\n",
    "arr = [3,10,7,44,10]\n",
    "y = np.mean(arr)\n",
    "y"
   ]
  },
  {
   "cell_type": "code",
   "execution_count": 12,
   "id": "GFZTw0Q3JxU9",
   "metadata": {
    "id": "GFZTw0Q3JxU9"
   },
   "outputs": [
    {
     "data": {
      "text/plain": [
       "np.float64(10.0)"
      ]
     },
     "execution_count": 12,
     "metadata": {},
     "output_type": "execute_result"
    }
   ],
   "source": [
    "med = np.median(arr)\n",
    "med"
   ]
  },
  {
   "cell_type": "markdown",
   "id": "1WXFCuLBJxU-",
   "metadata": {
    "id": "1WXFCuLBJxU-"
   },
   "source": [
    "Median - Central value of data when it is ordered from smallest to largest.\n",
    "\n",
    "Mode - Most number of times occuring data.\n"
   ]
  },
  {
   "cell_type": "code",
   "execution_count": null,
   "id": "ViEETiSQJxU-",
   "metadata": {
    "id": "ViEETiSQJxU-"
   },
   "outputs": [],
   "source": []
  },
  {
   "cell_type": "markdown",
   "id": "5msrglumJxU-",
   "metadata": {
    "id": "5msrglumJxU-"
   },
   "source": [
    "You can type more than a single line into a cell. For instance, consider the simple program below. This calculates the mean of three numbers (a, b, c). **Evaluate this cell:**"
   ]
  },
  {
   "cell_type": "code",
   "execution_count": 13,
   "id": "szHXIBCJJxU-",
   "metadata": {
    "colab": {
     "base_uri": "https://localhost:8080/"
    },
    "executionInfo": {
     "elapsed": 7,
     "status": "ok",
     "timestamp": 1704798738335,
     "user": {
      "displayName": "Linda Cremonesi",
      "userId": "14767435952218470727"
     },
     "user_tz": 0
    },
    "id": "szHXIBCJJxU-",
    "outputId": "f6132556-36c4-40c2-c989-0369fce061b9"
   },
   "outputs": [
    {
     "name": "stdout",
     "output_type": "stream",
     "text": [
      "6.666666666666667\n"
     ]
    }
   ],
   "source": [
    "a = 3\n",
    "b = 10\n",
    "c = 7\n",
    "\n",
    "mean = (a+b+c)/3\n",
    "\n",
    "print(mean)"
   ]
  },
  {
   "cell_type": "markdown",
   "id": "VLHL3uMuJxU-",
   "metadata": {
    "id": "VLHL3uMuJxU-"
   },
   "source": [
    "Now choose a different time, say a=20. **Edit the cell above, evaluate it**, and confirm that the program prints the correct answer 12.3."
   ]
  },
  {
   "cell_type": "code",
   "execution_count": 14,
   "id": "b7qT3fNzJxU-",
   "metadata": {
    "id": "b7qT3fNzJxU-"
   },
   "outputs": [
    {
     "name": "stdout",
     "output_type": "stream",
     "text": [
      "12.333333333333334\n"
     ]
    }
   ],
   "source": [
    "a = 20\n",
    "b = 10\n",
    "c = 7\n",
    "\n",
    "mean = (a+b+c)/3\n",
    "\n",
    "print(mean)"
   ]
  },
  {
   "cell_type": "markdown",
   "id": "6rmPAgBTJxU_",
   "metadata": {
    "id": "6rmPAgBTJxU_"
   },
   "source": [
    "## Data types  [^](#index) <a id='types'></a>\n",
    "There are data types that we might consider \"collections\": sequences or sets of data. Some of these are the following:\n",
    "\n",
    "Short name | Example | Note\n",
    "-----------|---------|------\n",
    "`str`   | \"Hello\"           | A string is essentially just a sequence of characters. Mutable (can be changed).\n",
    "`list`  | `['a', 'b', 'a']` | Mutable (can be changed).\n",
    "`tuple` | `('a', 'b', 'a')` | Immutable. Generated automatically if a list of items is given.\n",
    "`dict`  | `{'a': 1, 'b': 2}`| Indexed by a set of *keys* rather than just numbers.\n",
    "`set`   | `{'a', 'b'}`      | Can only have any given entry once.\n"
   ]
  },
  {
   "cell_type": "markdown",
   "id": "6SS2FFvyJxU_",
   "metadata": {
    "id": "6SS2FFvyJxU_"
   },
   "source": [
    "### Lists"
   ]
  },
  {
   "cell_type": "code",
   "execution_count": 15,
   "id": "KGokGZEPJxU_",
   "metadata": {
    "id": "KGokGZEPJxU_"
   },
   "outputs": [],
   "source": [
    "my_list = ['Hello', 2, 3.14159]"
   ]
  },
  {
   "cell_type": "markdown",
   "id": "73AiCSNjJxVA",
   "metadata": {
    "id": "73AiCSNjJxVA"
   },
   "source": [
    "Note that the three *elements* of the list are all of different types: a string, an integer, and a floating-point number. We can reference elements of the list also using square brackets; note that the numbering starts from zero:"
   ]
  },
  {
   "cell_type": "code",
   "execution_count": 16,
   "id": "omNFxvE-JxVA",
   "metadata": {
    "id": "omNFxvE-JxVA",
    "outputId": "1ac18778-6b88-4283-b378-14c57e530465"
   },
   "outputs": [
    {
     "data": {
      "text/plain": [
       "'Hello'"
      ]
     },
     "execution_count": 16,
     "metadata": {},
     "output_type": "execute_result"
    }
   ],
   "source": [
    "my_list[0]"
   ]
  },
  {
   "cell_type": "markdown",
   "id": "glhTSZixJxVA",
   "metadata": {
    "id": "glhTSZixJxVA"
   },
   "source": [
    "Now try to access the first and second element too:"
   ]
  },
  {
   "cell_type": "code",
   "execution_count": 17,
   "id": "P1IwUEu4JxVA",
   "metadata": {
    "id": "P1IwUEu4JxVA",
    "outputId": "ffe9896a-88f3-4cdf-aeb9-f6965d88f519"
   },
   "outputs": [
    {
     "data": {
      "text/plain": [
       "2"
      ]
     },
     "execution_count": 17,
     "metadata": {},
     "output_type": "execute_result"
    }
   ],
   "source": [
    "my_list[1]"
   ]
  },
  {
   "cell_type": "code",
   "execution_count": 18,
   "id": "0d65eb58",
   "metadata": {},
   "outputs": [
    {
     "data": {
      "text/plain": [
       "3.14159"
      ]
     },
     "execution_count": 18,
     "metadata": {},
     "output_type": "execute_result"
    }
   ],
   "source": [
    "my_list[2]"
   ]
  },
  {
   "cell_type": "markdown",
   "id": "jRrn0W4fJxVB",
   "metadata": {
    "id": "jRrn0W4fJxVB"
   },
   "source": [
    "We can also choose a subsection of the list – what in Python is often called a *slice* – by using two indices with a colon:"
   ]
  },
  {
   "cell_type": "code",
   "execution_count": 19,
   "id": "koOsLXPgJxVB",
   "metadata": {
    "id": "koOsLXPgJxVB",
    "outputId": "13dbca97-0211-487e-d02a-2eec7aea4e59"
   },
   "outputs": [
    {
     "data": {
      "text/plain": [
       "[2, 3.14159]"
      ]
     },
     "execution_count": 19,
     "metadata": {},
     "output_type": "execute_result"
    }
   ],
   "source": [
    "my_list[1:3]"
   ]
  },
  {
   "cell_type": "markdown",
   "id": "rDTGGG8RJxVB",
   "metadata": {
    "id": "rDTGGG8RJxVB"
   },
   "source": [
    "Note the way it works: the first index (`mylist[1]`) is *included*, the second (`mylist[3]`) *not*. This can be a little confusing, but has the advantage that the number of elements in the slice `[m:n]` is always `n - m`.\n",
    "\n",
    "Either `m` or `n` can be omitted in slice notation: this just makes a slice that goes from the beginning or to the end of a list:"
   ]
  },
  {
   "cell_type": "code",
   "execution_count": 20,
   "id": "d0OoGemuJxVC",
   "metadata": {
    "id": "d0OoGemuJxVC",
    "outputId": "3a550228-7c97-43a8-abdb-844e877e3803"
   },
   "outputs": [
    {
     "data": {
      "text/plain": [
       "['Hello', 2]"
      ]
     },
     "execution_count": 20,
     "metadata": {},
     "output_type": "execute_result"
    }
   ],
   "source": [
    "my_list[:2]"
   ]
  },
  {
   "cell_type": "markdown",
   "id": "ZfJqWww9JxVC",
   "metadata": {
    "id": "ZfJqWww9JxVC"
   },
   "source": [
    "The length of a list is given by the built-in function `len`:"
   ]
  },
  {
   "cell_type": "code",
   "execution_count": 21,
   "id": "kguDbYTaJxVC",
   "metadata": {
    "id": "kguDbYTaJxVC",
    "outputId": "29a90f83-278a-4cfc-d329-999e28eff18f"
   },
   "outputs": [
    {
     "data": {
      "text/plain": [
       "3"
      ]
     },
     "execution_count": 21,
     "metadata": {},
     "output_type": "execute_result"
    }
   ],
   "source": [
    "len(my_list)"
   ]
  },
  {
   "cell_type": "markdown",
   "id": "5f785p5KJxVC",
   "metadata": {
    "id": "5f785p5KJxVC"
   },
   "source": [
    "**Try typing `?len` in the cell below and evaluating it.** This is a useful way to find out more about a Python command or function you're not sure about using! Again `Shift`-`Tab` is an alternative way to do the same thing."
   ]
  },
  {
   "cell_type": "code",
   "execution_count": 22,
   "id": "z3MRBm9xJxVC",
   "metadata": {
    "id": "z3MRBm9xJxVC"
   },
   "outputs": [
    {
     "name": "stdout",
     "output_type": "stream",
     "text": [
      "\u001b[31mSignature:\u001b[39m len(obj, /)\n",
      "\u001b[31mDocstring:\u001b[39m Return the number of items in a container.\n",
      "\u001b[31mType:\u001b[39m      builtin_function_or_method"
     ]
    }
   ],
   "source": [
    "?len"
   ]
  },
  {
   "cell_type": "markdown",
   "id": "DS4KsK40JxVC",
   "metadata": {
    "id": "DS4KsK40JxVC"
   },
   "source": [
    "You can use the `append` method to add a single item to a list:\n",
    "\n",
    "(\"Method\" here means a function that \"belongs\" to the `list` type. The syntax is to put a full stop `.` after the name of the list (or whatever) then add the name of the method, as below.)"
   ]
  },
  {
   "cell_type": "code",
   "execution_count": 23,
   "id": "vJvNEFqjJxVD",
   "metadata": {
    "id": "vJvNEFqjJxVD",
    "outputId": "532cfc39-8b4d-4d6a-f099-c72549cfa6bc"
   },
   "outputs": [
    {
     "name": "stdout",
     "output_type": "stream",
     "text": [
      "['Hello', 2, 3.14159, \"I'm new!\"]\n"
     ]
    }
   ],
   "source": [
    "my_list.append(\"I'm new!\") # note that I use double quotes to easily include a single quote in the string\n",
    "print(my_list)"
   ]
  },
  {
   "cell_type": "markdown",
   "id": "IuUnw36EJxVD",
   "metadata": {
    "id": "IuUnw36EJxVD"
   },
   "source": [
    "Alternatively, if you have lots of items to add, you can combine lists by using the ordinary `+` symbol:"
   ]
  },
  {
   "cell_type": "code",
   "execution_count": 24,
   "id": "HN6UfW5oJxVD",
   "metadata": {
    "id": "HN6UfW5oJxVD",
    "outputId": "f8ce4889-d427-466b-b31a-914a47184c63"
   },
   "outputs": [
    {
     "data": {
      "text/plain": [
       "[1, 2, 3, 7, 8, 9]"
      ]
     },
     "execution_count": 24,
     "metadata": {},
     "output_type": "execute_result"
    }
   ],
   "source": [
    "[1, 2, 3] + [7, 8, 9]"
   ]
  },
  {
   "cell_type": "markdown",
   "id": "Z7xbV6NBJxVD",
   "metadata": {
    "id": "Z7xbV6NBJxVD"
   },
   "source": [
    "Similarly we can `pack` elements into a list or `unpack` a list into its elements. For example the code below makes a list out of three elements."
   ]
  },
  {
   "cell_type": "code",
   "execution_count": 25,
   "id": "LJWUV4vEJxVD",
   "metadata": {
    "id": "LJWUV4vEJxVD",
    "outputId": "2f1f7563-c088-4c76-91e9-680118403b36"
   },
   "outputs": [
    {
     "name": "stdout",
     "output_type": "stream",
     "text": [
      "[5, 6, 7]\n"
     ]
    }
   ],
   "source": [
    "a = 5\n",
    "b = 6\n",
    "c = 7\n",
    "mylist = [a,b,c]\n",
    "print(mylist)"
   ]
  },
  {
   "cell_type": "markdown",
   "id": "lPajw4N6JxVD",
   "metadata": {
    "id": "lPajw4N6JxVD"
   },
   "source": [
    "If we know that our list has 3 elements, we can unpack it, like the following:"
   ]
  },
  {
   "cell_type": "code",
   "execution_count": 26,
   "id": "66ed8JGuJxVE",
   "metadata": {
    "id": "66ed8JGuJxVE",
    "outputId": "41d9804b-81f0-4fee-f7b2-103b271b11d2"
   },
   "outputs": [
    {
     "name": "stdout",
     "output_type": "stream",
     "text": [
      "5 6 7\n"
     ]
    }
   ],
   "source": [
    "d, e, f = mylist\n",
    "print(d,e,f)"
   ]
  },
  {
   "cell_type": "markdown",
   "id": "HuQog0AiJxVE",
   "metadata": {
    "id": "HuQog0AiJxVE"
   },
   "source": [
    "Similarly take the following list, and **define the `name`, `age`, and `job` using the unpacking method.**"
   ]
  },
  {
   "cell_type": "code",
   "execution_count": 27,
   "id": "NNWeB5FhJxVE",
   "metadata": {
    "id": "NNWeB5FhJxVE",
    "outputId": "78a07718-e1d2-4dc4-aae6-57458a7f8b9f"
   },
   "outputs": [
    {
     "name": "stdout",
     "output_type": "stream",
     "text": [
      "['axel', 22, 'ai ml dev']\n"
     ]
    }
   ],
   "source": [
    "employee = [\"Jane Doe\", \"30\", \"Software Engineer\"]\n",
    "name = 'axel'\n",
    "age = 22\n",
    "job = 'ai ml dev'\n",
    "employee = [name, age, job]\n",
    "\n",
    "print (employee)"
   ]
  },
  {
   "cell_type": "markdown",
   "id": "qbGHyHuMJxVE",
   "metadata": {
    "id": "qbGHyHuMJxVE"
   },
   "source": [
    "### Importing from modules"
   ]
  },
  {
   "cell_type": "code",
   "execution_count": 28,
   "id": "zn0sLf_uJxVG",
   "metadata": {
    "id": "zn0sLf_uJxVG"
   },
   "outputs": [],
   "source": [
    "import numpy as np"
   ]
  },
  {
   "cell_type": "markdown",
   "id": "pRRY-3nsJxVG",
   "metadata": {
    "id": "pRRY-3nsJxVG"
   },
   "source": [
    "Some useful numpy functions are:\n",
    "\n",
    "Name | Description\n",
    "-----|-----\n",
    "argmax  | Return index of maximum element in array\n",
    "argmin  | Return index of minimum element in array\n",
    "average | Compute the weighted average\n",
    "ceil | Round up to the nearest integer\n",
    "cov | Estimate the covariance matrix\n",
    "floor | Round down to the nearest integer\n",
    "max | Return maximum element of array\n",
    "mean | Arithmetic mean\n",
    "median | Determine the median\n",
    "min | Return minimum element of array\n",
    "prod | Return the product\n",
    "std | Compute the standard deviation\n",
    "sum | Compute the sum\n",
    "unique | Find the unique elements of an array\n",
    "var | Compute the variance\n",
    "\n",
    "**Try them out with the following array:**"
   ]
  },
  {
   "cell_type": "code",
   "execution_count": 29,
   "id": "WzEERzWgJxVH",
   "metadata": {
    "id": "WzEERzWgJxVH"
   },
   "outputs": [
    {
     "name": "stdout",
     "output_type": "stream",
     "text": [
      "[10, 10, 14, 22, 35.4, 85, 10, 22, 30, 20, 40, 92]\n"
     ]
    }
   ],
   "source": [
    "a = [10, 10, 14, 22, 35.4, 85, 10, 22, 30, 20, 40, 92]\n",
    "print(a)"
   ]
  },
  {
   "cell_type": "code",
   "execution_count": 30,
   "id": "Pf71W1oMJxVH",
   "metadata": {
    "id": "Pf71W1oMJxVH"
   },
   "outputs": [
    {
     "data": {
      "text/plain": [
       "np.int64(11)"
      ]
     },
     "execution_count": 30,
     "metadata": {},
     "output_type": "execute_result"
    }
   ],
   "source": [
    "np.argmax(a)"
   ]
  },
  {
   "cell_type": "code",
   "execution_count": 31,
   "id": "d6Inl2_CJxVH",
   "metadata": {
    "id": "d6Inl2_CJxVH"
   },
   "outputs": [
    {
     "data": {
      "text/plain": [
       "np.int64(0)"
      ]
     },
     "execution_count": 31,
     "metadata": {},
     "output_type": "execute_result"
    }
   ],
   "source": [
    "np.argmin(a)"
   ]
  },
  {
   "cell_type": "code",
   "execution_count": 32,
   "id": "LeiyvmInJxVH",
   "metadata": {
    "id": "LeiyvmInJxVH"
   },
   "outputs": [
    {
     "data": {
      "text/plain": [
       "np.float64(26.77863991235469)"
      ]
     },
     "execution_count": 32,
     "metadata": {},
     "output_type": "execute_result"
    }
   ],
   "source": [
    "np.std(a)"
   ]
  },
  {
   "cell_type": "code",
   "execution_count": 33,
   "id": "BZunfbjuJxVH",
   "metadata": {
    "id": "BZunfbjuJxVH"
   },
   "outputs": [
    {
     "data": {
      "text/plain": [
       "array([10. , 14. , 20. , 22. , 30. , 35.4, 40. , 85. , 92. ])"
      ]
     },
     "execution_count": 33,
     "metadata": {},
     "output_type": "execute_result"
    }
   ],
   "source": [
    "np.unique(a)"
   ]
  },
  {
   "cell_type": "markdown",
   "id": "9bEbIAd7JxVH",
   "metadata": {
    "id": "9bEbIAd7JxVH"
   },
   "source": [
    "### Arrays vs Lists\n",
    "An array is also a data structure that stores a collection of items. Like lists, arrays are ordered, mutable, enclosed in square brackets, and able to store non-unique items. Here's an example array:"
   ]
  },
  {
   "cell_type": "code",
   "execution_count": 34,
   "id": "dJGwIGtXJxVI",
   "metadata": {
    "id": "dJGwIGtXJxVI",
    "outputId": "af04c918-45b3-46c7-e186-d914b1eeea46"
   },
   "outputs": [
    {
     "data": {
      "text/plain": [
       "np.str_('hello')"
      ]
     },
     "execution_count": 34,
     "metadata": {},
     "output_type": "execute_result"
    }
   ],
   "source": [
    "my_array = np.array([10,12, \"hello\"])\n",
    "my_array[2]"
   ]
  },
  {
   "cell_type": "markdown",
   "id": "xg_lcKStJxVI",
   "metadata": {
    "id": "xg_lcKStJxVI"
   },
   "source": [
    "The main difference between arrays and lists is that arrays can handle mathematical operations and lists cannot. **Evaluate the cells below and try it out.**"
   ]
  },
  {
   "cell_type": "code",
   "execution_count": 35,
   "id": "1SGUN1XXJxVI",
   "metadata": {
    "id": "1SGUN1XXJxVI",
    "outputId": "4b159836-0256-4fd6-9b27-3afaad1491d2"
   },
   "outputs": [
    {
     "data": {
      "text/plain": [
       "' THrows Error\\nmy_list = [10, 15, 15, 20, 25, 30, 32]\\ndivision = my_list/3\\nprint(division) '"
      ]
     },
     "execution_count": 35,
     "metadata": {},
     "output_type": "execute_result"
    }
   ],
   "source": [
    "\"\"\" THrows Error\n",
    "my_list = [10, 15, 15, 20, 25, 30, 32]\n",
    "division = my_list/3\n",
    "print(division) \"\"\""
   ]
  },
  {
   "cell_type": "markdown",
   "id": "5CQ-QiC1JxVI",
   "metadata": {
    "id": "5CQ-QiC1JxVI"
   },
   "source": [
    "Now let's see if we use an array instead:"
   ]
  },
  {
   "cell_type": "code",
   "execution_count": 36,
   "id": "v4UGMBVbJxVI",
   "metadata": {
    "id": "v4UGMBVbJxVI",
    "outputId": "121f562b-f3b1-41cc-ef91-f5d34a3d90b4"
   },
   "outputs": [
    {
     "name": "stdout",
     "output_type": "stream",
     "text": [
      "[ 3.33333333  5.          5.          6.66666667  8.33333333 10.\n",
      " 10.66666667]\n"
     ]
    }
   ],
   "source": [
    "my_array = np.array([10, 15, 15, 20, 25, 30, 32])\n",
    "division = my_array/3\n",
    "print(division)"
   ]
  },
  {
   "cell_type": "markdown",
   "id": "Qfj0ANwYJxVJ",
   "metadata": {
    "id": "Qfj0ANwYJxVJ"
   },
   "source": [
    "#### Can you cast a list as an array?"
   ]
  },
  {
   "cell_type": "markdown",
   "id": "25d3c1b0",
   "metadata": {},
   "source": [
    "#### Answer - Yes"
   ]
  },
  {
   "cell_type": "code",
   "execution_count": 37,
   "id": "c45gJbTiJxVJ",
   "metadata": {
    "id": "c45gJbTiJxVJ",
    "outputId": "5087d569-9bc9-4e86-a68e-7248671d9d2a"
   },
   "outputs": [
    {
     "name": "stdout",
     "output_type": "stream",
     "text": [
      "[ 3.33333333  5.          5.          6.66666667  8.33333333 10.\n",
      " 10.66666667]\n"
     ]
    }
   ],
   "source": [
    "my_list = [10, 15, 15, 20, 25, 30, 32]\n",
    "my_array = np.array(my_list)\n",
    "division = my_array/3\n",
    "print(division)"
   ]
  },
  {
   "cell_type": "code",
   "execution_count": 38,
   "id": "X4GbNDlsJxVJ",
   "metadata": {
    "id": "X4GbNDlsJxVJ"
   },
   "outputs": [],
   "source": [
    "a_list = [1,2,3,4,5]\n",
    "b_list = [5,4,3,2,1]\n",
    "a_array = np.array(a_list)\n",
    "b_array = np.array(b_list)"
   ]
  },
  {
   "cell_type": "code",
   "execution_count": 39,
   "id": "_NtlmIAAJxVJ",
   "metadata": {
    "id": "_NtlmIAAJxVJ",
    "outputId": "c5f161f0-decd-4a72-b9c3-2dba49450b07"
   },
   "outputs": [
    {
     "name": "stdout",
     "output_type": "stream",
     "text": [
      "[1, 2, 3, 4, 5, 5, 4, 3, 2, 1]\n"
     ]
    }
   ],
   "source": [
    "sum1 = a_list + b_list\n",
    "print(sum1)"
   ]
  },
  {
   "cell_type": "code",
   "execution_count": 40,
   "id": "6iJSdfwwJxVK",
   "metadata": {
    "id": "6iJSdfwwJxVK",
    "outputId": "74402757-ef06-4a32-de38-cadb08b6a1f2"
   },
   "outputs": [
    {
     "name": "stdout",
     "output_type": "stream",
     "text": [
      "[6 6 6 6 6]\n"
     ]
    }
   ],
   "source": [
    "sum2 = a_array + b_array\n",
    "print(sum2)"
   ]
  },
  {
   "cell_type": "markdown",
   "id": "wCV27Jb0JxVK",
   "metadata": {
    "id": "wCV27Jb0JxVK"
   },
   "source": [
    "<div style=\"background-color:#C2F5DD\">\n",
    "\n",
    "## Exercise 1\n",
    "\n",
    "Write an expression to calculate the variance of `my_array` and compare it to `np.var(my_array)`. First, let's recall the definition of the variance:\n",
    "$$ \\dfrac{1}{N} \\sum_{i=1}^{N} (x_i - \\overline{x})^2$$\n",
    "One can notice, that this is basically the mean of the array $(x_i - \\overline{x})^2$. You can do this in 4 steps:\n",
    "\n",
    "1) **Write** an expression for the mean of `my_array`\n",
    "2) **Define** a new array as the difference between `my_array` and its mean\n",
    "3) **Square** your new array\n",
    "4) And **calculate** the mean of `new_array_squared`. Compare this to the variance calculated with `numpy`."
   ]
  },
  {
   "cell_type": "code",
   "execution_count": 41,
   "id": "d0322b1a-13e5-403b-a033-031378a353aa",
   "metadata": {},
   "outputs": [
    {
     "data": {
      "text/plain": [
       "array([10, 15, 15, 20, 25, 30, 32])"
      ]
     },
     "execution_count": 41,
     "metadata": {},
     "output_type": "execute_result"
    }
   ],
   "source": [
    "# 1\n",
    "my_array = np.array([10, 15, 15, 20, 25, 30, 32])\n",
    "my_array"
   ]
  },
  {
   "cell_type": "code",
   "execution_count": 42,
   "id": "c7935e84-84aa-43fc-8850-7c16348c4058",
   "metadata": {},
   "outputs": [
    {
     "data": {
      "text/plain": [
       "np.float64(58.857142857142854)"
      ]
     },
     "execution_count": 42,
     "metadata": {},
     "output_type": "execute_result"
    }
   ],
   "source": [
    "arr_var = np.var(my_array)\n",
    "arr_var"
   ]
  },
  {
   "cell_type": "code",
   "execution_count": 43,
   "id": "7980fc0f-d68b-482d-a202-c1045632a261",
   "metadata": {},
   "outputs": [
    {
     "data": {
      "text/plain": [
       "array([-11.,  -6.,  -6.,  -1.,   4.,   9.,  11.])"
      ]
     },
     "execution_count": 43,
     "metadata": {},
     "output_type": "execute_result"
    }
   ],
   "source": [
    "# 2\n",
    "new_array = my_array-np.mean(my_array)\n",
    "new_array"
   ]
  },
  {
   "cell_type": "code",
   "execution_count": 44,
   "id": "84d5cb21-36b4-41c3-a528-f739050983a4",
   "metadata": {},
   "outputs": [
    {
     "data": {
      "text/plain": [
       "array([121.,  36.,  36.,   1.,  16.,  81., 121.])"
      ]
     },
     "execution_count": 44,
     "metadata": {},
     "output_type": "execute_result"
    }
   ],
   "source": [
    "# 3\n",
    "sqrd_new_array = new_array**2\n",
    "sqrd_new_array"
   ]
  },
  {
   "cell_type": "code",
   "execution_count": 45,
   "id": "811b0dfe",
   "metadata": {},
   "outputs": [
    {
     "data": {
      "text/plain": [
       "np.float64(58.857142857142854)"
      ]
     },
     "execution_count": 45,
     "metadata": {},
     "output_type": "execute_result"
    }
   ],
   "source": [
    "# 4\n",
    "mean_sqrd_new_array = np.mean(sqrd_new_array)\n",
    "mean_sqrd_new_array"
   ]
  },
  {
   "cell_type": "code",
   "execution_count": 46,
   "id": "cd4cd6fd",
   "metadata": {},
   "outputs": [
    {
     "data": {
      "text/plain": [
       "np.float64(58.857142857142854)"
      ]
     },
     "execution_count": 46,
     "metadata": {},
     "output_type": "execute_result"
    }
   ],
   "source": [
    "arr_var"
   ]
  },
  {
   "cell_type": "markdown",
   "id": "h-E2iwEoJxVM",
   "metadata": {
    "id": "h-E2iwEoJxVM"
   },
   "source": [
    "<div style=\"background-color:#C2F5DD\">\n",
    "\n",
    "## Exercise 2\n",
    "Write an expression to find the mode of `my_array`. \n",
    "Suggestion: you can use the `numpy` functions `unique` and `argmax` to help you with this. "
   ]
  },
  {
   "cell_type": "code",
   "execution_count": 47,
   "id": "d1acfd07",
   "metadata": {},
   "outputs": [
    {
     "name": "stdout",
     "output_type": "stream",
     "text": [
      "[10 15 15 20 25 30 32]\n"
     ]
    }
   ],
   "source": [
    "print(my_array)"
   ]
  },
  {
   "cell_type": "code",
   "execution_count": 48,
   "id": "qUkUGiXMJxVN",
   "metadata": {
    "id": "qUkUGiXMJxVN",
    "outputId": "8aab3a95-c87e-4889-c4bd-9eabf955a834"
   },
   "outputs": [
    {
     "name": "stdout",
     "output_type": "stream",
     "text": [
      "Mode : 15, count : 2\n"
     ]
    }
   ],
   "source": [
    "my_array = np.array([10, 15, 15, 20, 25, 30, 32])\n",
    "vals, counts = np.unique(my_array, return_counts=True)\n",
    "mode_vals = vals[counts == counts.max()]\n",
    "mode = mode_vals[0]  # 15\n",
    "count = counts.max()  # 2\n",
    "print(f\"Mode : {mode}, count : {count}\")"
   ]
  },
  {
   "cell_type": "markdown",
   "id": "lr5DI7JyJxVN",
   "metadata": {
    "id": "lr5DI7JyJxVN"
   },
   "source": [
    "## Functions  [^](#index) <a id='functions'></a>\n",
    "\n",
    "In Python we can wrap up any piece of code, especially if we might want to re-use it, into a *function*. To do this we use the keyword `def`. As an example, let's turn the simple program above into a function. **Evaluate the cell below:**"
   ]
  },
  {
   "cell_type": "code",
   "execution_count": 49,
   "id": "PY2N_akcJxVN",
   "metadata": {
    "id": "PY2N_akcJxVN"
   },
   "outputs": [],
   "source": [
    "def average_of_three_numbers(a, b, c):\n",
    "    m = (a+b+c)/3\n",
    "    return m"
   ]
  },
  {
   "cell_type": "markdown",
   "id": "0Q5gX1zIJxVN",
   "metadata": {
    "id": "0Q5gX1zIJxVN"
   },
   "source": [
    "Some points to notice:\n",
    "1. We have given our function the name `average_of_three_numbers`. Descriptive names are always good!\n",
    "1. The function has three *arguments*, `a`, `b`, and `c`. These go in brackets after the function name. Rather than setting `a`, `b`, and `c` explicitly, as we did in the previous program, we will specify these when we call the function.\n",
    "1. We have shown which lines of code are part of the function by pressing `Tab` before them to indent them. Anything indented is part of the function; anything on the same level as the `def` keyword is not. This way of delineating blocks of code is common in Python, as we'll see.\n",
    "1. Rather than printing the result, we use the keyword `return`. This specifies the \"result\" of running this code: when we *call* this function, it will be replaced by the value it returns, here the value of the variable `m`. (We'll explore this point in a little more detail in a few moments.)\n",
    "\n",
    "Putting this all together, we can now *call* our function. In the cell below, **type in \"av\", then press `Tab`**. You will see that Jupyter recognises a name we've previously used, and completes `average_of_three_numbers` for you. **Keep typing so that the cell reads `average_of_three_numbers(10.5, 782.3, 35)`, then evaluate it.**"
   ]
  },
  {
   "cell_type": "code",
   "execution_count": 50,
   "id": "AqOWGNE8JxVN",
   "metadata": {
    "id": "AqOWGNE8JxVN",
    "outputId": "35bcbcfc-f45a-4dd8-b65f-304fcbec85ac"
   },
   "outputs": [
    {
     "data": {
      "text/plain": [
       "275.93333333333334"
      ]
     },
     "execution_count": 50,
     "metadata": {},
     "output_type": "execute_result"
    }
   ],
   "source": [
    "average_of_three_numbers(10.5, 782.3, 35)"
   ]
  },
  {
   "cell_type": "markdown",
   "id": "iB5qqAAmJxVO",
   "metadata": {
    "id": "iB5qqAAmJxVO"
   },
   "source": [
    "Let's redefine the function a little. **Evaluate the cell below:**"
   ]
  },
  {
   "cell_type": "code",
   "execution_count": 51,
   "id": "DDvLrFJsJxVO",
   "metadata": {
    "id": "DDvLrFJsJxVO"
   },
   "outputs": [],
   "source": [
    "def average_of_three_numbers(a, b, c=10):\n",
    "    \"\"\"Calculates the average of three numbers a, b, c.\"\"\"\n",
    "    m = (a+b+c)/3\n",
    "    return m"
   ]
  },
  {
   "cell_type": "markdown",
   "id": "xva49oeEJxVQ",
   "metadata": {
    "id": "xva49oeEJxVQ"
   },
   "source": [
    "### Returning values *vs* printing output\n",
    "\n",
    "Jupyter notebooks have the useful function that they automatically print out the value of the *last expression* in a cell. So when you evaluated `average_of_three_numbers(9.5, 2)`, Jupyter printed out the value of the average it calculated. You might think it would be equally acceptable to write a function that explicitly prints the value it calculates, something like the following:"
   ]
  },
  {
   "cell_type": "code",
   "execution_count": 52,
   "id": "5qhQjFxmJxVQ",
   "metadata": {
    "id": "5qhQjFxmJxVQ"
   },
   "outputs": [],
   "source": [
    "def average_of_three_numbers_wrong(a, b, c=10):\n",
    "    \"\"\"Calculates the average of three numbers a, b, c.\n",
    "    Prints the answer rather than returning it, which is a coding mistake!\"\"\"\n",
    "    m = (a+b+c)/3\n",
    "    print(m)\n"
   ]
  },
  {
   "cell_type": "markdown",
   "id": "nNqpCQPpJxVQ",
   "metadata": {
    "id": "nNqpCQPpJxVQ"
   },
   "source": [
    "Now `average_of_three_numbers_wrong(9.5, 2)` should give output that looks very similar to `average_of_three_numbers(9.5, 2)`. **Check this.**"
   ]
  },
  {
   "cell_type": "code",
   "execution_count": 53,
   "id": "Ebu0uK4TJxVQ",
   "metadata": {
    "id": "Ebu0uK4TJxVQ",
    "outputId": "3027d8dd-adfa-4c08-86ce-402a1cd1c346"
   },
   "outputs": [
    {
     "name": "stdout",
     "output_type": "stream",
     "text": [
      "7.166666666666667\n"
     ]
    }
   ],
   "source": [
    "average_of_three_numbers_wrong(9.5, 2)"
   ]
  },
  {
   "cell_type": "markdown",
   "id": "VC2xDfQDJxVQ",
   "metadata": {
    "id": "VC2xDfQDJxVQ"
   },
   "source": [
    "But this version is not nearly as useful if we want to do anything further with the results of our calculation. For instance, suppose that we want to add 100 to the average. **Evaluate the following cells. Can you explain why the first version works and the \"wrong\" one doesn't?**"
   ]
  },
  {
   "cell_type": "code",
   "execution_count": 54,
   "id": "q8-4Il26JxVR",
   "metadata": {
    "id": "q8-4Il26JxVR",
    "outputId": "d64f81e1-0c0c-4289-e7e3-476ca6828f5d"
   },
   "outputs": [
    {
     "data": {
      "text/plain": [
       "107.16666666666667"
      ]
     },
     "execution_count": 54,
     "metadata": {},
     "output_type": "execute_result"
    }
   ],
   "source": [
    "100 + average_of_three_numbers(9.5, 2)"
   ]
  },
  {
   "cell_type": "code",
   "execution_count": 23,
   "id": "rpfta8i8JxVR",
   "metadata": {
    "id": "rpfta8i8JxVR",
    "outputId": "3045e578-76f4-4ec1-de88-889940e42812"
   },
   "outputs": [
    {
     "data": {
      "text/plain": [
       "'  100 + average_of_three_numbers_wrong(9.5, 2)'"
      ]
     },
     "execution_count": 23,
     "metadata": {},
     "output_type": "execute_result"
    }
   ],
   "source": [
    "\"\"\"  100 + average_of_three_numbers_wrong(9.5, 2)\"\"\""
   ]
  },
  {
   "cell_type": "markdown",
   "id": "wjr9oKGIJxVR",
   "metadata": {
    "id": "wjr9oKGIJxVR"
   },
   "source": [
    "### Branching"
   ]
  },
  {
   "cell_type": "code",
   "execution_count": 56,
   "id": "L1eoOBhUJxVR",
   "metadata": {
    "id": "L1eoOBhUJxVR",
    "outputId": "a16de04e-92a1-41a0-f668-a9f5f4ad0f8d"
   },
   "outputs": [],
   "source": [
    "number = -3\n",
    "\n",
    "# Check for an acceptable value of `number`.\n",
    "if number > 0:\n",
    "    print (number, \" is positive\")"
   ]
  },
  {
   "cell_type": "markdown",
   "id": "muQqmVKUJxVS",
   "metadata": {
    "id": "muQqmVKUJxVS"
   },
   "source": [
    "**Now change the first line, where `number` is defined, *without changing anything in the subsequent code*, so that some output will be printed, and evaluate the cell again to check.**\n",
    "\n",
    "Sometimes we want to use one set of instructions if a condition holds, and another if it does not. **Evaluate the following cell:**"
   ]
  },
  {
   "cell_type": "code",
   "execution_count": 57,
   "id": "sTDsaFIeJxVS",
   "metadata": {
    "id": "sTDsaFIeJxVS",
    "outputId": "719d2cf7-f3d8-4f33-ff44-098c61d28b28"
   },
   "outputs": [
    {
     "name": "stdout",
     "output_type": "stream",
     "text": [
      "-3 is negative or zero\n"
     ]
    }
   ],
   "source": [
    "number = -3\n",
    "\n",
    "if number > 0:\n",
    "    print (number, \"is positive\")\n",
    "else:\n",
    "    print (number, \"is negative or zero\")"
   ]
  },
  {
   "cell_type": "markdown",
   "id": "A4rAddhWJxVS",
   "metadata": {
    "id": "A4rAddhWJxVS"
   },
   "source": [
    "If we want to chain lots of these statements together, the `elif` statement comes in handy: this is short for `else if`. **Evaluate the following cell.**\n",
    "\n",
    "(Note, incidentally, the difference between the *assignment* operator `=` on the first line, used to set `number` to -3, and the *comparison* operator `==` later on, used to compare `number` to zero.)"
   ]
  },
  {
   "cell_type": "code",
   "execution_count": 58,
   "id": "Jb0xSj3ZJxVS",
   "metadata": {
    "id": "Jb0xSj3ZJxVS",
    "outputId": "34c04839-b411-4bb9-bce9-b48497eec36d"
   },
   "outputs": [
    {
     "name": "stdout",
     "output_type": "stream",
     "text": [
      "-3 is negative\n"
     ]
    }
   ],
   "source": [
    "number = -3\n",
    "\n",
    "if number > 0:\n",
    "    print (number, \"is positive\")\n",
    "elif number == 0:\n",
    "    print (number, \"is zero\")\n",
    "else:\n",
    "    print (number, \"is negative\")"
   ]
  },
  {
   "cell_type": "markdown",
   "id": "8e2X-HawJxVS",
   "metadata": {
    "id": "8e2X-HawJxVS"
   },
   "source": [
    "Consider the following function. **Try evaluating it with different values of the argument N. What is wrong with its logic? Can you fix it?**"
   ]
  },
  {
   "cell_type": "code",
   "execution_count": 59,
   "id": "LMHXzYbWJxVS",
   "metadata": {
    "id": "LMHXzYbWJxVS"
   },
   "outputs": [],
   "source": [
    "def check_input(N):\n",
    "    \"\"\"Checks that an input number is within the range 1-10.\"\"\"\n",
    "    if N < 1:\n",
    "        print(\"Too low, please try again.\")\n",
    "    if N > 10:\n",
    "        print(\"Too high, please try again.\")\n",
    "    else:\n",
    "        print(\"Valid input.\")"
   ]
  },
  {
   "cell_type": "code",
   "execution_count": 60,
   "id": "iWG3k983JxVT",
   "metadata": {
    "id": "iWG3k983JxVT",
    "outputId": "7c2969be-9f3d-4f6b-965d-6247d0024c4e"
   },
   "outputs": [
    {
     "name": "stdout",
     "output_type": "stream",
     "text": [
      "Too low, please try again.\n",
      "Valid input.\n"
     ]
    }
   ],
   "source": [
    "check_input(-2)"
   ]
  },
  {
   "cell_type": "markdown",
   "id": "ytTAhLqQJxVT",
   "metadata": {
    "id": "ytTAhLqQJxVT"
   },
   "source": [
    "##"
   ]
  },
  {
   "cell_type": "markdown",
   "id": "nTdsRYziJxVT",
   "metadata": {
    "id": "nTdsRYziJxVT"
   },
   "source": [
    "Some useful operators in branching statements are:\n",
    "\n",
    "|Operator | Name | Description|\n",
    "|--|--|--|\n",
    "| > | Greater than | This is used to compute the logical comparison of the values of two quantities.| \n",
    "| < | Less than | This is used to compute the logical comparison of the values of two quantities.| \n",
    "| >= | Greater than or equal to | This is used to compute the logical comparison of the values of two quantities.| \n",
    "| <= | Less than or equal to | This is used to compute the logical comparison of the values of two quantities.| \n",
    "| == | Value comparison | Test if the values of two quantities are equal.| \n",
    "| != | Value comparison | Test if the values of two quantities are not equal.| \n",
    "| or | Logical or | A or B Return the logical value True if either A or B is non-null (or numerically non-zero).| \n",
    "| and | Logical and | A and B Return the logical value True if both A and B are non-null (or numerically non-zero).| \n",
    "| not | Logical not | not A Return the logical value True if A is null (or zero).| "
   ]
  },
  {
   "cell_type": "markdown",
   "id": "BfPAoe62JxVT",
   "metadata": {
    "id": "BfPAoe62JxVT"
   },
   "source": [
    "Now let's take these concepts together and **write** a function that check if a number is even:"
   ]
  },
  {
   "cell_type": "code",
   "execution_count": 61,
   "id": "v4h0n31RJxVT",
   "metadata": {
    "id": "v4h0n31RJxVT"
   },
   "outputs": [],
   "source": [
    "def is_it_even(N):\n",
    "    ..."
   ]
  },
  {
   "cell_type": "code",
   "execution_count": 62,
   "id": "Um-PqsyEJxVT",
   "metadata": {
    "id": "Um-PqsyEJxVT",
    "outputId": "964970ac-30f1-4404-ce42-9f447ef1dd13"
   },
   "outputs": [],
   "source": [
    "is_it_even(1)"
   ]
  },
  {
   "cell_type": "code",
   "execution_count": 63,
   "id": "M9Tsf_EIJxVT",
   "metadata": {
    "id": "M9Tsf_EIJxVT",
    "outputId": "f36f03b3-40f1-490e-c309-d9082c5c0ec7"
   },
   "outputs": [],
   "source": [
    "is_it_even(10)"
   ]
  },
  {
   "cell_type": "markdown",
   "id": "8jhOBcskJxVV",
   "metadata": {
    "collapsed": true,
    "id": "8jhOBcskJxVV",
    "jupyter": {
     "outputs_hidden": true
    }
   },
   "source": [
    "## Aside: Format strings  [^](#index) <a id='strings'></a>\n",
    "\n",
    "This section is all about aesthetics – but it's nice to be able to make output look well-laid out and professional!\n",
    "\n",
    "The `format()` function is a string *method* – a function that applies only to strings. It replaces curly brackets `{}` in the string with the values of its arguments. Consider the following simple example:"
   ]
  },
  {
   "cell_type": "code",
   "execution_count": 64,
   "id": "DhELqIE7JxVW",
   "metadata": {
    "id": "DhELqIE7JxVW",
    "outputId": "543fa3e5-9ed0-4c9c-ce61-cc7975779a58"
   },
   "outputs": [
    {
     "data": {
      "text/plain": [
       "'Io is a moon of Jupiter'"
      ]
     },
     "execution_count": 64,
     "metadata": {},
     "output_type": "execute_result"
    }
   ],
   "source": [
    "\"{} is a moon of {}\".format(\"Io\", \"Jupiter\")"
   ]
  },
  {
   "cell_type": "markdown",
   "id": "mkViNm3gJxVW",
   "metadata": {
    "id": "mkViNm3gJxVW"
   },
   "source": [
    "You can include information in the curly brackets to specify exactly how a value should be converted to a string. This information always comes after a colon `:` and ends with a letter specifying the sort of number that should be printed. Common examples include\n",
    "\n",
    "Letter | Meaning\n",
    "------ | -------\n",
    "   `f` | floating-point number, usual notation\n",
    "   `e` | floating-point number, scientific notation\n",
    "   `d` | integer, decimal\n",
    "   `s` | string\n",
    "\n",
    "In between, we can specify the number of spaces that should be left to print the number and, where relevant, the number of decimal places that should be used:"
   ]
  },
  {
   "cell_type": "code",
   "execution_count": 65,
   "id": "1K-wcEdTJxVW",
   "metadata": {
    "id": "1K-wcEdTJxVW",
    "outputId": "040fa307-94e2-4042-a7f8-81a2c9b2aea2"
   },
   "outputs": [
    {
     "name": "stdout",
     "output_type": "stream",
     "text": [
      "pi  = 3.141592653589793\n",
      "pi  =    3.14159\n",
      "pi  =     3.14\n",
      "pi  = 3.14e+00\n",
      "pi  >        3\n",
      "pie = apple   \n"
     ]
    }
   ],
   "source": [
    "from numpy import pi\n",
    "\n",
    "print(\"pi  = {}\".format(pi))         # no special format information given\n",
    "print(\"pi  = {:10.5f}\".format(pi))   # float, 10 spaces, 5 decimal places\n",
    "print(\"pi  = {:8.2f}\".format(pi))    # float, 8 spaces, 2 decimal places\n",
    "print(\"pi  = {:8.2e}\".format(pi))    # float, scientific notation, 8 spaces, 2 decimal places\n",
    "print(\"pi  > {:8d}\".format(3))       # decimal integer, 8 spaces\n",
    "print(\"pie = {:8s}\".format('apple')) # string, 8 spaces (by default left-aligned)"
   ]
  },
  {
   "cell_type": "markdown",
   "id": "4b70251f-0b4f-4df2-9c04-3d429f8e8dde",
   "metadata": {},
   "source": [
    "<div style=\"background-color:#C2F5DD\">\n",
    "\n",
    "## Exercise 3\n",
    "\n",
    "1) Define a simple function to greet someone (use default values for arguments)\n",
    "2) Call the function without any input to verify that the default values work.\n",
    "3) Call the function with different inputs to verify that the function works as expected.\n",
    "4) Define another function that determines whether a number is even or odd\n",
    "5) Call the function and store the result, then print the result\n",
    "6) Define a function that calls the first two functions and greets someone and displays whether their age is even or odd \n",
    "\n",
    "Note: this is a super easy exercise that just let you to get familiar with defining and calling functions."
   ]
  },
  {
   "cell_type": "code",
   "execution_count": 66,
   "id": "vgeMrcQ0Lzjr",
   "metadata": {
    "id": "vgeMrcQ0Lzjr"
   },
   "outputs": [
    {
     "name": "stdout",
     "output_type": "stream",
     "text": [
      "Hii Guest. Welcome to machine and Deep Learning Lab!\n"
     ]
    }
   ],
   "source": [
    "def greet(name=\"Guest\", msg=\"Welcome to machine and Deep Learning Lab!\"):\n",
    "    \"\"\"Greets a person with the given message.\"\"\"\n",
    "    print(\"Hii \" + name + \". \" + msg)\n",
    "\n",
    "greet()\n",
    "\n"
   ]
  },
  {
   "cell_type": "code",
   "execution_count": 67,
   "id": "b7e9a603",
   "metadata": {},
   "outputs": [
    {
     "name": "stdout",
     "output_type": "stream",
     "text": [
      "Hii Nakul. How are you?\n"
     ]
    }
   ],
   "source": [
    "greet(\"Nakul\", \"How are you?\")"
   ]
  },
  {
   "cell_type": "code",
   "execution_count": 68,
   "id": "d5a2e0c9",
   "metadata": {},
   "outputs": [
    {
     "name": "stdout",
     "output_type": "stream",
     "text": [
      "39 is odd.\n"
     ]
    }
   ],
   "source": [
    "def is_even_or_odd(number):\n",
    "    \"\"\"Checks if the number s even or odd.\"\"\"\n",
    "    if number % 2 == 0:\n",
    "        print(f\"{number} is even.\")\n",
    "    else:\n",
    "        print(f\"{number} is odd.\")\n",
    "\n",
    "result = is_even_or_odd(39)"
   ]
  },
  {
   "cell_type": "code",
   "execution_count": 69,
   "id": "d9bd5ed7",
   "metadata": {},
   "outputs": [
    {
     "name": "stdout",
     "output_type": "stream",
     "text": [
      "Hii Poomalia. Welcome to machine and Deep Learning Lab!\n",
      "24 is even.\n"
     ]
    }
   ],
   "source": [
    "def greet_and_age(name, age):\n",
    "    \"\"\"Greets a person and tells their age is even or odd.\"\"\"\n",
    "    greet(name)\n",
    "    is_even_or_odd(age)\n",
    "greet_and_age(\"Poomalia\", 24)"
   ]
  },
  {
   "cell_type": "markdown",
   "id": "04b58b8d",
   "metadata": {
    "id": "jQ3xo0R1AAKJ"
   },
   "source": [
    "<hr style=\"border:2px solid gray\">\n",
    "\n",
    "## Introduction to Pandas  [^](#index) <a id='pandas'></a>\n",
    "\n",
    "\n",
    "For more exercises and tutorials on Pandas:\n",
    " - https://pandas.pydata.org/docs/user_guide/index.html#user-guide"
   ]
  },
  {
   "cell_type": "markdown",
   "id": "fa15fb90",
   "metadata": {
    "id": "PtJiv6RfCR76"
   },
   "source": [
    "### Creating a DataFrame  [^](#index) <a id='create'></a>\n",
    "\n",
    "A DataFrame is a 2D data structure that is composed of the following components:\n",
    "- 1) The data\n",
    "- 2) The index\n",
    "    - This is the row number of the DataFrame\n",
    "- 3) The columns\n",
    "    - Contains the data taken at each index, labelled with headers\n",
    "\n",
    "The information at the 'top' of the DataFrame contains are known as **headers**. These allow you to access your data without needing to use indices. The cell below shows two equivalent ways to create a DataFrame."
   ]
  },
  {
   "cell_type": "code",
   "execution_count": 70,
   "id": "3c4748dd",
   "metadata": {
    "colab": {
     "base_uri": "https://localhost:8080/",
     "height": 237
    },
    "executionInfo": {
     "elapsed": 458,
     "status": "ok",
     "timestamp": 1704816135853,
     "user": {
      "displayName": "Linda Cremonesi",
      "userId": "14767435952218470727"
     },
     "user_tz": 0
    },
    "id": "JJOIf433_SkT",
    "outputId": "6b01d922-f909-4fb3-a57c-ba45f2060ada"
   },
   "outputs": [
    {
     "data": {
      "text/html": [
       "<div>\n",
       "<style scoped>\n",
       "    .dataframe tbody tr th:only-of-type {\n",
       "        vertical-align: middle;\n",
       "    }\n",
       "\n",
       "    .dataframe tbody tr th {\n",
       "        vertical-align: top;\n",
       "    }\n",
       "\n",
       "    .dataframe thead th {\n",
       "        text-align: right;\n",
       "    }\n",
       "</style>\n",
       "<table border=\"1\" class=\"dataframe\">\n",
       "  <thead>\n",
       "    <tr style=\"text-align: right;\">\n",
       "      <th></th>\n",
       "      <th>Name</th>\n",
       "      <th>Location</th>\n",
       "      <th>Age</th>\n",
       "    </tr>\n",
       "  </thead>\n",
       "  <tbody>\n",
       "    <tr>\n",
       "      <th>0</th>\n",
       "      <td>Anisha</td>\n",
       "      <td>London</td>\n",
       "      <td>38</td>\n",
       "    </tr>\n",
       "    <tr>\n",
       "      <th>1</th>\n",
       "      <td>Alice</td>\n",
       "      <td>Amsterdam</td>\n",
       "      <td>20</td>\n",
       "    </tr>\n",
       "    <tr>\n",
       "      <th>2</th>\n",
       "      <td>Jenni</td>\n",
       "      <td>Glasgow</td>\n",
       "      <td>27</td>\n",
       "    </tr>\n",
       "    <tr>\n",
       "      <th>3</th>\n",
       "      <td>Mei</td>\n",
       "      <td>Sao Paulo</td>\n",
       "      <td>55</td>\n",
       "    </tr>\n",
       "    <tr>\n",
       "      <th>4</th>\n",
       "      <td>Tahnee</td>\n",
       "      <td>Vancouver</td>\n",
       "      <td>71</td>\n",
       "    </tr>\n",
       "    <tr>\n",
       "      <th>5</th>\n",
       "      <td>Nina</td>\n",
       "      <td>Abuja</td>\n",
       "      <td>13</td>\n",
       "    </tr>\n",
       "  </tbody>\n",
       "</table>\n",
       "</div>"
      ],
      "text/plain": [
       "     Name   Location  Age\n",
       "0  Anisha     London   38\n",
       "1   Alice  Amsterdam   20\n",
       "2   Jenni    Glasgow   27\n",
       "3     Mei  Sao Paulo   55\n",
       "4  Tahnee  Vancouver   71\n",
       "5    Nina      Abuja   13"
      ]
     },
     "metadata": {},
     "output_type": "display_data"
    }
   ],
   "source": [
    "import pandas as pd\n",
    "\n",
    "# Create a simple dataset of people\n",
    "\n",
    "data={'Name':[\"Anisha\",\"Alice\",\"Jenni\", \"Mei\",\"Tahnee\", \"Nina\"],\n",
    "     'Location':[\"London\",\"Amsterdam\",\"Glasgow\", \"Sao Paulo\",\"Vancouver\", \"Abuja\"],\n",
    "     'Age':[38,20,27,55,71,13]}\n",
    "\n",
    "data_pandas=pd.DataFrame(data)\n",
    "\n",
    "display(data_pandas)\n",
    "\n"
   ]
  },
  {
   "cell_type": "markdown",
   "id": "f8203bb2",
   "metadata": {
    "id": "6Psi3fGN_GNu"
   },
   "source": [
    "The first column is the **index**, and you can be used to specify the data you want to display."
   ]
  },
  {
   "cell_type": "code",
   "execution_count": 71,
   "id": "51e32d91",
   "metadata": {
    "colab": {
     "base_uri": "https://localhost:8080/",
     "height": 112
    },
    "executionInfo": {
     "elapsed": 29,
     "status": "ok",
     "timestamp": 1704816136236,
     "user": {
      "displayName": "Linda Cremonesi",
      "userId": "14767435952218470727"
     },
     "user_tz": 0
    },
    "id": "3PrYahug_GNu",
    "outputId": "ddae7ed6-6fe6-4147-eae3-ab1a9ecb2b95"
   },
   "outputs": [
    {
     "data": {
      "text/html": [
       "<div>\n",
       "<style scoped>\n",
       "    .dataframe tbody tr th:only-of-type {\n",
       "        vertical-align: middle;\n",
       "    }\n",
       "\n",
       "    .dataframe tbody tr th {\n",
       "        vertical-align: top;\n",
       "    }\n",
       "\n",
       "    .dataframe thead th {\n",
       "        text-align: right;\n",
       "    }\n",
       "</style>\n",
       "<table border=\"1\" class=\"dataframe\">\n",
       "  <thead>\n",
       "    <tr style=\"text-align: right;\">\n",
       "      <th></th>\n",
       "      <th>Name</th>\n",
       "      <th>Location</th>\n",
       "      <th>Age</th>\n",
       "    </tr>\n",
       "  </thead>\n",
       "  <tbody>\n",
       "    <tr>\n",
       "      <th>2</th>\n",
       "      <td>Jenni</td>\n",
       "      <td>Glasgow</td>\n",
       "      <td>27</td>\n",
       "    </tr>\n",
       "    <tr>\n",
       "      <th>3</th>\n",
       "      <td>Mei</td>\n",
       "      <td>Sao Paulo</td>\n",
       "      <td>55</td>\n",
       "    </tr>\n",
       "  </tbody>\n",
       "</table>\n",
       "</div>"
      ],
      "text/plain": [
       "    Name   Location  Age\n",
       "2  Jenni    Glasgow   27\n",
       "3    Mei  Sao Paulo   55"
      ]
     },
     "metadata": {},
     "output_type": "display_data"
    }
   ],
   "source": [
    "display(data_pandas[2:4])"
   ]
  },
  {
   "cell_type": "code",
   "execution_count": 72,
   "id": "08fcb25d",
   "metadata": {
    "colab": {
     "base_uri": "https://localhost:8080/",
     "height": 138
    },
    "executionInfo": {
     "elapsed": 27,
     "status": "ok",
     "timestamp": 1704816136236,
     "user": {
      "displayName": "Linda Cremonesi",
      "userId": "14767435952218470727"
     },
     "user_tz": 0
    },
    "id": "hAd27kTEGn9i",
    "outputId": "1f8328c1-c962-4f02-b03f-737d3fd72965"
   },
   "outputs": [
    {
     "data": {
      "text/plain": [
       "0    Anisha\n",
       "1     Alice\n",
       "2     Jenni\n",
       "3       Mei\n",
       "4    Tahnee\n",
       "5      Nina\n",
       "Name: Name, dtype: object"
      ]
     },
     "metadata": {},
     "output_type": "display_data"
    }
   ],
   "source": [
    "# Select a column\n",
    "name_column = data_pandas['Name']\n",
    "display(name_column)"
   ]
  },
  {
   "cell_type": "code",
   "execution_count": 73,
   "id": "60305c88",
   "metadata": {
    "colab": {
     "base_uri": "https://localhost:8080/",
     "height": 86
    },
    "executionInfo": {
     "elapsed": 26,
     "status": "ok",
     "timestamp": 1704816136236,
     "user": {
      "displayName": "Linda Cremonesi",
      "userId": "14767435952218470727"
     },
     "user_tz": 0
    },
    "id": "GbUEhm8hGqb3",
    "outputId": "59062529-828e-4c3c-91bf-16dab39a1efc"
   },
   "outputs": [
    {
     "data": {
      "text/plain": [
       "Name        Anisha\n",
       "Location    London\n",
       "Age             38\n",
       "Name: 0, dtype: object"
      ]
     },
     "metadata": {},
     "output_type": "display_data"
    }
   ],
   "source": [
    "# Select a row by index\n",
    "first_row = data_pandas.iloc[0]\n",
    "display(first_row)"
   ]
  },
  {
   "cell_type": "code",
   "execution_count": 74,
   "id": "7816c02f",
   "metadata": {
    "colab": {
     "base_uri": "https://localhost:8080/",
     "height": 34
    },
    "executionInfo": {
     "elapsed": 26,
     "status": "ok",
     "timestamp": 1704816136236,
     "user": {
      "displayName": "Linda Cremonesi",
      "userId": "14767435952218470727"
     },
     "user_tz": 0
    },
    "id": "7hykqtTJGqGB",
    "outputId": "41dc462d-8aef-4d0b-ceff-93dbed89b316"
   },
   "outputs": [
    {
     "data": {
      "text/plain": [
       "np.int64(20)"
      ]
     },
     "metadata": {},
     "output_type": "display_data"
    }
   ],
   "source": [
    "# Select a specific cell\n",
    "cell_value = data_pandas.loc[1, 'Age']\n",
    "display(cell_value)"
   ]
  },
  {
   "cell_type": "markdown",
   "id": "3ca08d1b",
   "metadata": {
    "id": "tkNca_jZ_GNu"
   },
   "source": [
    "To change the index to something more relevant (although this is not a particularly good example of this):"
   ]
  },
  {
   "cell_type": "code",
   "execution_count": 75,
   "id": "527de431",
   "metadata": {
    "colab": {
     "base_uri": "https://localhost:8080/",
     "height": 143
    },
    "executionInfo": {
     "elapsed": 25,
     "status": "ok",
     "timestamp": 1704816136236,
     "user": {
      "displayName": "Linda Cremonesi",
      "userId": "14767435952218470727"
     },
     "user_tz": 0
    },
    "id": "XGYFS5qV_GNu",
    "outputId": "c74194fe-0c39-4548-8321-6a1f3a2758c0"
   },
   "outputs": [
    {
     "data": {
      "text/html": [
       "<div>\n",
       "<style scoped>\n",
       "    .dataframe tbody tr th:only-of-type {\n",
       "        vertical-align: middle;\n",
       "    }\n",
       "\n",
       "    .dataframe tbody tr th {\n",
       "        vertical-align: top;\n",
       "    }\n",
       "\n",
       "    .dataframe thead th {\n",
       "        text-align: right;\n",
       "    }\n",
       "</style>\n",
       "<table border=\"1\" class=\"dataframe\">\n",
       "  <thead>\n",
       "    <tr style=\"text-align: right;\">\n",
       "      <th></th>\n",
       "      <th>Name</th>\n",
       "      <th>Location</th>\n",
       "      <th>Age</th>\n",
       "    </tr>\n",
       "  </thead>\n",
       "  <tbody>\n",
       "    <tr>\n",
       "      <th>b</th>\n",
       "      <td>Alice</td>\n",
       "      <td>Amsterdam</td>\n",
       "      <td>20</td>\n",
       "    </tr>\n",
       "    <tr>\n",
       "      <th>c</th>\n",
       "      <td>Jenni</td>\n",
       "      <td>Glasgow</td>\n",
       "      <td>27</td>\n",
       "    </tr>\n",
       "    <tr>\n",
       "      <th>d</th>\n",
       "      <td>Mei</td>\n",
       "      <td>Sao Paulo</td>\n",
       "      <td>55</td>\n",
       "    </tr>\n",
       "  </tbody>\n",
       "</table>\n",
       "</div>"
      ],
      "text/plain": [
       "    Name   Location  Age\n",
       "b  Alice  Amsterdam   20\n",
       "c  Jenni    Glasgow   27\n",
       "d    Mei  Sao Paulo   55"
      ]
     },
     "metadata": {},
     "output_type": "display_data"
    }
   ],
   "source": [
    "data_pandas=pd.DataFrame(data,index=[\"a\",\"b\",\"c\",\"d\", \"e\", \"f\"])\n",
    "display(data_pandas[\"b\":\"d\"])\n",
    "\n",
    "#This will display data up to and including 'b' and 'd'"
   ]
  },
  {
   "cell_type": "markdown",
   "id": "73c3eefc",
   "metadata": {
    "id": "2IM_vVZQeaZb"
   },
   "source": [
    "### Adding and removing columns"
   ]
  },
  {
   "cell_type": "markdown",
   "id": "b191f6c7",
   "metadata": {
    "id": "kqlktDFI_GNu"
   },
   "source": [
    "To insert a new column into the DataFrame, simply perform:"
   ]
  },
  {
   "cell_type": "code",
   "execution_count": 76,
   "id": "bc5d047b",
   "metadata": {
    "colab": {
     "base_uri": "https://localhost:8080/",
     "height": 237
    },
    "executionInfo": {
     "elapsed": 24,
     "status": "ok",
     "timestamp": 1704816136237,
     "user": {
      "displayName": "Linda Cremonesi",
      "userId": "14767435952218470727"
     },
     "user_tz": 0
    },
    "id": "l10xb3P3_GNu",
    "outputId": "750fa56e-b313-4e16-efd6-7bf0d8f257e5"
   },
   "outputs": [
    {
     "data": {
      "text/html": [
       "<div>\n",
       "<style scoped>\n",
       "    .dataframe tbody tr th:only-of-type {\n",
       "        vertical-align: middle;\n",
       "    }\n",
       "\n",
       "    .dataframe tbody tr th {\n",
       "        vertical-align: top;\n",
       "    }\n",
       "\n",
       "    .dataframe thead th {\n",
       "        text-align: right;\n",
       "    }\n",
       "</style>\n",
       "<table border=\"1\" class=\"dataframe\">\n",
       "  <thead>\n",
       "    <tr style=\"text-align: right;\">\n",
       "      <th></th>\n",
       "      <th>Name</th>\n",
       "      <th>Location</th>\n",
       "      <th>Age</th>\n",
       "      <th>Pets</th>\n",
       "    </tr>\n",
       "  </thead>\n",
       "  <tbody>\n",
       "    <tr>\n",
       "      <th>a</th>\n",
       "      <td>Anisha</td>\n",
       "      <td>London</td>\n",
       "      <td>38</td>\n",
       "      <td>3</td>\n",
       "    </tr>\n",
       "    <tr>\n",
       "      <th>b</th>\n",
       "      <td>Alice</td>\n",
       "      <td>Amsterdam</td>\n",
       "      <td>20</td>\n",
       "      <td>2</td>\n",
       "    </tr>\n",
       "    <tr>\n",
       "      <th>c</th>\n",
       "      <td>Jenni</td>\n",
       "      <td>Glasgow</td>\n",
       "      <td>27</td>\n",
       "      <td>1</td>\n",
       "    </tr>\n",
       "    <tr>\n",
       "      <th>d</th>\n",
       "      <td>Mei</td>\n",
       "      <td>Sao Paulo</td>\n",
       "      <td>55</td>\n",
       "      <td>5</td>\n",
       "    </tr>\n",
       "    <tr>\n",
       "      <th>e</th>\n",
       "      <td>Tahnee</td>\n",
       "      <td>Vancouver</td>\n",
       "      <td>71</td>\n",
       "      <td>9</td>\n",
       "    </tr>\n",
       "    <tr>\n",
       "      <th>f</th>\n",
       "      <td>Nina</td>\n",
       "      <td>Abuja</td>\n",
       "      <td>13</td>\n",
       "      <td>0</td>\n",
       "    </tr>\n",
       "  </tbody>\n",
       "</table>\n",
       "</div>"
      ],
      "text/plain": [
       "     Name   Location  Age  Pets\n",
       "a  Anisha     London   38     3\n",
       "b   Alice  Amsterdam   20     2\n",
       "c   Jenni    Glasgow   27     1\n",
       "d     Mei  Sao Paulo   55     5\n",
       "e  Tahnee  Vancouver   71     9\n",
       "f    Nina      Abuja   13     0"
      ]
     },
     "metadata": {},
     "output_type": "display_data"
    }
   ],
   "source": [
    "data_pandas[\"Pets\"]=[3,2,1,5,9,0]\n",
    "display(data_pandas)"
   ]
  },
  {
   "cell_type": "markdown",
   "id": "c3d1b5e1",
   "metadata": {
    "id": "RNLG8cjh_GNv"
   },
   "source": [
    "You can even create columns that are functions of other columns. Pandas performs this very quickly."
   ]
  },
  {
   "cell_type": "code",
   "execution_count": 77,
   "id": "703f02a3",
   "metadata": {
    "colab": {
     "base_uri": "https://localhost:8080/",
     "height": 237
    },
    "executionInfo": {
     "elapsed": 23,
     "status": "ok",
     "timestamp": 1704816136237,
     "user": {
      "displayName": "Linda Cremonesi",
      "userId": "14767435952218470727"
     },
     "user_tz": 0
    },
    "id": "WggIa_L3_GNv",
    "outputId": "3e682151-fd43-4715-b2bb-5aca2d9d811f"
   },
   "outputs": [
    {
     "data": {
      "text/html": [
       "<div>\n",
       "<style scoped>\n",
       "    .dataframe tbody tr th:only-of-type {\n",
       "        vertical-align: middle;\n",
       "    }\n",
       "\n",
       "    .dataframe tbody tr th {\n",
       "        vertical-align: top;\n",
       "    }\n",
       "\n",
       "    .dataframe thead th {\n",
       "        text-align: right;\n",
       "    }\n",
       "</style>\n",
       "<table border=\"1\" class=\"dataframe\">\n",
       "  <thead>\n",
       "    <tr style=\"text-align: right;\">\n",
       "      <th></th>\n",
       "      <th>Name</th>\n",
       "      <th>Location</th>\n",
       "      <th>Age</th>\n",
       "      <th>Pets</th>\n",
       "      <th>Combination</th>\n",
       "    </tr>\n",
       "  </thead>\n",
       "  <tbody>\n",
       "    <tr>\n",
       "      <th>a</th>\n",
       "      <td>Anisha</td>\n",
       "      <td>London</td>\n",
       "      <td>38</td>\n",
       "      <td>3</td>\n",
       "      <td>114</td>\n",
       "    </tr>\n",
       "    <tr>\n",
       "      <th>b</th>\n",
       "      <td>Alice</td>\n",
       "      <td>Amsterdam</td>\n",
       "      <td>20</td>\n",
       "      <td>2</td>\n",
       "      <td>40</td>\n",
       "    </tr>\n",
       "    <tr>\n",
       "      <th>c</th>\n",
       "      <td>Jenni</td>\n",
       "      <td>Glasgow</td>\n",
       "      <td>27</td>\n",
       "      <td>1</td>\n",
       "      <td>27</td>\n",
       "    </tr>\n",
       "    <tr>\n",
       "      <th>d</th>\n",
       "      <td>Mei</td>\n",
       "      <td>Sao Paulo</td>\n",
       "      <td>55</td>\n",
       "      <td>5</td>\n",
       "      <td>275</td>\n",
       "    </tr>\n",
       "    <tr>\n",
       "      <th>e</th>\n",
       "      <td>Tahnee</td>\n",
       "      <td>Vancouver</td>\n",
       "      <td>71</td>\n",
       "      <td>9</td>\n",
       "      <td>639</td>\n",
       "    </tr>\n",
       "    <tr>\n",
       "      <th>f</th>\n",
       "      <td>Nina</td>\n",
       "      <td>Abuja</td>\n",
       "      <td>13</td>\n",
       "      <td>0</td>\n",
       "      <td>0</td>\n",
       "    </tr>\n",
       "  </tbody>\n",
       "</table>\n",
       "</div>"
      ],
      "text/plain": [
       "     Name   Location  Age  Pets  Combination\n",
       "a  Anisha     London   38     3          114\n",
       "b   Alice  Amsterdam   20     2           40\n",
       "c   Jenni    Glasgow   27     1           27\n",
       "d     Mei  Sao Paulo   55     5          275\n",
       "e  Tahnee  Vancouver   71     9          639\n",
       "f    Nina      Abuja   13     0            0"
      ]
     },
     "metadata": {},
     "output_type": "display_data"
    }
   ],
   "source": [
    "data_pandas[\"Combination\"]=data_pandas.Age*data_pandas.Pets\n",
    "display(data_pandas)"
   ]
  },
  {
   "cell_type": "markdown",
   "id": "2b178a75",
   "metadata": {
    "id": "4z-fpNseIERR"
   },
   "source": [
    "`Combination` is a bit of a useless column though, so we can remove it using *drop*. One of the inputs to *drop* is which axis the operations is applied to.\n",
    "\n",
    "**Axis 0** - Axis 0 refers to the rows of a DataFrame or a Series. It is often referred to as the \"index axis\". When an operation is applied along axis 0, it means that the operation is applied to all of the columns in each row of the Data Frame or Series.\n",
    "\n",
    "**Axis 1** - Axis 1 refers to the columns of a DataFrame or a Series. It is often referred to as the \"column axis\". When an operation is applied along axis 1, it means that the operation is applied to all of the rows in each column of the Data Frame or Series.\n",
    "\n",
    "So a mean on axis 0 will be the mean of all the rows in each column, and a mean on axis 1 will be a mean of all the columns in each row."
   ]
  },
  {
   "cell_type": "code",
   "execution_count": 78,
   "id": "df9e3472",
   "metadata": {
    "colab": {
     "base_uri": "https://localhost:8080/",
     "height": 237
    },
    "executionInfo": {
     "elapsed": 21,
     "status": "ok",
     "timestamp": 1704816136237,
     "user": {
      "displayName": "Linda Cremonesi",
      "userId": "14767435952218470727"
     },
     "user_tz": 0
    },
    "id": "YwHljDCEID8z",
    "outputId": "88a7df0b-6e66-4cfc-b942-55a24474c889"
   },
   "outputs": [
    {
     "data": {
      "text/html": [
       "<div>\n",
       "<style scoped>\n",
       "    .dataframe tbody tr th:only-of-type {\n",
       "        vertical-align: middle;\n",
       "    }\n",
       "\n",
       "    .dataframe tbody tr th {\n",
       "        vertical-align: top;\n",
       "    }\n",
       "\n",
       "    .dataframe thead th {\n",
       "        text-align: right;\n",
       "    }\n",
       "</style>\n",
       "<table border=\"1\" class=\"dataframe\">\n",
       "  <thead>\n",
       "    <tr style=\"text-align: right;\">\n",
       "      <th></th>\n",
       "      <th>Name</th>\n",
       "      <th>Location</th>\n",
       "      <th>Age</th>\n",
       "      <th>Pets</th>\n",
       "    </tr>\n",
       "  </thead>\n",
       "  <tbody>\n",
       "    <tr>\n",
       "      <th>a</th>\n",
       "      <td>Anisha</td>\n",
       "      <td>London</td>\n",
       "      <td>38</td>\n",
       "      <td>3</td>\n",
       "    </tr>\n",
       "    <tr>\n",
       "      <th>b</th>\n",
       "      <td>Alice</td>\n",
       "      <td>Amsterdam</td>\n",
       "      <td>20</td>\n",
       "      <td>2</td>\n",
       "    </tr>\n",
       "    <tr>\n",
       "      <th>c</th>\n",
       "      <td>Jenni</td>\n",
       "      <td>Glasgow</td>\n",
       "      <td>27</td>\n",
       "      <td>1</td>\n",
       "    </tr>\n",
       "    <tr>\n",
       "      <th>d</th>\n",
       "      <td>Mei</td>\n",
       "      <td>Sao Paulo</td>\n",
       "      <td>55</td>\n",
       "      <td>5</td>\n",
       "    </tr>\n",
       "    <tr>\n",
       "      <th>e</th>\n",
       "      <td>Tahnee</td>\n",
       "      <td>Vancouver</td>\n",
       "      <td>71</td>\n",
       "      <td>9</td>\n",
       "    </tr>\n",
       "    <tr>\n",
       "      <th>f</th>\n",
       "      <td>Nina</td>\n",
       "      <td>Abuja</td>\n",
       "      <td>13</td>\n",
       "      <td>0</td>\n",
       "    </tr>\n",
       "  </tbody>\n",
       "</table>\n",
       "</div>"
      ],
      "text/plain": [
       "     Name   Location  Age  Pets\n",
       "a  Anisha     London   38     3\n",
       "b   Alice  Amsterdam   20     2\n",
       "c   Jenni    Glasgow   27     1\n",
       "d     Mei  Sao Paulo   55     5\n",
       "e  Tahnee  Vancouver   71     9\n",
       "f    Nina      Abuja   13     0"
      ]
     },
     "metadata": {},
     "output_type": "display_data"
    }
   ],
   "source": [
    "# Delete a column\n",
    "data_pandas = data_pandas.drop('Combination', axis=1)\n",
    "display(data_pandas)"
   ]
  },
  {
   "cell_type": "code",
   "execution_count": 79,
   "id": "11a6497b",
   "metadata": {
    "colab": {
     "base_uri": "https://localhost:8080/",
     "height": 206
    },
    "executionInfo": {
     "elapsed": 441,
     "status": "ok",
     "timestamp": 1704816136658,
     "user": {
      "displayName": "Linda Cremonesi",
      "userId": "14767435952218470727"
     },
     "user_tz": 0
    },
    "id": "GdwkNCb0ID7g",
    "outputId": "daccdb27-256a-429d-d842-24b49a2874f9"
   },
   "outputs": [
    {
     "data": {
      "text/html": [
       "<div>\n",
       "<style scoped>\n",
       "    .dataframe tbody tr th:only-of-type {\n",
       "        vertical-align: middle;\n",
       "    }\n",
       "\n",
       "    .dataframe tbody tr th {\n",
       "        vertical-align: top;\n",
       "    }\n",
       "\n",
       "    .dataframe thead th {\n",
       "        text-align: right;\n",
       "    }\n",
       "</style>\n",
       "<table border=\"1\" class=\"dataframe\">\n",
       "  <thead>\n",
       "    <tr style=\"text-align: right;\">\n",
       "      <th></th>\n",
       "      <th>Name</th>\n",
       "      <th>Location</th>\n",
       "      <th>Age</th>\n",
       "      <th>Pets</th>\n",
       "    </tr>\n",
       "  </thead>\n",
       "  <tbody>\n",
       "    <tr>\n",
       "      <th>b</th>\n",
       "      <td>Alice</td>\n",
       "      <td>Amsterdam</td>\n",
       "      <td>20</td>\n",
       "      <td>2</td>\n",
       "    </tr>\n",
       "    <tr>\n",
       "      <th>c</th>\n",
       "      <td>Jenni</td>\n",
       "      <td>Glasgow</td>\n",
       "      <td>27</td>\n",
       "      <td>1</td>\n",
       "    </tr>\n",
       "    <tr>\n",
       "      <th>d</th>\n",
       "      <td>Mei</td>\n",
       "      <td>Sao Paulo</td>\n",
       "      <td>55</td>\n",
       "      <td>5</td>\n",
       "    </tr>\n",
       "    <tr>\n",
       "      <th>e</th>\n",
       "      <td>Tahnee</td>\n",
       "      <td>Vancouver</td>\n",
       "      <td>71</td>\n",
       "      <td>9</td>\n",
       "    </tr>\n",
       "    <tr>\n",
       "      <th>f</th>\n",
       "      <td>Nina</td>\n",
       "      <td>Abuja</td>\n",
       "      <td>13</td>\n",
       "      <td>0</td>\n",
       "    </tr>\n",
       "  </tbody>\n",
       "</table>\n",
       "</div>"
      ],
      "text/plain": [
       "     Name   Location  Age  Pets\n",
       "b   Alice  Amsterdam   20     2\n",
       "c   Jenni    Glasgow   27     1\n",
       "d     Mei  Sao Paulo   55     5\n",
       "e  Tahnee  Vancouver   71     9\n",
       "f    Nina      Abuja   13     0"
      ]
     },
     "metadata": {},
     "output_type": "display_data"
    }
   ],
   "source": [
    "# Delete a row\n",
    "data_pandas = data_pandas.drop('a', axis=0)\n",
    "display(data_pandas)"
   ]
  },
  {
   "cell_type": "markdown",
   "id": "05976010",
   "metadata": {
    "id": "LvHbczzG_GNv"
   },
   "source": [
    "### Filtering DataFrames\n",
    "Here we are choosing to display all dogs above a given age."
   ]
  },
  {
   "cell_type": "code",
   "execution_count": 80,
   "id": "3cafc03c",
   "metadata": {
    "colab": {
     "base_uri": "https://localhost:8080/",
     "height": 143
    },
    "executionInfo": {
     "elapsed": 25,
     "status": "ok",
     "timestamp": 1704816136658,
     "user": {
      "displayName": "Linda Cremonesi",
      "userId": "14767435952218470727"
     },
     "user_tz": 0
    },
    "id": "Ww1O_Re5_GNv",
    "outputId": "d3036327-28a3-4280-c0b0-0f2350404870"
   },
   "outputs": [
    {
     "data": {
      "text/html": [
       "<div>\n",
       "<style scoped>\n",
       "    .dataframe tbody tr th:only-of-type {\n",
       "        vertical-align: middle;\n",
       "    }\n",
       "\n",
       "    .dataframe tbody tr th {\n",
       "        vertical-align: top;\n",
       "    }\n",
       "\n",
       "    .dataframe thead th {\n",
       "        text-align: right;\n",
       "    }\n",
       "</style>\n",
       "<table border=\"1\" class=\"dataframe\">\n",
       "  <thead>\n",
       "    <tr style=\"text-align: right;\">\n",
       "      <th></th>\n",
       "      <th>Name</th>\n",
       "      <th>Location</th>\n",
       "      <th>Age</th>\n",
       "      <th>Pets</th>\n",
       "    </tr>\n",
       "  </thead>\n",
       "  <tbody>\n",
       "    <tr>\n",
       "      <th>b</th>\n",
       "      <td>Alice</td>\n",
       "      <td>Amsterdam</td>\n",
       "      <td>20</td>\n",
       "      <td>2</td>\n",
       "    </tr>\n",
       "    <tr>\n",
       "      <th>c</th>\n",
       "      <td>Jenni</td>\n",
       "      <td>Glasgow</td>\n",
       "      <td>27</td>\n",
       "      <td>1</td>\n",
       "    </tr>\n",
       "    <tr>\n",
       "      <th>f</th>\n",
       "      <td>Nina</td>\n",
       "      <td>Abuja</td>\n",
       "      <td>13</td>\n",
       "      <td>0</td>\n",
       "    </tr>\n",
       "  </tbody>\n",
       "</table>\n",
       "</div>"
      ],
      "text/plain": [
       "    Name   Location  Age  Pets\n",
       "b  Alice  Amsterdam   20     2\n",
       "c  Jenni    Glasgow   27     1\n",
       "f   Nina      Abuja   13     0"
      ]
     },
     "metadata": {},
     "output_type": "display_data"
    }
   ],
   "source": [
    "display(data_pandas[data_pandas.Age<30])"
   ]
  },
  {
   "cell_type": "code",
   "execution_count": 81,
   "id": "c45f1f7e",
   "metadata": {
    "colab": {
     "base_uri": "https://localhost:8080/"
    },
    "executionInfo": {
     "elapsed": 24,
     "status": "ok",
     "timestamp": 1704816136658,
     "user": {
      "displayName": "Linda Cremonesi",
      "userId": "14767435952218470727"
     },
     "user_tz": 0
    },
    "id": "bh2zu8undVUi",
    "outputId": "9a3a5d53-3c83-487b-aa51-79dd9495906d"
   },
   "outputs": [
    {
     "name": "stdout",
     "output_type": "stream",
     "text": [
      "    Name   Location  Age  Pets\n",
      "b  Alice  Amsterdam   20     2\n"
     ]
    }
   ],
   "source": [
    "# Filter by multiple conditions\n",
    "filtered_df = data_pandas[(data_pandas['Age'] < 30) & (data_pandas['Location'] == 'Amsterdam')]\n",
    "print(filtered_df)"
   ]
  },
  {
   "cell_type": "markdown",
   "id": "90f13101",
   "metadata": {
    "id": "QVOwm7DldvxU"
   },
   "source": [
    "### Sorting DataFrames\n",
    "Here we are sorting the data frames in descending order by age."
   ]
  },
  {
   "cell_type": "code",
   "execution_count": 82,
   "id": "edfae208",
   "metadata": {
    "colab": {
     "base_uri": "https://localhost:8080/"
    },
    "executionInfo": {
     "elapsed": 20,
     "status": "ok",
     "timestamp": 1704816136658,
     "user": {
      "displayName": "Linda Cremonesi",
      "userId": "14767435952218470727"
     },
     "user_tz": 0
    },
    "id": "J0EN2Zd_dtKb",
    "outputId": "36824d16-fefb-4088-eeab-bea1e6cdd6f6"
   },
   "outputs": [
    {
     "name": "stdout",
     "output_type": "stream",
     "text": [
      "     Name   Location  Age  Pets\n",
      "e  Tahnee  Vancouver   71     9\n",
      "d     Mei  Sao Paulo   55     5\n",
      "c   Jenni    Glasgow   27     1\n",
      "b   Alice  Amsterdam   20     2\n",
      "f    Nina      Abuja   13     0\n"
     ]
    }
   ],
   "source": [
    "# Sort by a column\n",
    "sorted_df = data_pandas.sort_values(by='Age', ascending=False)\n",
    "print(sorted_df)"
   ]
  },
  {
   "cell_type": "code",
   "execution_count": 83,
   "id": "dad1c5c1",
   "metadata": {
    "colab": {
     "base_uri": "https://localhost:8080/"
    },
    "executionInfo": {
     "elapsed": 17,
     "status": "ok",
     "timestamp": 1704816136658,
     "user": {
      "displayName": "Linda Cremonesi",
      "userId": "14767435952218470727"
     },
     "user_tz": 0
    },
    "id": "up04-M1pd98K",
    "outputId": "5d4e392d-d942-44e0-e3b5-54c7047bd72c"
   },
   "outputs": [
    {
     "name": "stdout",
     "output_type": "stream",
     "text": [
      "     Name   Location  Age  Pets\n",
      "f    Nina      Abuja   13     0\n",
      "b   Alice  Amsterdam   20     2\n",
      "c   Jenni    Glasgow   27     1\n",
      "d     Mei  Sao Paulo   55     5\n",
      "e  Tahnee  Vancouver   71     9\n"
     ]
    }
   ],
   "source": [
    "# Sort by multiple columns\n",
    "sorted_df = data_pandas.sort_values(by=['Location', 'Age'], ascending=[True, False])\n",
    "print(sorted_df)"
   ]
  },
  {
   "cell_type": "markdown",
   "id": "6323333c",
   "metadata": {
    "id": "S5dHSOGr_GNv"
   },
   "source": [
    "### Statistical Analysis\n",
    "You can calculate things like the correlation and covariance matrices"
   ]
  },
  {
   "cell_type": "code",
   "execution_count": 84,
   "id": "681ddac1",
   "metadata": {
    "colab": {
     "base_uri": "https://localhost:8080/",
     "height": 207
    },
    "executionInfo": {
     "elapsed": 16,
     "status": "ok",
     "timestamp": 1704816136659,
     "user": {
      "displayName": "Linda Cremonesi",
      "userId": "14767435952218470727"
     },
     "user_tz": 0
    },
    "id": "nI7a_b0c_GNv",
    "outputId": "d271dac4-5d56-46af-e123-efae727ee8b4"
   },
   "outputs": [
    {
     "data": {
      "text/html": [
       "<div>\n",
       "<style scoped>\n",
       "    .dataframe tbody tr th:only-of-type {\n",
       "        vertical-align: middle;\n",
       "    }\n",
       "\n",
       "    .dataframe tbody tr th {\n",
       "        vertical-align: top;\n",
       "    }\n",
       "\n",
       "    .dataframe thead th {\n",
       "        text-align: right;\n",
       "    }\n",
       "</style>\n",
       "<table border=\"1\" class=\"dataframe\">\n",
       "  <thead>\n",
       "    <tr style=\"text-align: right;\">\n",
       "      <th></th>\n",
       "      <th>Age</th>\n",
       "      <th>Pets</th>\n",
       "    </tr>\n",
       "  </thead>\n",
       "  <tbody>\n",
       "    <tr>\n",
       "      <th>Age</th>\n",
       "      <td>1.000000</td>\n",
       "      <td>0.966607</td>\n",
       "    </tr>\n",
       "    <tr>\n",
       "      <th>Pets</th>\n",
       "      <td>0.966607</td>\n",
       "      <td>1.000000</td>\n",
       "    </tr>\n",
       "  </tbody>\n",
       "</table>\n",
       "</div>"
      ],
      "text/plain": [
       "           Age      Pets\n",
       "Age   1.000000  0.966607\n",
       "Pets  0.966607  1.000000"
      ]
     },
     "metadata": {},
     "output_type": "display_data"
    },
    {
     "data": {
      "text/html": [
       "<div>\n",
       "<style scoped>\n",
       "    .dataframe tbody tr th:only-of-type {\n",
       "        vertical-align: middle;\n",
       "    }\n",
       "\n",
       "    .dataframe tbody tr th {\n",
       "        vertical-align: top;\n",
       "    }\n",
       "\n",
       "    .dataframe thead th {\n",
       "        text-align: right;\n",
       "    }\n",
       "</style>\n",
       "<table border=\"1\" class=\"dataframe\">\n",
       "  <thead>\n",
       "    <tr style=\"text-align: right;\">\n",
       "      <th></th>\n",
       "      <th>Age</th>\n",
       "      <th>Pets</th>\n",
       "    </tr>\n",
       "  </thead>\n",
       "  <tbody>\n",
       "    <tr>\n",
       "      <th>Age</th>\n",
       "      <td>611.20</td>\n",
       "      <td>87.15</td>\n",
       "    </tr>\n",
       "    <tr>\n",
       "      <th>Pets</th>\n",
       "      <td>87.15</td>\n",
       "      <td>13.30</td>\n",
       "    </tr>\n",
       "  </tbody>\n",
       "</table>\n",
       "</div>"
      ],
      "text/plain": [
       "         Age   Pets\n",
       "Age   611.20  87.15\n",
       "Pets   87.15  13.30"
      ]
     },
     "metadata": {},
     "output_type": "display_data"
    }
   ],
   "source": [
    "display(data_pandas.corr(numeric_only = True))\n",
    "display(data_pandas.cov(numeric_only = True))"
   ]
  },
  {
   "cell_type": "markdown",
   "id": "058bd49d",
   "metadata": {
    "id": "4CXqngUN_GNv"
   },
   "source": [
    "### Displaying Data\n"
   ]
  },
  {
   "cell_type": "markdown",
   "id": "41fb5073",
   "metadata": {
    "id": "c-kn9BIj_GNw"
   },
   "source": [
    "It is possible to display your DataFrame content quite easily. Here we will cover a few common examples.\n",
    "\n",
    "### Basic plotting\n",
    "\n",
    "Two display a basic plot of our data, we can use:\n",
    "```python\n",
    "df['column name'].plot()\n",
    "```\n",
    "\n",
    "or:\n",
    "\n",
    "```python\n",
    "df.plot('x column name','y column name')\n",
    "```\n",
    "We only need to reference the name of the column, we don't need to know its index. For the first method we didn't set an x-axis; with that plotting nomenclature Pandas will use whatever the index is as an x-axis.\n",
    "\n",
    "**Experiment with these methods of data plotting using our `data_pandas` DataFrame.**\n"
   ]
  },
  {
   "cell_type": "code",
   "execution_count": 85,
   "id": "87eeb537",
   "metadata": {
    "id": "Hokrqqvj_GNw"
   },
   "outputs": [
    {
     "data": {
      "text/plain": [
       "<Axes: xlabel='Age'>"
      ]
     },
     "execution_count": 85,
     "metadata": {},
     "output_type": "execute_result"
    },
    {
     "data": {
      "image/png": "[encoded data removed]",
      "text/plain": [
       "<Figure size 640x480 with 1 Axes>"
      ]
     },
     "metadata": {},
     "output_type": "display_data"
    }
   ],
   "source": [
    "data_pandas.plot(x='Age', y='Pets', kind='bar')"
   ]
  },
  {
   "cell_type": "markdown",
   "id": "2c0a0aaa",
   "metadata": {
    "id": "3PJFyL80_GNw"
   },
   "source": [
    "Other useful data visualisation:\n",
    "### Histograms"
   ]
  },
  {
   "cell_type": "code",
   "execution_count": 86,
   "id": "acdfef0a",
   "metadata": {
    "colab": {
     "base_uri": "https://localhost:8080/",
     "height": 452
    },
    "executionInfo": {
     "elapsed": 1097,
     "status": "ok",
     "timestamp": 1704816137742,
     "user": {
      "displayName": "Linda Cremonesi",
      "userId": "14767435952218470727"
     },
     "user_tz": 0
    },
    "id": "h3kUwO_s_GNw",
    "outputId": "a0bd7993-8f0b-4b7c-dc6b-12c611487fe2"
   },
   "outputs": [
    {
     "data": {
      "image/png": "[encoded data removed]",
      "text/plain": [
       "<Figure size 640x480 with 2 Axes>"
      ]
     },
     "metadata": {},
     "output_type": "display_data"
    }
   ],
   "source": [
    "import scipy as sp\n",
    "import pylab as pl\n",
    "\n",
    "histogram=data_pandas.hist()"
   ]
  },
  {
   "cell_type": "code",
   "execution_count": 87,
   "id": "48e5b519",
   "metadata": {
    "colab": {
     "base_uri": "https://localhost:8080/",
     "height": 447
    },
    "executionInfo": {
     "elapsed": 9,
     "status": "ok",
     "timestamp": 1704816137743,
     "user": {
      "displayName": "Linda Cremonesi",
      "userId": "14767435952218470727"
     },
     "user_tz": 0
    },
    "id": "6l25l55D_GNw",
    "outputId": "f9bf6b3a-a3e9-45cf-fc34-0e76fb147a5d"
   },
   "outputs": [
    {
     "data": {
      "text/plain": [
       "<Axes: >"
      ]
     },
     "execution_count": 87,
     "metadata": {},
     "output_type": "execute_result"
    },
    {
     "data": {
      "image/png": "[encoded data removed]",
      "text/plain": [
       "<Figure size 640x480 with 1 Axes>"
      ]
     },
     "metadata": {},
     "output_type": "display_data"
    }
   ],
   "source": [
    "data_pandas['Pets'].plot()"
   ]
  },
  {
   "cell_type": "code",
   "execution_count": 88,
   "id": "034c320f",
   "metadata": {
    "colab": {
     "base_uri": "https://localhost:8080/",
     "height": 452
    },
    "executionInfo": {
     "elapsed": 421,
     "status": "ok",
     "timestamp": 1704816138159,
     "user": {
      "displayName": "Linda Cremonesi",
      "userId": "14767435952218470727"
     },
     "user_tz": 0
    },
    "id": "D51uloUW_GNw",
    "outputId": "6f4a9423-60b9-495c-fcb4-fd571e8d3771"
   },
   "outputs": [
    {
     "data": {
      "image/png": "[encoded data removed]",
      "text/plain": [
       "<Figure size 640x480 with 1 Axes>"
      ]
     },
     "metadata": {},
     "output_type": "display_data"
    }
   ],
   "source": [
    "h1=data_pandas.hist(column=\"Pets\")"
   ]
  },
  {
   "cell_type": "code",
   "execution_count": 89,
   "id": "786266b7",
   "metadata": {
    "colab": {
     "base_uri": "https://localhost:8080/",
     "height": 469
    },
    "executionInfo": {
     "elapsed": 403,
     "status": "ok",
     "timestamp": 1704816138555,
     "user": {
      "displayName": "Linda Cremonesi",
      "userId": "14767435952218470727"
     },
     "user_tz": 0
    },
    "id": "38vKXqDL_GNw",
    "outputId": "02e5f75e-ac9a-4837-b6f1-15377d0a1486"
   },
   "outputs": [
    {
     "data": {
      "text/plain": [
       "array([[<Axes: title={'center': 'Pets'}>]], dtype=object)"
      ]
     },
     "execution_count": 89,
     "metadata": {},
     "output_type": "execute_result"
    },
    {
     "data": {
      "image/png": "[encoded data removed]",
      "text/plain": [
       "<Figure size 640x480 with 1 Axes>"
      ]
     },
     "metadata": {},
     "output_type": "display_data"
    }
   ],
   "source": [
    "data_pandas[data_pandas.Age>20].hist(column=\"Pets\")"
   ]
  },
  {
   "cell_type": "markdown",
   "id": "e7781b04",
   "metadata": {
    "id": "R2LnzkSM_GNw"
   },
   "source": [
    "### Scatter Plots"
   ]
  },
  {
   "cell_type": "code",
   "execution_count": 90,
   "id": "6f940a87",
   "metadata": {
    "colab": {
     "base_uri": "https://localhost:8080/",
     "height": 466
    },
    "executionInfo": {
     "elapsed": 526,
     "status": "ok",
     "timestamp": 1704816139075,
     "user": {
      "displayName": "Linda Cremonesi",
      "userId": "14767435952218470727"
     },
     "user_tz": 0
    },
    "id": "COaXjrD6_GNw",
    "outputId": "d55f457a-e763-461f-8707-b190f6e37a70"
   },
   "outputs": [
    {
     "data": {
      "text/plain": [
       "<Axes: xlabel='Age', ylabel='Pets'>"
      ]
     },
     "execution_count": 90,
     "metadata": {},
     "output_type": "execute_result"
    },
    {
     "data": {
      "image/png": "[encoded data removed]",
      "text/plain": [
       "<Figure size 640x480 with 1 Axes>"
      ]
     },
     "metadata": {},
     "output_type": "display_data"
    }
   ],
   "source": [
    "data_pandas.plot(kind=\"scatter\",x=\"Age\",y=\"Pets\",alpha=1)\n",
    "#alpha controls the opacity of data points.\n",
    "#For larger amounts of data, setting alpha to a lower value can make the plot easier to interpret"
   ]
  },
  {
   "cell_type": "markdown",
   "id": "15ba4cd6",
   "metadata": {
    "id": "f4nyoQm1_GNw"
   },
   "source": [
    "A **scatter_matrix** displays all possible combinations of the scatter plots, as well as the various histograms. Run the cell below to see what this looks like for our data. Just like with any pandas plot, this can also be filtered."
   ]
  },
  {
   "cell_type": "code",
   "execution_count": 91,
   "id": "f948c262",
   "metadata": {
    "colab": {
     "base_uri": "https://localhost:8080/",
     "height": 519
    },
    "executionInfo": {
     "elapsed": 671,
     "status": "ok",
     "timestamp": 1704816139741,
     "user": {
      "displayName": "Linda Cremonesi",
      "userId": "14767435952218470727"
     },
     "user_tz": 0
    },
    "id": "MtaPRtLd_GNx",
    "outputId": "bdd40b6c-7ae8-47ff-aad4-072febfb3e2b"
   },
   "outputs": [
    {
     "data": {
      "text/plain": [
       "array([[<Axes: xlabel='Age', ylabel='Age'>,\n",
       "        <Axes: xlabel='Pets', ylabel='Age'>],\n",
       "       [<Axes: xlabel='Age', ylabel='Pets'>,\n",
       "        <Axes: xlabel='Pets', ylabel='Pets'>]], dtype=object)"
      ]
     },
     "execution_count": 91,
     "metadata": {},
     "output_type": "execute_result"
    },
    {
     "data": {
      "image/png": "[encoded data removed]",
      "text/plain": [
       "<Figure size 640x480 with 4 Axes>"
      ]
     },
     "metadata": {},
     "output_type": "display_data"
    }
   ],
   "source": [
    "import pandas.plotting as pdp\n",
    "pdp.scatter_matrix(data_pandas)"
   ]
  },
  {
   "cell_type": "code",
   "execution_count": 92,
   "id": "b85c3475",
   "metadata": {
    "colab": {
     "base_uri": "https://localhost:8080/",
     "height": 519
    },
    "executionInfo": {
     "elapsed": 839,
     "status": "ok",
     "timestamp": 1704816140575,
     "user": {
      "displayName": "Linda Cremonesi",
      "userId": "14767435952218470727"
     },
     "user_tz": 0
    },
    "id": "lFf3Kj4f_GNx",
    "outputId": "54ff2b68-2337-4ebc-c7ca-283a7fc35e45"
   },
   "outputs": [
    {
     "data": {
      "text/plain": [
       "array([[<Axes: xlabel='Age', ylabel='Age'>,\n",
       "        <Axes: xlabel='Pets', ylabel='Age'>],\n",
       "       [<Axes: xlabel='Age', ylabel='Pets'>,\n",
       "        <Axes: xlabel='Pets', ylabel='Pets'>]], dtype=object)"
      ]
     },
     "execution_count": 92,
     "metadata": {},
     "output_type": "execute_result"
    },
    {
     "data": {
      "image/png": "[encoded data removed]",
      "text/plain": [
       "<Figure size 640x480 with 4 Axes>"
      ]
     },
     "metadata": {},
     "output_type": "display_data"
    }
   ],
   "source": [
    "pdp.scatter_matrix(data_pandas[data_pandas.Age>20])"
   ]
  },
  {
   "cell_type": "markdown",
   "id": "04a2dc72",
   "metadata": {
    "id": "PkSn4oqQ_GNx"
   },
   "source": [
    "Further example of plots can be found [here](https://pandas.pydata.org/docs/user_guide/visualization.html)\n",
    "\n",
    "<div style=\"background-color:#C2F5DD\">\n",
    "\n",
    "## Exercise 4\n",
    "\n",
    "The purpose of this exercise is to get you to play around with pandas DataFrame and to consolidate the knowledge that you already have.\n",
    "\n",
    "* Generate 5 samples with 100,000 correlated random numbers distributed according to Gaussian distributions (you can choose whatever covariance matrix that you like, although you can start with an identity matrix for simplicity). You may want to use the `numpy` function `random.multivariate_normal` for this purpose.\n",
    "\n",
    "* Read these into a DataFrame\n",
    "\n",
    "* Create a 6th column in your DataFrame: the values should be the second column plus the fourth column\n",
    "\n",
    "* Verify that the covariance (and correlation) matrices are what you would expect\n",
    "\n",
    "* Display your data"
   ]
  },
  {
   "cell_type": "code",
   "execution_count": 93,
   "id": "d2c0344c",
   "metadata": {},
   "outputs": [
    {
     "name": "stdout",
     "output_type": "stream",
     "text": [
      "Covariance matrix:\n",
      "           c1        c2        c3        c4        c5        c6\n",
      "c1  1.004731  0.001382 -0.002013  0.000777  0.004667  0.002159\n",
      "c2  0.001382  0.999934 -0.000307 -0.003892  0.004556  0.996042\n",
      "c3 -0.002013 -0.000307  1.000398 -0.002147 -0.001867 -0.002453\n",
      "c4  0.000777 -0.003892 -0.002147  1.000939 -0.007376  0.997047\n",
      "c5  0.004667  0.004556 -0.001867 -0.007376  1.000916 -0.002820\n",
      "c6  0.002159  0.996042 -0.002453  0.997047 -0.002820  1.993089\n",
      "\n",
      "Correlation matrix:\n",
      "           c1        c2        c3        c4        c5        c6\n",
      "c1  1.000000  0.001378 -0.002008  0.000775  0.004654  0.001525\n",
      "c2  0.001378  1.000000 -0.000307 -0.003891  0.004554  0.705551\n",
      "c3 -0.002008 -0.000307  1.000000 -0.002145 -0.001866 -0.001737\n",
      "c4  0.000775 -0.003891 -0.002145  1.000000 -0.007369  0.705908\n",
      "c5  0.004654  0.004554 -0.001866 -0.007369  1.000000 -0.001997\n",
      "c6  0.001525  0.705551 -0.001737  0.705908 -0.001997  1.000000\n",
      "\n",
      "Sample data:\n",
      "          c1        c2        c3        c4        c5        c6\n",
      "0  0.387785 -0.926740 -1.438726  0.263229 -0.839782 -0.663511\n",
      "1  1.680498 -0.311760 -0.715228 -0.429765 -0.500852 -0.741525\n",
      "2 -1.016776  0.833239 -1.420503 -0.432934 -0.878741  0.400305\n",
      "3  1.637416  0.671602  0.461702  0.583795 -0.842074  1.255397\n",
      "4 -0.237806 -0.336890 -0.327848  0.203469 -1.127809 -0.133421\n"
     ]
    },
    {
     "data": {
      "text/plain": [
       "array([[<Axes: title={'center': 'c1'}>, <Axes: title={'center': 'c2'}>],\n",
       "       [<Axes: title={'center': 'c3'}>, <Axes: title={'center': 'c4'}>],\n",
       "       [<Axes: title={'center': 'c5'}>, <Axes: title={'center': 'c6'}>]],\n",
       "      dtype=object)"
      ]
     },
     "execution_count": 93,
     "metadata": {},
     "output_type": "execute_result"
    },
    {
     "data": {
      "image/png": "[encoded data removed]",
      "text/plain": [
       "<Figure size 640x480 with 6 Axes>"
      ]
     },
     "metadata": {},
     "output_type": "display_data"
    }
   ],
   "source": [
    "#1: Generate 100,000 samples of 5 correlated Gaussian variables\n",
    "mean = np.zeros(5)\n",
    "cov = np.eye(5)  # Identity matrix for simplicity (no correlation)\n",
    "samples = np.random.multivariate_normal(mean, cov, size=100_000)\n",
    "\n",
    "# Step 2: Read into a DataFrame\n",
    "df = pd.DataFrame(samples, columns=['c1', 'c2', 'c3', 'c4', 'c5'])\n",
    "\n",
    "# Step 3: Create a 6th column: c2 + c4\n",
    "df['c6'] = df['c2'] + df['c4']\n",
    "\n",
    "# Step 4: Verify covariance and correlation matrices\n",
    "cov_matrix = df.cov()\n",
    "corr_matrix = df.corr()\n",
    "\n",
    "print(\"Covariance matrix:\\n\", cov_matrix)\n",
    "print(\"\\nCorrelation matrix:\\n\", corr_matrix)\n",
    "\n",
    "# Step 5: Display the first few rows of data\n",
    "print(\"\\nSample data:\\n\", df.head())\n",
    "\n",
    "# Step 6: Plot scatter matrix\n",
    "df.hist(column=[\"c1\", \"c2\", \"c3\", \"c4\", \"c5\", \"c6\"])\n"
   ]
  },
  {
   "cell_type": "markdown",
   "id": "2e492976",
   "metadata": {
    "id": "gHEgEBJp_GNx"
   },
   "source": [
    "<hr style=\"border:2px solid gray\">\n",
    "\n",
    "## Reading Data from Files  [^](#index) <a id='files'></a>\n",
    "\n",
    "You can read data from all sorts of files (csv, excel, etc) into a DataFrames. Sometimes (especially with csv) you have to be careful with the separator"
   ]
  },
  {
   "cell_type": "code",
   "execution_count": 94,
   "id": "32af1041",
   "metadata": {
    "id": "PzZV5GlruKFl"
   },
   "outputs": [],
   "source": [
    "df_pound_dollar=pd.read_csv(r'pound-dollar-exchange-rate-historical-chart.csv')\n",
    "#'r' refers to raw string, it is required to read in the file with no bugs"
   ]
  },
  {
   "cell_type": "code",
   "execution_count": 95,
   "id": "c985d76c",
   "metadata": {
    "colab": {
     "base_uri": "https://localhost:8080/",
     "height": 423
    },
    "executionInfo": {
     "elapsed": 43,
     "status": "ok",
     "timestamp": 1704816142178,
     "user": {
      "displayName": "Linda Cremonesi",
      "userId": "14767435952218470727"
     },
     "user_tz": 0
    },
    "id": "ImowMrVt_GNx",
    "outputId": "b4b801ec-b57f-4664-84bf-3c2eff186bff"
   },
   "outputs": [
    {
     "data": {
      "text/html": [
       "<div>\n",
       "<style scoped>\n",
       "    .dataframe tbody tr th:only-of-type {\n",
       "        vertical-align: middle;\n",
       "    }\n",
       "\n",
       "    .dataframe tbody tr th {\n",
       "        vertical-align: top;\n",
       "    }\n",
       "\n",
       "    .dataframe thead th {\n",
       "        text-align: right;\n",
       "    }\n",
       "</style>\n",
       "<table border=\"1\" class=\"dataframe\">\n",
       "  <thead>\n",
       "    <tr style=\"text-align: right;\">\n",
       "      <th></th>\n",
       "      <th>date</th>\n",
       "      <th>value</th>\n",
       "    </tr>\n",
       "  </thead>\n",
       "  <tbody>\n",
       "    <tr>\n",
       "      <th>0</th>\n",
       "      <td>1971-01-04</td>\n",
       "      <td>2.3900</td>\n",
       "    </tr>\n",
       "    <tr>\n",
       "      <th>1</th>\n",
       "      <td>1971-01-05</td>\n",
       "      <td>2.3900</td>\n",
       "    </tr>\n",
       "    <tr>\n",
       "      <th>2</th>\n",
       "      <td>1971-01-06</td>\n",
       "      <td>2.4000</td>\n",
       "    </tr>\n",
       "    <tr>\n",
       "      <th>3</th>\n",
       "      <td>1971-01-07</td>\n",
       "      <td>2.4000</td>\n",
       "    </tr>\n",
       "    <tr>\n",
       "      <th>4</th>\n",
       "      <td>1971-01-08</td>\n",
       "      <td>2.4000</td>\n",
       "    </tr>\n",
       "    <tr>\n",
       "      <th>...</th>\n",
       "      <td>...</td>\n",
       "      <td>...</td>\n",
       "    </tr>\n",
       "    <tr>\n",
       "      <th>13297</th>\n",
       "      <td>2022-09-19</td>\n",
       "      <td>1.1439</td>\n",
       "    </tr>\n",
       "    <tr>\n",
       "      <th>13298</th>\n",
       "      <td>2022-09-20</td>\n",
       "      <td>1.1374</td>\n",
       "    </tr>\n",
       "    <tr>\n",
       "      <th>13299</th>\n",
       "      <td>2022-09-21</td>\n",
       "      <td>1.1267</td>\n",
       "    </tr>\n",
       "    <tr>\n",
       "      <th>13300</th>\n",
       "      <td>2022-09-22</td>\n",
       "      <td>1.1252</td>\n",
       "    </tr>\n",
       "    <tr>\n",
       "      <th>13301</th>\n",
       "      <td>2022-09-23</td>\n",
       "      <td>1.1068</td>\n",
       "    </tr>\n",
       "  </tbody>\n",
       "</table>\n",
       "<p>13302 rows × 2 columns</p>\n",
       "</div>"
      ],
      "text/plain": [
       "             date   value\n",
       "0      1971-01-04  2.3900\n",
       "1      1971-01-05  2.3900\n",
       "2      1971-01-06  2.4000\n",
       "3      1971-01-07  2.4000\n",
       "4      1971-01-08  2.4000\n",
       "...           ...     ...\n",
       "13297  2022-09-19  1.1439\n",
       "13298  2022-09-20  1.1374\n",
       "13299  2022-09-21  1.1267\n",
       "13300  2022-09-22  1.1252\n",
       "13301  2022-09-23  1.1068\n",
       "\n",
       "[13302 rows x 2 columns]"
      ]
     },
     "metadata": {},
     "output_type": "display_data"
    }
   ],
   "source": [
    "display(df_pound_dollar)"
   ]
  },
  {
   "cell_type": "markdown",
   "id": "37b04bbb",
   "metadata": {
    "id": "HSqeE0ic_GNx"
   },
   "source": [
    "This will display a lot of information. We can reduce this display and make the data easier to interpret at a glance using <span style=\"color:blue\">.head()</span> and <span style=\"color:blue\">.head()</span>. To get a top level summary of the data, we can use the <span style=\"color:blue\">.info()</span> command. For example:"
   ]
  },
  {
   "cell_type": "code",
   "execution_count": 96,
   "id": "ebb9e4a7",
   "metadata": {
    "colab": {
     "base_uri": "https://localhost:8080/",
     "height": 432
    },
    "executionInfo": {
     "elapsed": 35,
     "status": "ok",
     "timestamp": 1704816142178,
     "user": {
      "displayName": "Linda Cremonesi",
      "userId": "14767435952218470727"
     },
     "user_tz": 0
    },
    "id": "w2y60mSw_GNx",
    "outputId": "92311c9f-6088-465a-e08c-2eae00f60762"
   },
   "outputs": [
    {
     "data": {
      "text/html": [
       "<div>\n",
       "<style scoped>\n",
       "    .dataframe tbody tr th:only-of-type {\n",
       "        vertical-align: middle;\n",
       "    }\n",
       "\n",
       "    .dataframe tbody tr th {\n",
       "        vertical-align: top;\n",
       "    }\n",
       "\n",
       "    .dataframe thead th {\n",
       "        text-align: right;\n",
       "    }\n",
       "</style>\n",
       "<table border=\"1\" class=\"dataframe\">\n",
       "  <thead>\n",
       "    <tr style=\"text-align: right;\">\n",
       "      <th></th>\n",
       "      <th>date</th>\n",
       "      <th>value</th>\n",
       "    </tr>\n",
       "  </thead>\n",
       "  <tbody>\n",
       "    <tr>\n",
       "      <th>0</th>\n",
       "      <td>1971-01-04</td>\n",
       "      <td>2.39</td>\n",
       "    </tr>\n",
       "    <tr>\n",
       "      <th>1</th>\n",
       "      <td>1971-01-05</td>\n",
       "      <td>2.39</td>\n",
       "    </tr>\n",
       "    <tr>\n",
       "      <th>2</th>\n",
       "      <td>1971-01-06</td>\n",
       "      <td>2.40</td>\n",
       "    </tr>\n",
       "    <tr>\n",
       "      <th>3</th>\n",
       "      <td>1971-01-07</td>\n",
       "      <td>2.40</td>\n",
       "    </tr>\n",
       "    <tr>\n",
       "      <th>4</th>\n",
       "      <td>1971-01-08</td>\n",
       "      <td>2.40</td>\n",
       "    </tr>\n",
       "  </tbody>\n",
       "</table>\n",
       "</div>"
      ],
      "text/plain": [
       "         date   value\n",
       "0  1971-01-04    2.39\n",
       "1  1971-01-05    2.39\n",
       "2  1971-01-06    2.40\n",
       "3  1971-01-07    2.40\n",
       "4  1971-01-08    2.40"
      ]
     },
     "metadata": {},
     "output_type": "display_data"
    },
    {
     "name": "stdout",
     "output_type": "stream",
     "text": [
      "\n",
      " And the summary of the data: \n",
      "\n",
      "<class 'pandas.core.frame.DataFrame'>\n",
      "RangeIndex: 13302 entries, 0 to 13301\n",
      "Data columns (total 2 columns):\n",
      " #   Column  Non-Null Count  Dtype  \n",
      "---  ------  --------------  -----  \n",
      " 0   date    13302 non-null  object \n",
      " 1    value  13302 non-null  float64\n",
      "dtypes: float64(1), object(1)\n",
      "memory usage: 208.0+ KB\n"
     ]
    },
    {
     "data": {
      "text/plain": [
       "None"
      ]
     },
     "metadata": {},
     "output_type": "display_data"
    }
   ],
   "source": [
    "display(df_pound_dollar.head())\n",
    "\n",
    "print ('\\n And the summary of the data: \\n')\n",
    "\n",
    "display(df_pound_dollar.info())"
   ]
  },
  {
   "cell_type": "markdown",
   "id": "ba732dbd",
   "metadata": {
    "id": "mLEIgXwA_GNx"
   },
   "source": [
    "<div style=\"background-color:#C2F5DD\">\n",
    "\n",
    "## Exercise 5\n",
    "\n",
    "Let's analyse some data from the euro/dollar and pound/dollar exchange rates.\n",
    "1) Read the euro-dollar exchange rate file into a dataframe and merge it with the pound-dollar dataframe. You may want to use the `panda` `rename` function to rename the columns.\n",
    "2) Check the dataset for `NaN` and drop any instances of `NaN`.\n",
    "3) Plot histograms and timeseries from the dataframe.\n",
    "4) Calculate mean, variance, covariance, and correlation.\n",
    "5) Plot a scatter plot of the euro-dollar vs the pound-dollar exchange. You may notice the graph showing two separate populations. Use the slice function to try to separate the two populations (*hint: the ideal index will be between 2000 and 3000*)\n",
    "6) Calculate the coefficients for the linear regression $y=mx+q$ for the three samples (the total sample, and the two samples found with the split in point 5), and plot them on top of a scatter graph\n",
    "$$ m = \\dfrac{\\sigma_{xy}}{\\sigma_x^2} $$\n",
    "$$ q = \\overline{y}-m\\overline{x} $$\n",
    "You may want to use `stats.linregress` from `scipy` to calculate the coefficients.\n",
    "8) Write a sentence of your interpretation of the graph."
   ]
  },
  {
   "cell_type": "code",
   "execution_count": 5,
   "id": "be799015-5951-4c2d-b79b-64f3cebf6adc",
   "metadata": {},
   "outputs": [
    {
     "data": {
      "text/html": [
       "<div>\n",
       "<style scoped>\n",
       "    .dataframe tbody tr th:only-of-type {\n",
       "        vertical-align: middle;\n",
       "    }\n",
       "\n",
       "    .dataframe tbody tr th {\n",
       "        vertical-align: top;\n",
       "    }\n",
       "\n",
       "    .dataframe thead th {\n",
       "        text-align: right;\n",
       "    }\n",
       "</style>\n",
       "<table border=\"1\" class=\"dataframe\">\n",
       "  <thead>\n",
       "    <tr style=\"text-align: right;\">\n",
       "      <th></th>\n",
       "      <th>date</th>\n",
       "      <th>value_x</th>\n",
       "      <th>value_y</th>\n",
       "    </tr>\n",
       "  </thead>\n",
       "  <tbody>\n",
       "    <tr>\n",
       "      <th>0</th>\n",
       "      <td>1999-01-04</td>\n",
       "      <td>1.1825</td>\n",
       "      <td>1.66</td>\n",
       "    </tr>\n",
       "    <tr>\n",
       "      <th>1</th>\n",
       "      <td>1999-01-05</td>\n",
       "      <td>1.1774</td>\n",
       "      <td>1.66</td>\n",
       "    </tr>\n",
       "    <tr>\n",
       "      <th>2</th>\n",
       "      <td>1999-01-06</td>\n",
       "      <td>1.1622</td>\n",
       "      <td>1.65</td>\n",
       "    </tr>\n",
       "    <tr>\n",
       "      <th>3</th>\n",
       "      <td>1999-01-07</td>\n",
       "      <td>1.1706</td>\n",
       "      <td>1.65</td>\n",
       "    </tr>\n",
       "    <tr>\n",
       "      <th>4</th>\n",
       "      <td>1999-01-08</td>\n",
       "      <td>1.1577</td>\n",
       "      <td>1.64</td>\n",
       "    </tr>\n",
       "  </tbody>\n",
       "</table>\n",
       "</div>"
      ],
      "text/plain": [
       "         date   value_x   value_y\n",
       "0  1999-01-04    1.1825      1.66\n",
       "1  1999-01-05    1.1774      1.66\n",
       "2  1999-01-06    1.1622      1.65\n",
       "3  1999-01-07    1.1706      1.65\n",
       "4  1999-01-08    1.1577      1.64"
      ]
     },
     "execution_count": 5,
     "metadata": {},
     "output_type": "execute_result"
    }
   ],
   "source": [
    "import pandas as pd\n",
    "import matplotlib.pyplot as plt\n",
    "from scipy import stats\n",
    "\n",
    "# Read the CSV files\n",
    "df_ed = pd.read_csv('euro-dollar-exchange-rate-historical-chart.csv')\n",
    "df_pd = pd.read_csv('pound-dollar-exchange-rate-historical-chart.csv')\n",
    "\n",
    "# Renaming rate columns\n",
    "df_ed.rename(columns={'value': 'EURUSD'}, inplace=True)\n",
    "df_pd.rename(columns={'value': ' value_y'}, inplace=True)\n",
    "\n",
    "# Merge on Date\n",
    "merged_df = df_ed.merge(df_pd, on='date')\n",
    "\n",
    "merged_df.head()"
   ]
  },
  {
   "cell_type": "code",
   "execution_count": 6,
   "id": "4b593d55-1e62-4ffc-94f8-7de09aefa6c9",
   "metadata": {},
   "outputs": [
    {
     "name": "stdout",
     "output_type": "stream",
     "text": [
      "date        0\n",
      " value_x    0\n",
      " value_y    0\n",
      "dtype: int64\n"
     ]
    }
   ],
   "source": [
    "# Drop rows with any NaN values\n",
    "print(merged_df.isna().sum())\n",
    "# merged_df = merged_df.dropna()"
   ]
  },
  {
   "cell_type": "code",
   "execution_count": 7,
   "id": "484f8719-f833-4989-b65a-f2f000ab4e4b",
   "metadata": {},
   "outputs": [
    {
     "data": {
      "image/png": "[encoded data removed]",
      "text/plain": [
       "<Figure size 1000x400 with 2 Axes>"
      ]
     },
     "metadata": {},
     "output_type": "display_data"
    }
   ],
   "source": [
    "# Histograms\n",
    "#merged_df[['EURUSD', ' value_y']].hist(bins=50, figsize=(10,4))\n",
    "merged_df.hist(figsize=(10,4), bins=30)\n",
    "plt.title(\"Histogram of euro-dollar exchange rate\", fontsize=16)\n",
    "plt.show()"
   ]
  },
  {
   "cell_type": "code",
   "execution_count": 8,
   "id": "625f36d2",
   "metadata": {},
   "outputs": [
    {
     "data": {
      "text/plain": [
       "Index(['date', ' value_x', ' value_y'], dtype='object')"
      ]
     },
     "execution_count": 8,
     "metadata": {},
     "output_type": "execute_result"
    }
   ],
   "source": [
    "merged_df.columns"
   ]
  },
  {
   "cell_type": "code",
   "execution_count": 9,
   "id": "aa1f6387",
   "metadata": {},
   "outputs": [
    {
     "data": {
      "image/png": "[encoded data removed]",
      "text/plain": [
       "<Figure size 1500x700 with 1 Axes>"
      ]
     },
     "metadata": {},
     "output_type": "display_data"
    }
   ],
   "source": [
    "# Timeseries\n",
    "plt.figure(figsize=(15,7))\n",
    "plt.plot(merged_df[\" value_x\"], label=\"Euro\")\n",
    "plt.plot(merged_df[\" value_y\"], label=\"Pound\")\n",
    "plt.legend()\n",
    "plt.xlabel('Date')\n",
    "plt.ylabel('Exchange Rate')\n",
    "plt.title('Exchange Rates Over Time')\n",
    "plt.show()"
   ]
  },
  {
   "cell_type": "code",
   "execution_count": 10,
   "id": "64d00592",
   "metadata": {},
   "outputs": [
    {
     "data": {
      "text/plain": [
       "Index(['date', ' value_x', ' value_y'], dtype='object')"
      ]
     },
     "execution_count": 10,
     "metadata": {},
     "output_type": "execute_result"
    }
   ],
   "source": [
    "merged_df.columns"
   ]
  },
  {
   "cell_type": "code",
   "execution_count": 11,
   "id": "79a65b2c",
   "metadata": {},
   "outputs": [
    {
     "name": "stdout",
     "output_type": "stream",
     "text": [
      "Mean:\n",
      " value_x    1.192415\n",
      "value_y    1.543773\n",
      "dtype: float64\n",
      "Variance:\n",
      " value_x    0.024143\n",
      "value_y    0.045517\n",
      "dtype: float64\n",
      "Covariance:\n",
      "           value_x   value_y\n",
      "value_x  0.024143  0.018375\n",
      "value_y  0.018375  0.045517\n",
      "Correlation:\n",
      "           value_x   value_y\n",
      "value_x  1.000000  0.554301\n",
      "value_y  0.554301  1.000000\n"
     ]
    }
   ],
   "source": [
    "mean_vals = merged_df[[' value_x', ' value_y']].mean(numeric_only=True)\n",
    "var_vals = merged_df[[' value_x', ' value_y']].var(numeric_only=True)\n",
    "cov_matrix = merged_df[[' value_x', ' value_y']].cov(numeric_only=True)\n",
    "corr_matrix = merged_df[[' value_x', ' value_y']].corr(numeric_only=True)\n",
    "print('Mean:\\n', mean_vals)\n",
    "print('Variance:\\n', var_vals)\n",
    "print('Covariance:\\n', cov_matrix)\n",
    "print('Correlation:\\n', corr_matrix)"
   ]
  },
  {
   "cell_type": "code",
   "execution_count": 14,
   "id": "cf098e7e-5394-4d51-bb7a-645ef9be82e2",
   "metadata": {},
   "outputs": [
    {
     "data": {
      "image/png": "[encoded data removed]",
      "text/plain": [
       "<Figure size 640x480 with 1 Axes>"
      ]
     },
     "metadata": {},
     "output_type": "display_data"
    }
   ],
   "source": [
    "plt.scatter(merged_df[' value_x'], merged_df[' value_y'], alpha=0.5)\n",
    "plt.xlabel('EUR/USD')\n",
    "plt.ylabel('GBP/USD')\n",
    "plt.title('EUR/USD vs GBP/USD')\n",
    "plt.show()\n",
    "\n",
    "# Split populations (e.g., index 2000)\n",
    "split_idx = 2500  # Adjust as needed\n",
    "df1 = merged_df.iloc[:split_idx]\n",
    "df2 = merged_df.iloc[split_idx:]"
   ]
  },
  {
   "cell_type": "code",
   "execution_count": 19,
   "id": "fd1d7dee-8c38-44e1-9ad9-b772baabb27d",
   "metadata": {},
   "outputs": [
    {
     "data": {
      "image/png": "[encoded data removed]",
      "text/plain": [
       "<Figure size 640x480 with 1 Axes>"
      ]
     },
     "metadata": {},
     "output_type": "display_data"
    }
   ],
   "source": [
    "import numpy as np\n",
    "import matplotlib.pyplot as plt\n",
    "from scipy import stats\n",
    "\n",
    "# Total sample\n",
    "m_total = cov_matrix.loc[' value_x', ' value_y'] / var_vals[' value_x']\n",
    "q_total = mean_vals[' value_y'] - m_total * mean_vals[' value_x']\n",
    "\n",
    "# For split samples\n",
    "def linreg(df):\n",
    "    cov = df[[' value_x', ' value_y']].cov().loc[' value_x', ' value_y']\n",
    "    var = df[' value_x'].var()\n",
    "    m = cov / var\n",
    "    q = df[' value_y'].mean() - m * df[' value_x'].mean()\n",
    "    return m, q\n",
    "\n",
    "m1, q1 = linreg(df1)\n",
    "m2, q2 = linreg(df2)\n",
    "\n",
    "# Plot scatter and regression lines\n",
    "plt.scatter(merged_df[' value_x'], merged_df[' value_y'], alpha=0.3, label='Data')\n",
    "x_vals = np.linspace(merged_df[' value_x'].min(), merged_df[' value_x'].max(), 100)\n",
    "plt.plot(x_vals, m_total * x_vals + q_total, color='red', label='Total Regression')\n",
    "plt.plot(x_vals, m1 * x_vals + q1, color='green', label='Population 1 Regression')\n",
    "plt.plot(x_vals, m2 * x_vals + q2, color='blue', label='Population 2 Regression')\n",
    "plt.xlabel('EUR/USD')\n",
    "plt.ylabel('GBP/USD')\n",
    "plt.legend()\n",
    "plt.title('Regression Lines on Scatter Plot')\n",
    "plt.show()\n"
   ]
  },
  {
   "cell_type": "code",
   "execution_count": 18,
   "id": "c422c204",
   "metadata": {},
   "outputs": [
    {
     "name": "stdout",
     "output_type": "stream",
     "text": [
      "Total Sample: m = 0.7611, q = 0.6362\n",
      "Population 1: m = 0.9219, q = 0.6416\n",
      "Population 2: m = 1.0448, q = 0.1637\n"
     ]
    }
   ],
   "source": [
    "# Display regression parameters\n",
    "print(f\"Total Sample: m = {m_total:.4f}, q = {q_total:.4f}\")\n",
    "print(f\"Population 1: m = {m1:.4f}, q = {q1:.4f}\")\n",
    "print(f\"Population 2: m = {m2:.4f}, q = {q2:.4f}\")"
   ]
  },
  {
   "cell_type": "code",
   "execution_count": null,
   "id": "c2d76742",
   "metadata": {},
   "outputs": [],
   "source": []
  },
  {
   "cell_type": "markdown",
   "id": "3cb20a32",
   "metadata": {},
   "source": [
    "#### 7. The overall regression line indicates an upward trend, but wo diverging clusters reveal differing behaviors.\n",
    "#### The first cluster shows a gentler slope, while the second displays a steeper one\n",
    "#### This shows that the relationship between the Euro and Pound changes at the point of divergence."
   ]
  },
  {
   "cell_type": "code",
   "execution_count": null,
   "id": "b61e86bf-9499-46aa-9516-add1d42627e8",
   "metadata": {},
   "outputs": [
    {
     "ename": "KeyError",
     "evalue": "'GBPUSD'",
     "output_type": "error",
     "traceback": [
      "\u001b[31m---------------------------------------------------------------------------\u001b[39m",
      "\u001b[31mKeyError\u001b[39m                                  Traceback (most recent call last)",
      "\u001b[36mFile \u001b[39m\u001b[32m~/.local/lib/python3.12/site-packages/pandas/core/indexes/base.py:3812\u001b[39m, in \u001b[36mIndex.get_loc\u001b[39m\u001b[34m(self, key)\u001b[39m\n\u001b[32m   3811\u001b[39m \u001b[38;5;28;01mtry\u001b[39;00m:\n\u001b[32m-> \u001b[39m\u001b[32m3812\u001b[39m     \u001b[38;5;28;01mreturn\u001b[39;00m \u001b[38;5;28;43mself\u001b[39;49m\u001b[43m.\u001b[49m\u001b[43m_engine\u001b[49m\u001b[43m.\u001b[49m\u001b[43mget_loc\u001b[49m\u001b[43m(\u001b[49m\u001b[43mcasted_key\u001b[49m\u001b[43m)\u001b[49m\n\u001b[32m   3813\u001b[39m \u001b[38;5;28;01mexcept\u001b[39;00m \u001b[38;5;167;01mKeyError\u001b[39;00m \u001b[38;5;28;01mas\u001b[39;00m err:\n",
      "\u001b[36mFile \u001b[39m\u001b[32mpandas/_libs/index.pyx:167\u001b[39m, in \u001b[36mpandas._libs.index.IndexEngine.get_loc\u001b[39m\u001b[34m()\u001b[39m\n",
      "\u001b[36mFile \u001b[39m\u001b[32mpandas/_libs/index.pyx:196\u001b[39m, in \u001b[36mpandas._libs.index.IndexEngine.get_loc\u001b[39m\u001b[34m()\u001b[39m\n",
      "\u001b[36mFile \u001b[39m\u001b[32mpandas/_libs/hashtable_class_helper.pxi:7088\u001b[39m, in \u001b[36mpandas._libs.hashtable.PyObjectHashTable.get_item\u001b[39m\u001b[34m()\u001b[39m\n",
      "\u001b[36mFile \u001b[39m\u001b[32mpandas/_libs/hashtable_class_helper.pxi:7096\u001b[39m, in \u001b[36mpandas._libs.hashtable.PyObjectHashTable.get_item\u001b[39m\u001b[34m()\u001b[39m\n",
      "\u001b[31mKeyError\u001b[39m: 'GBPUSD'",
      "\nThe above exception was the direct cause of the following exception:\n",
      "\u001b[31mKeyError\u001b[39m                                  Traceback (most recent call last)",
      "\u001b[36mCell\u001b[39m\u001b[36m \u001b[39m\u001b[32mIn[104]\u001b[39m\u001b[32m, line 2\u001b[39m\n\u001b[32m      1\u001b[39m \u001b[38;5;66;03m# Total sample\u001b[39;00m\n\u001b[32m----> \u001b[39m\u001b[32m2\u001b[39m m_total = \u001b[43mcov_matrix\u001b[49m\u001b[43m.\u001b[49m\u001b[43mloc\u001b[49m\u001b[43m[\u001b[49m\u001b[33;43m'\u001b[39;49m\u001b[33;43mEURUSD\u001b[39;49m\u001b[33;43m'\u001b[39;49m\u001b[43m,\u001b[49m\u001b[43m \u001b[49m\u001b[33;43m'\u001b[39;49m\u001b[33;43mGBPUSD\u001b[39;49m\u001b[33;43m'\u001b[39;49m\u001b[43m]\u001b[49m / var_vals[\u001b[33m'\u001b[39m\u001b[33mEURUSD\u001b[39m\u001b[33m'\u001b[39m]\n\u001b[32m      3\u001b[39m q_total = mean_vals[\u001b[33m'\u001b[39m\u001b[33mGBPUSD\u001b[39m\u001b[33m'\u001b[39m] - m_total * mean_vals[\u001b[33m'\u001b[39m\u001b[33mEURUSD\u001b[39m\u001b[33m'\u001b[39m]\n\u001b[32m      5\u001b[39m \u001b[38;5;66;03m# For split samples\u001b[39;00m\n",
      "\u001b[36mFile \u001b[39m\u001b[32m~/.local/lib/python3.12/site-packages/pandas/core/indexing.py:1183\u001b[39m, in \u001b[36m_LocationIndexer.__getitem__\u001b[39m\u001b[34m(self, key)\u001b[39m\n\u001b[32m   1181\u001b[39m     key = \u001b[38;5;28mtuple\u001b[39m(com.apply_if_callable(x, \u001b[38;5;28mself\u001b[39m.obj) \u001b[38;5;28;01mfor\u001b[39;00m x \u001b[38;5;129;01min\u001b[39;00m key)\n\u001b[32m   1182\u001b[39m     \u001b[38;5;28;01mif\u001b[39;00m \u001b[38;5;28mself\u001b[39m._is_scalar_access(key):\n\u001b[32m-> \u001b[39m\u001b[32m1183\u001b[39m         \u001b[38;5;28;01mreturn\u001b[39;00m \u001b[38;5;28;43mself\u001b[39;49m\u001b[43m.\u001b[49m\u001b[43mobj\u001b[49m\u001b[43m.\u001b[49m\u001b[43m_get_value\u001b[49m\u001b[43m(\u001b[49m\u001b[43m*\u001b[49m\u001b[43mkey\u001b[49m\u001b[43m,\u001b[49m\u001b[43m \u001b[49m\u001b[43mtakeable\u001b[49m\u001b[43m=\u001b[49m\u001b[38;5;28;43mself\u001b[39;49m\u001b[43m.\u001b[49m\u001b[43m_takeable\u001b[49m\u001b[43m)\u001b[49m\n\u001b[32m   1184\u001b[39m     \u001b[38;5;28;01mreturn\u001b[39;00m \u001b[38;5;28mself\u001b[39m._getitem_tuple(key)\n\u001b[32m   1185\u001b[39m \u001b[38;5;28;01melse\u001b[39;00m:\n\u001b[32m   1186\u001b[39m     \u001b[38;5;66;03m# we by definition only have the 0th axis\u001b[39;00m\n",
      "\u001b[36mFile \u001b[39m\u001b[32m~/.local/lib/python3.12/site-packages/pandas/core/frame.py:4219\u001b[39m, in \u001b[36mDataFrame._get_value\u001b[39m\u001b[34m(self, index, col, takeable)\u001b[39m\n\u001b[32m   4216\u001b[39m     series = \u001b[38;5;28mself\u001b[39m._ixs(col, axis=\u001b[32m1\u001b[39m)\n\u001b[32m   4217\u001b[39m     \u001b[38;5;28;01mreturn\u001b[39;00m series._values[index]\n\u001b[32m-> \u001b[39m\u001b[32m4219\u001b[39m series = \u001b[38;5;28;43mself\u001b[39;49m\u001b[43m.\u001b[49m\u001b[43m_get_item_cache\u001b[49m\u001b[43m(\u001b[49m\u001b[43mcol\u001b[49m\u001b[43m)\u001b[49m\n\u001b[32m   4220\u001b[39m engine = \u001b[38;5;28mself\u001b[39m.index._engine\n\u001b[32m   4222\u001b[39m \u001b[38;5;28;01mif\u001b[39;00m \u001b[38;5;129;01mnot\u001b[39;00m \u001b[38;5;28misinstance\u001b[39m(\u001b[38;5;28mself\u001b[39m.index, MultiIndex):\n\u001b[32m   4223\u001b[39m     \u001b[38;5;66;03m# CategoricalIndex: Trying to use the engine fastpath may give incorrect\u001b[39;00m\n\u001b[32m   4224\u001b[39m     \u001b[38;5;66;03m#  results if our categories are integers that dont match our codes\u001b[39;00m\n\u001b[32m   4225\u001b[39m     \u001b[38;5;66;03m# IntervalIndex: IntervalTree has no get_loc\u001b[39;00m\n",
      "\u001b[36mFile \u001b[39m\u001b[32m~/.local/lib/python3.12/site-packages/pandas/core/frame.py:4643\u001b[39m, in \u001b[36mDataFrame._get_item_cache\u001b[39m\u001b[34m(self, item)\u001b[39m\n\u001b[32m   4638\u001b[39m res = cache.get(item)\n\u001b[32m   4639\u001b[39m \u001b[38;5;28;01mif\u001b[39;00m res \u001b[38;5;129;01mis\u001b[39;00m \u001b[38;5;28;01mNone\u001b[39;00m:\n\u001b[32m   4640\u001b[39m     \u001b[38;5;66;03m# All places that call _get_item_cache have unique columns,\u001b[39;00m\n\u001b[32m   4641\u001b[39m     \u001b[38;5;66;03m#  pending resolution of GH#33047\u001b[39;00m\n\u001b[32m-> \u001b[39m\u001b[32m4643\u001b[39m     loc = \u001b[38;5;28;43mself\u001b[39;49m\u001b[43m.\u001b[49m\u001b[43mcolumns\u001b[49m\u001b[43m.\u001b[49m\u001b[43mget_loc\u001b[49m\u001b[43m(\u001b[49m\u001b[43mitem\u001b[49m\u001b[43m)\u001b[49m\n\u001b[32m   4644\u001b[39m     res = \u001b[38;5;28mself\u001b[39m._ixs(loc, axis=\u001b[32m1\u001b[39m)\n\u001b[32m   4646\u001b[39m     cache[item] = res\n",
      "\u001b[36mFile \u001b[39m\u001b[32m~/.local/lib/python3.12/site-packages/pandas/core/indexes/base.py:3819\u001b[39m, in \u001b[36mIndex.get_loc\u001b[39m\u001b[34m(self, key)\u001b[39m\n\u001b[32m   3814\u001b[39m     \u001b[38;5;28;01mif\u001b[39;00m \u001b[38;5;28misinstance\u001b[39m(casted_key, \u001b[38;5;28mslice\u001b[39m) \u001b[38;5;129;01mor\u001b[39;00m (\n\u001b[32m   3815\u001b[39m         \u001b[38;5;28misinstance\u001b[39m(casted_key, abc.Iterable)\n\u001b[32m   3816\u001b[39m         \u001b[38;5;129;01mand\u001b[39;00m \u001b[38;5;28many\u001b[39m(\u001b[38;5;28misinstance\u001b[39m(x, \u001b[38;5;28mslice\u001b[39m) \u001b[38;5;28;01mfor\u001b[39;00m x \u001b[38;5;129;01min\u001b[39;00m casted_key)\n\u001b[32m   3817\u001b[39m     ):\n\u001b[32m   3818\u001b[39m         \u001b[38;5;28;01mraise\u001b[39;00m InvalidIndexError(key)\n\u001b[32m-> \u001b[39m\u001b[32m3819\u001b[39m     \u001b[38;5;28;01mraise\u001b[39;00m \u001b[38;5;167;01mKeyError\u001b[39;00m(key) \u001b[38;5;28;01mfrom\u001b[39;00m\u001b[38;5;250m \u001b[39m\u001b[34;01merr\u001b[39;00m\n\u001b[32m   3820\u001b[39m \u001b[38;5;28;01mexcept\u001b[39;00m \u001b[38;5;167;01mTypeError\u001b[39;00m:\n\u001b[32m   3821\u001b[39m     \u001b[38;5;66;03m# If we have a listlike key, _check_indexing_error will raise\u001b[39;00m\n\u001b[32m   3822\u001b[39m     \u001b[38;5;66;03m#  InvalidIndexError. Otherwise we fall through and re-raise\u001b[39;00m\n\u001b[32m   3823\u001b[39m     \u001b[38;5;66;03m#  the TypeError.\u001b[39;00m\n\u001b[32m   3824\u001b[39m     \u001b[38;5;28mself\u001b[39m._check_indexing_error(key)\n",
      "\u001b[31mKeyError\u001b[39m: 'GBPUSD'"
     ]
    }
   ],
   "source": [
    "# Total sample\n",
    "m_total = cov_matrix.loc['EURUSD', 'GBPUSD'] / var_vals['EURUSD']\n",
    "q_total = mean_vals['GBPUSD'] - m_total * mean_vals['EURUSD']\n",
    "\n",
    "# For split samples\n",
    "def linreg(df):\n",
    "    cov = df[['EURUSD', 'GBPUSD']].cov().loc['EURUSD', 'GBPUSD']\n",
    "    var = df['EURUSD'].var()\n",
    "    m = cov / var\n",
    "    q = df['GBPUSD'].mean() - m * df['EURUSD'].mean()\n",
    "    return m, q\n",
    "\n",
    "m1, q1 = linreg(df1)\n",
    "m2, q2 = linreg(df2)\n",
    "\n",
    "# Plot scatter and regression lines\n",
    "plt.scatter(merged_df['EURUSD'], merged_df['GBPUSD'], alpha=0.3, label='Data')\n",
    "x_vals = np.linspace(merged_df['EURUSD'].min(), merged_df['EURUSD'].max(), 100)\n",
    "plt.plot(x_vals, m_total * x_vals + q_total, color='red', label='Total Regression')\n",
    "plt.plot(x_vals, m1 * x_vals + q1, color='green', label='Sample 1 Regression')\n",
    "plt.plot(x_vals, m2 * x_vals + q2, color='blue', label='Sample 2 Regression')\n",
    "plt.xlabel('EUR/USD')\n",
    "plt.ylabel('GBP/USD')\n",
    "plt.legend()\n",
    "plt.title('Regression Lines on Scatter Plot')\n",
    "plt.show()\n"
   ]
  },
  {
   "cell_type": "markdown",
   "id": "bee40e48",
   "metadata": {},
   "source": [
    "### Interpretation: The scatter shows two regimes with distinct linear relationships, splitting the series around index ~2500 yields noticeably different slopes/intercepts suggesting structural shifts in the EUR–GBP relationship versus USD over time."
   ]
  }
 ],
 "metadata": {
  "colab": {
   "provenance": []
  },
  "kernelspec": {
   "display_name": "Python 3",
   "language": "python",
   "name": "python3"
  },
  "language_info": {
   "codemirror_mode": {
    "name": "ipython",
    "version": 3
   },
   "file_extension": ".py",
   "mimetype": "text/x-python",
   "name": "python",
   "nbconvert_exporter": "python",
   "pygments_lexer": "ipython3",
   "version": "3.12.1"
  }
 },
 "nbformat": 4,
 "nbformat_minor": 5
}
